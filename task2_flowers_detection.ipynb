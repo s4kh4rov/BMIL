{
  "nbformat": 4,
  "nbformat_minor": 0,
  "metadata": {
    "colab": {
      "provenance": [],
      "mount_file_id": "1J8Cwh8P7H1z-tVh09fkUvS9BFSzmPxNE",
      "authorship_tag": "ABX9TyO0FU3I8AuzXJD32oFaSChk",
      "include_colab_link": true
    },
    "kernelspec": {
      "name": "python3",
      "display_name": "Python 3"
    },
    "language_info": {
      "name": "python"
    }
  },
  "cells": [
    {
      "cell_type": "markdown",
      "metadata": {
        "id": "view-in-github",
        "colab_type": "text"
      },
      "source": [
        "<a href=\"https://colab.research.google.com/github/s4kh4rov/BMIL/blob/master/task2_flowers_detection.ipynb\" target=\"_parent\"><img src=\"https://colab.research.google.com/assets/colab-badge.svg\" alt=\"Open In Colab\"/></a>"
      ]
    },
    {
      "cell_type": "code",
      "execution_count": 101,
      "metadata": {
        "id": "z_ZjCt8hWmr7"
      },
      "outputs": [],
      "source": [
        "import cv2\n",
        "import os\n",
        "from google.colab.patches import cv2_imshow\n",
        "import matplotlib.pyplot as plt\n",
        "import glob\n",
        "import pandas as pd\n",
        "import numpy as np\n",
        "import chitra\n",
        "from chitra.image import Chitra\n",
        "from chitra.dataloader import Clf\n",
        "from PIL import Image \n",
        "import PIL \n",
        "# pip install chitra"
      ]
    },
    {
      "cell_type": "code",
      "source": [
        "def yolo_to_coco(x_center, y_center, w, h,  image_w, image_h):\n",
        "    w = w * image_w\n",
        "    h = h * image_h\n",
        "    x1 = ((2 * x_center * image_w) - w)/2\n",
        "    y1 = ((2 * y_center * image_h) - h)/2\n",
        "    return [x1, y1, w, h]"
      ],
      "metadata": {
        "id": "EM0OLvggjGeu"
      },
      "execution_count": 74,
      "outputs": []
    },
    {
      "cell_type": "code",
      "source": [
        "def prepare_dataset(path_dir,target_img_h,target_image_w,path_to_save_resized_img):\n",
        "  # all txt annotations -> csv\n",
        "  # resize image and save\n",
        "  # recalculate bbox coordinates\n",
        "  txt_file_list  =  glob.glob(path_dir+'*.txt')\n",
        "  print(\"Общее количество txt файлов в директории \", len(txt_file_list))\n",
        "  result_list = []\n",
        "  for file in txt_file_list:\n",
        "      related_image_filename = os.path.splitext(os.path.basename(file))[0]+\".jpg\"; \n",
        "      path_to_related_img = path_dir+related_image_filename;\n",
        "      image_cv = cv2.imread(path_to_related_img)\n",
        "      height, width, channels = image_cv.shape\n",
        "      with open (file, 'r') as f:\n",
        "          s_text_list = f.readlines()\n",
        "          for line in s_text_list:\n",
        "            li = list(line.split(\" \"))\n",
        "            if(li[0] == '0'):\n",
        "              lable = \"flower\"\n",
        "              x1, y1, w, h = yolo_to_coco(float(li[1]),float(li[2]),float(li[3]),float(li[4]),width,height)\n",
        "              bbox_coord = [x1,y1,x1 + w,y1+h]\n",
        "              image = Chitra(path_to_related_img, bbox_coord, lable)\n",
        "              image.resize_image_with_bbox((target_img_h, target_image_w))\n",
        "\n",
        "              value = (related_image_filename,\n",
        "                       target_image_w,\n",
        "                       target_img_h,\n",
        "                       lable,\n",
        "                       image.bboxes[0].x1,\n",
        "                       image.bboxes[0].y1,\n",
        "                       image.bboxes[0].x2,\n",
        "                       image.bboxes[0].y2)\n",
        "              result_list.append(value)\n",
        "      image.image.save(path_to_save_resized_img+related_image_filename)\n",
        "  column_name = ['filename', 'width', 'height','class', 'xmin', 'ymin', 'xmax', 'ymax']\n",
        "  xml_df = pd.DataFrame(result_list, columns=column_name)\n",
        "  return xml_df"
      ],
      "metadata": {
        "id": "A02EB-A_Xz0j"
      },
      "execution_count": 117,
      "outputs": []
    },
    {
      "cell_type": "code",
      "source": [
        "\n",
        "path_dir = '/content/drive/MyDrive/FlowerLabelsReal/'\n",
        "# path_dir = '/content/drive/MyDrive/test/'\n",
        "# path_to_save_resized_img ='/content/drive/MyDrive/test/resized/' \n",
        "path_to_save_resized_img = '/content/drive/MyDrive/FlowersResized/' \n",
        "# xml_df = prepare_dataset(path_dir,500,500,path_to_save_resized_img)\n",
        "# xml_df.to_csv(\"/content/drive/MyDrive/annotations.csv\",index=None)"
      ],
      "metadata": {
        "colab": {
          "base_uri": "https://localhost:8080/"
        },
        "id": "xiaciYyjwKdF",
        "outputId": "94209777-4682-4be1-cffa-05a7269f8aba"
      },
      "execution_count": 119,
      "outputs": [
        {
          "output_type": "stream",
          "name": "stdout",
          "text": [
            "Общее количество txt файлов в директории  425\n"
          ]
        }
      ]
    }
  ]
}