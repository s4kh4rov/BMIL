{
  "nbformat": 4,
  "nbformat_minor": 0,
  "metadata": {
    "colab": {
      "provenance": [],
      "mount_file_id": "1J8Cwh8P7H1z-tVh09fkUvS9BFSzmPxNE",
      "authorship_tag": "ABX9TyMNlHIpihkroURcdqfXICUe",
      "include_colab_link": true
    },
    "kernelspec": {
      "name": "python3",
      "display_name": "Python 3"
    },
    "language_info": {
      "name": "python"
    }
  },
  "cells": [
    {
      "cell_type": "markdown",
      "metadata": {
        "id": "view-in-github",
        "colab_type": "text"
      },
      "source": [
        "<a href=\"https://colab.research.google.com/github/s4kh4rov/BMIL/blob/master/task2_flowers_detection.ipynb\" target=\"_parent\"><img src=\"https://colab.research.google.com/assets/colab-badge.svg\" alt=\"Open In Colab\"/></a>"
      ]
    },
    {
      "cell_type": "code",
      "execution_count": 73,
      "metadata": {
        "id": "z_ZjCt8hWmr7"
      },
      "outputs": [],
      "source": [
        "import cv2\n",
        "import os\n",
        "from google.colab.patches import cv2_imshow\n",
        "import matplotlib.pyplot as plt\n",
        "import glob\n",
        "import pandas as pd"
      ]
    },
    {
      "cell_type": "code",
      "source": [
        "def yolo_to_coco(x_center, y_center, w, h,  image_w, image_h):\n",
        "    w = w * image_w\n",
        "    h = h * image_h\n",
        "    x1 = ((2 * x_center * image_w) - w)/2\n",
        "    y1 = ((2 * y_center * image_h) - h)/2\n",
        "    return [x1, y1, w, h]"
      ],
      "metadata": {
        "id": "EM0OLvggjGeu"
      },
      "execution_count": 74,
      "outputs": []
    },
    {
      "cell_type": "code",
      "source": [
        "def convert_txt_to_csv(path_dir):\n",
        "  txt_file_list  =  glob.glob(path_dir+'*.txt')\n",
        "  print(\"Общее количество txt файлов в директории \", len(txt_file_list))\n",
        "  result_list = []\n",
        "  for file in txt_file_list:\n",
        "      with open (file, 'r') as f:\n",
        "          s_text_list = f.readlines()\n",
        "          for line in s_text_list:\n",
        "            li = list(line.split(\" \"))\n",
        "            if(li[0] == '0'):\n",
        "              related_image_filename = os.path.splitext(os.path.basename(file))[0]+\".jpg\"; \n",
        "              path_to_related_img = path_dir+related_image_filename;\n",
        "              image = cv2.imread(path_to_related_img)\n",
        "              height, width, channels = image.shape\n",
        "              x1, y1, w, h = yolo_to_coco(float(li[1]),float(li[2]),float(li[3]),float(li[4]),width,height)\n",
        "              cv2.rectangle(image, (int(x1), int(y1)), (int(x1 + w),int(y1+h)), (255,0,0), 1)\n",
        "              value = (related_image_filename,width,height,\"flower\",x1,y1,x1 + w,y1+h)\n",
        "              result_list.append(value)\n",
        "  column_name = ['filename', 'width', 'height','class', 'xmin', 'ymin', 'xmax', 'ymax']\n",
        "  xml_df = pd.DataFrame(result_list, columns=column_name)\n",
        "  return xml_df"
      ],
      "metadata": {
        "id": "A02EB-A_Xz0j"
      },
      "execution_count": 75,
      "outputs": []
    },
    {
      "cell_type": "code",
      "source": [
        "from datetime import datetime\n",
        "path_dir = '/content/drive/MyDrive/FlowerLabelsReal/'\n",
        "# path_dir = '/content/drive/MyDrive/test/'\n",
        "xml_df = convert_txt_to_csv(path_dir)\n",
        "xml_df.to_csv(\"/content/drive/MyDrive/annotations.csv\",index=None)\n",
        "# cv2_imshow(image)\n",
        "# height, width, channels = image.shape\n",
        "# print(height, width)\n",
        "# x1, y1, w, h = yolo_to_coco(0.502000,0.549550,0.708000,0.708000,width,height) \n",
        "# cv2.rectangle(image, (int(x1), int(y1)), (int(x1 + w),int(y1+h)), (255,0,0), 1) \n",
        "# #cv2.rectangle(image, (10, 10), (20,20), (255,0,0), 4) \n",
        "# cv2_imshow(image)"
      ],
      "metadata": {
        "colab": {
          "base_uri": "https://localhost:8080/"
        },
        "id": "xiaciYyjwKdF",
        "outputId": "300a4ea8-c213-4183-b1cf-04eb361ddaf2"
      },
      "execution_count": 78,
      "outputs": [
        {
          "output_type": "stream",
          "name": "stdout",
          "text": [
            "Общее количество txt файлов в директории  425\n"
          ]
        }
      ]
    }
  ]
}