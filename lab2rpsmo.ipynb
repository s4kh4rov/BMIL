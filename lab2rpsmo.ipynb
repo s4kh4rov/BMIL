{
  "nbformat": 4,
  "nbformat_minor": 0,
  "metadata": {
    "colab": {
      "provenance": [],
      "mount_file_id": "1X9RkgScZEqSdAWuXKDW6icJqHS_K5Hf1",
      "authorship_tag": "ABX9TyMb1yJZ1rUYMP3A4p7O1cvz",
      "include_colab_link": true
    },
    "kernelspec": {
      "name": "python3",
      "display_name": "Python 3"
    },
    "language_info": {
      "name": "python"
    }
  },
  "cells": [
    {
      "cell_type": "markdown",
      "metadata": {
        "id": "view-in-github",
        "colab_type": "text"
      },
      "source": [
        "<a href=\"https://colab.research.google.com/github/s4kh4rov/BMIL/blob/master/lab2rpsmo.ipynb\" target=\"_parent\"><img src=\"https://colab.research.google.com/assets/colab-badge.svg\" alt=\"Open In Colab\"/></a>"
      ]
    },
    {
      "cell_type": "code",
      "execution_count": 1,
      "metadata": {
        "colab": {
          "base_uri": "https://localhost:8080/"
        },
        "id": "HbwDc7G5JYSt",
        "outputId": "9bbb6d48-7bea-4c99-f5f4-92e5f5482e6d"
      },
      "outputs": [
        {
          "output_type": "stream",
          "name": "stdout",
          "text": [
            "Collecting opendatasets\n",
            "  Downloading opendatasets-0.1.22-py3-none-any.whl (15 kB)\n",
            "Requirement already satisfied: tqdm in /usr/local/lib/python3.10/dist-packages (from opendatasets) (4.66.2)\n",
            "Requirement already satisfied: kaggle in /usr/local/lib/python3.10/dist-packages (from opendatasets) (1.5.16)\n",
            "Requirement already satisfied: click in /usr/local/lib/python3.10/dist-packages (from opendatasets) (8.1.7)\n",
            "Requirement already satisfied: six>=1.10 in /usr/local/lib/python3.10/dist-packages (from kaggle->opendatasets) (1.16.0)\n",
            "Requirement already satisfied: certifi in /usr/local/lib/python3.10/dist-packages (from kaggle->opendatasets) (2024.2.2)\n",
            "Requirement already satisfied: python-dateutil in /usr/local/lib/python3.10/dist-packages (from kaggle->opendatasets) (2.8.2)\n",
            "Requirement already satisfied: requests in /usr/local/lib/python3.10/dist-packages (from kaggle->opendatasets) (2.31.0)\n",
            "Requirement already satisfied: python-slugify in /usr/local/lib/python3.10/dist-packages (from kaggle->opendatasets) (8.0.4)\n",
            "Requirement already satisfied: urllib3 in /usr/local/lib/python3.10/dist-packages (from kaggle->opendatasets) (2.0.7)\n",
            "Requirement already satisfied: bleach in /usr/local/lib/python3.10/dist-packages (from kaggle->opendatasets) (6.1.0)\n",
            "Requirement already satisfied: webencodings in /usr/local/lib/python3.10/dist-packages (from bleach->kaggle->opendatasets) (0.5.1)\n",
            "Requirement already satisfied: text-unidecode>=1.3 in /usr/local/lib/python3.10/dist-packages (from python-slugify->kaggle->opendatasets) (1.3)\n",
            "Requirement already satisfied: charset-normalizer<4,>=2 in /usr/local/lib/python3.10/dist-packages (from requests->kaggle->opendatasets) (3.3.2)\n",
            "Requirement already satisfied: idna<4,>=2.5 in /usr/local/lib/python3.10/dist-packages (from requests->kaggle->opendatasets) (3.6)\n",
            "Installing collected packages: opendatasets\n",
            "Successfully installed opendatasets-0.1.22\n",
            "Requirement already satisfied: pandas in /usr/local/lib/python3.10/dist-packages (2.0.3)\n",
            "Requirement already satisfied: python-dateutil>=2.8.2 in /usr/local/lib/python3.10/dist-packages (from pandas) (2.8.2)\n",
            "Requirement already satisfied: pytz>=2020.1 in /usr/local/lib/python3.10/dist-packages (from pandas) (2023.4)\n",
            "Requirement already satisfied: tzdata>=2022.1 in /usr/local/lib/python3.10/dist-packages (from pandas) (2024.1)\n",
            "Requirement already satisfied: numpy>=1.21.0 in /usr/local/lib/python3.10/dist-packages (from pandas) (1.25.2)\n",
            "Requirement already satisfied: six>=1.5 in /usr/local/lib/python3.10/dist-packages (from python-dateutil>=2.8.2->pandas) (1.16.0)\n"
          ]
        }
      ],
      "source": [
        "!pip install opendatasets\n",
        "!pip install pandas"
      ]
    },
    {
      "cell_type": "code",
      "source": [
        "import opendatasets as od\n",
        "import pandas\n",
        "import tensorflow as tf\n",
        "from tensorflow import keras\n",
        "from tensorflow.keras import Sequential\n",
        "from tensorflow.keras.layers import Conv2D\n",
        "from tensorflow.keras.layers import Dense\n",
        "from tensorflow.keras.layers import MaxPooling2D\n",
        "from tensorflow.keras.layers import Flatten\n",
        "from tensorflow.keras.layers import Rescaling\n",
        "from tensorflow.keras.callbacks import EarlyStopping, ModelCheckpoint\n",
        "from tensorflow.keras.models import load_model\n",
        "from tensorflow.keras.layers import Dropout , BatchNormalization\n",
        "import pandas as pd\n"
      ],
      "metadata": {
        "id": "_4CmWfOMKWIQ"
      },
      "execution_count": 14,
      "outputs": []
    },
    {
      "cell_type": "code",
      "source": [
        "od.download(\"https://www.kaggle.com/datasets/ashishmotwani/tomato/data?select=train\")"
      ],
      "metadata": {
        "colab": {
          "base_uri": "https://localhost:8080/"
        },
        "id": "64vswwyOLbv_",
        "outputId": "cc693bcd-b2f3-4f98-a41e-0ad04431e952"
      },
      "execution_count": 4,
      "outputs": [
        {
          "output_type": "stream",
          "name": "stdout",
          "text": [
            "Please provide your Kaggle credentials to download this dataset. Learn more: http://bit.ly/kaggle-creds\n",
            "Your Kaggle username: alexsakharov\n",
            "Your Kaggle Key: ··········\n",
            "Downloading tomato.zip to ./tomato\n"
          ]
        },
        {
          "output_type": "stream",
          "name": "stderr",
          "text": [
            "100%|██████████| 1.37G/1.37G [00:27<00:00, 53.8MB/s]\n"
          ]
        },
        {
          "output_type": "stream",
          "name": "stdout",
          "text": [
            "\n"
          ]
        }
      ]
    },
    {
      "cell_type": "code",
      "source": [
        "from pathlib import Path\n",
        "import imghdr\n",
        "import os\n",
        "\n",
        "# data_dir = \"/content/tomato/train/Early_blight/\"\n",
        "# data_dir = \"/content/tomato/train/Leaf_Mold/\"\n",
        "# data_dir = \"/content/tomato/train/Septoria_leaf_spot/\"\n",
        "# data_dir = \"/content/tomato/train/healthy/\"\n",
        "# data_dir = \"/content/tomato/valid/Septoria_leaf_spot/\"\n",
        "# data_dir = \"/content/tomato/valid/healthy/\"\n",
        "image_extensions = [\".png\", \".jpg\"]\n",
        "\n",
        "img_type_accepted_by_tf = [\"bmp\", \"gif\", \"jpeg\", \"png\"]\n",
        "for filepath in Path(data_dir).rglob(\"*\"):\n",
        "    if filepath.suffix.lower() in image_extensions:\n",
        "        img_type = imghdr.what(filepath)\n",
        "        if img_type is None:\n",
        "            print(f\"{filepath} is not an image\")\n",
        "            os.remove(filepath)\n",
        "        elif img_type not in img_type_accepted_by_tf:\n",
        "            print(f\"{filepath} is a {img_type}, not accepted by TensorFlow\")\n",
        "            os.remove(filepath)"
      ],
      "metadata": {
        "id": "KgGE4-BFUWNO"
      },
      "execution_count": 51,
      "outputs": []
    },
    {
      "cell_type": "code",
      "source": [
        "train_datadir = '/content/tomato/train/'\n",
        "valid_datadir = '/content/tomato/valid/'\n",
        "# IMG_SIZE = 224\n",
        "IMG_SIZE = 64\n",
        "\n",
        "train_ds = tf.keras.utils.image_dataset_from_directory(\n",
        "  train_datadir,\n",
        "  # subset=\"training\",\n",
        "  # validation_split = 0.7,\n",
        "  color_mode='rgb',\n",
        "  seed=123,\n",
        "  image_size=(IMG_SIZE, IMG_SIZE),\n",
        "  batch_size=15)\n",
        "\n",
        "val_ds = tf.keras.utils.image_dataset_from_directory(\n",
        "  valid_datadir,\n",
        "  validation_split=0.3,\n",
        "  subset=\"validation\",\n",
        "  color_mode='rgb',\n",
        "  seed=123,\n",
        "  image_size=(IMG_SIZE, IMG_SIZE),\n",
        "  batch_size=15)\n",
        "\n",
        "test_ds = tf.keras.utils.image_dataset_from_directory(\n",
        "  valid_datadir,\n",
        "  validation_split=0.3,\n",
        "  subset=\"training\",\n",
        "  color_mode='rgb',\n",
        "  seed=123,\n",
        "  image_size=(IMG_SIZE, IMG_SIZE),\n",
        "  batch_size=15)"
      ],
      "metadata": {
        "colab": {
          "base_uri": "https://localhost:8080/"
        },
        "id": "h23pLOSYOTPx",
        "outputId": "ee4a09de-78e1-478e-b4ec-4325824f8445"
      },
      "execution_count": 63,
      "outputs": [
        {
          "output_type": "stream",
          "name": "stdout",
          "text": [
            "Found 25838 files belonging to 11 classes.\n",
            "Found 6678 files belonging to 11 classes.\n",
            "Using 2003 files for validation.\n",
            "Found 6678 files belonging to 11 classes.\n",
            "Using 4675 files for training.\n"
          ]
        }
      ]
    },
    {
      "cell_type": "code",
      "source": [
        "class_names = test_ds.class_names\n",
        "class_names"
      ],
      "metadata": {
        "colab": {
          "base_uri": "https://localhost:8080/"
        },
        "id": "EJYC250wOKyF",
        "outputId": "89fa779a-efe5-46fd-8a5f-538ea7e02541"
      },
      "execution_count": 64,
      "outputs": [
        {
          "output_type": "execute_result",
          "data": {
            "text/plain": [
              "['Bacterial_spot',\n",
              " 'Early_blight',\n",
              " 'Late_blight',\n",
              " 'Leaf_Mold',\n",
              " 'Septoria_leaf_spot',\n",
              " 'Spider_mites Two-spotted_spider_mite',\n",
              " 'Target_Spot',\n",
              " 'Tomato_Yellow_Leaf_Curl_Virus',\n",
              " 'Tomato_mosaic_virus',\n",
              " 'healthy',\n",
              " 'powdery_mildew']"
            ]
          },
          "metadata": {},
          "execution_count": 64
        }
      ]
    },
    {
      "cell_type": "code",
      "source": [
        "classifier = Sequential()\n",
        "classifier.add(Rescaling(1./255, input_shape=(IMG_SIZE, IMG_SIZE, 3))),\n",
        "classifier.add(Conv2D(filters=32, kernel_size=3, activation='relu', padding='same', strides=1))\n",
        "classifier.add(MaxPooling2D(pool_size=(2,2), padding='valid', strides=2))\n",
        "classifier.add(Conv2D(filters=32, kernel_size=3,activation='relu', padding='same', strides=1))\n",
        "classifier.add(MaxPooling2D(pool_size=(2,2), padding='valid', strides=2))\n",
        "classifier.add(Flatten())\n",
        "classifier.add(Dense(units=128, activation='relu'))\n",
        "classifier.add(Dense(units=11, activation='softmax'))\n",
        "classifier.compile(optimizer='adam', loss='sparse_categorical_crossentropy', metrics=['accuracy'])\n",
        "classifier.summary()"
      ],
      "metadata": {
        "colab": {
          "base_uri": "https://localhost:8080/"
        },
        "id": "dcaru9eQOYq1",
        "outputId": "66895ff0-84ce-4075-d9b4-fa0661db566c"
      },
      "execution_count": 65,
      "outputs": [
        {
          "output_type": "stream",
          "name": "stdout",
          "text": [
            "Model: \"sequential_7\"\n",
            "_________________________________________________________________\n",
            " Layer (type)                Output Shape              Param #   \n",
            "=================================================================\n",
            " rescaling_7 (Rescaling)     (None, 64, 64, 3)         0         \n",
            "                                                                 \n",
            " conv2d_14 (Conv2D)          (None, 64, 64, 32)        896       \n",
            "                                                                 \n",
            " max_pooling2d_14 (MaxPooli  (None, 32, 32, 32)        0         \n",
            " ng2D)                                                           \n",
            "                                                                 \n",
            " conv2d_15 (Conv2D)          (None, 32, 32, 32)        9248      \n",
            "                                                                 \n",
            " max_pooling2d_15 (MaxPooli  (None, 16, 16, 32)        0         \n",
            " ng2D)                                                           \n",
            "                                                                 \n",
            " flatten_7 (Flatten)         (None, 8192)              0         \n",
            "                                                                 \n",
            " dense_10 (Dense)            (None, 128)               1048704   \n",
            "                                                                 \n",
            " dense_11 (Dense)            (None, 11)                1419      \n",
            "                                                                 \n",
            "=================================================================\n",
            "Total params: 1060267 (4.04 MB)\n",
            "Trainable params: 1060267 (4.04 MB)\n",
            "Non-trainable params: 0 (0.00 Byte)\n",
            "_________________________________________________________________\n"
          ]
        }
      ]
    },
    {
      "cell_type": "code",
      "source": [
        "callbacks = [EarlyStopping(monitor='val_loss',min_delta=0.01,\n",
        "                           patience=2),\n",
        "             ModelCheckpoint('/content/drive/MyDrive/rpsmo_lab2_model/tomato_model_checkpoint.keras',\n",
        "                             save_best_only=True)]"
      ],
      "metadata": {
        "id": "XSYirYFSPGIR"
      },
      "execution_count": 67,
      "outputs": []
    },
    {
      "cell_type": "code",
      "source": [
        "history = classifier.fit(train_ds, epochs=50,\n",
        "                        validation_data = val_ds,\n",
        "                        callbacks = callbacks)"
      ],
      "metadata": {
        "colab": {
          "base_uri": "https://localhost:8080/"
        },
        "id": "5__cg4pJPfjz",
        "outputId": "b0a4839d-ed2b-47d9-e745-2f7bf6083539"
      },
      "execution_count": 68,
      "outputs": [
        {
          "output_type": "stream",
          "name": "stdout",
          "text": [
            "Epoch 1/50\n",
            "1723/1723 [==============================] - 211s 92ms/step - loss: 1.1285 - accuracy: 0.6094 - val_loss: 0.7022 - val_accuracy: 0.7579\n",
            "Epoch 2/50\n",
            "1723/1723 [==============================] - 160s 93ms/step - loss: 0.6106 - accuracy: 0.7881 - val_loss: 0.5452 - val_accuracy: 0.8163\n",
            "Epoch 3/50\n",
            "1723/1723 [==============================] - 157s 91ms/step - loss: 0.4502 - accuracy: 0.8457 - val_loss: 0.4926 - val_accuracy: 0.8347\n",
            "Epoch 4/50\n",
            "1723/1723 [==============================] - 163s 94ms/step - loss: 0.3241 - accuracy: 0.8892 - val_loss: 0.5699 - val_accuracy: 0.8303\n",
            "Epoch 5/50\n",
            "1723/1723 [==============================] - 155s 90ms/step - loss: 0.2448 - accuracy: 0.9135 - val_loss: 0.6383 - val_accuracy: 0.8347\n"
          ]
        }
      ]
    },
    {
      "cell_type": "code",
      "source": [
        "classifier.save('/content/drive/MyDrive/rpsmo_lab2_models/romato_1_model.keras')"
      ],
      "metadata": {
        "id": "_FGcjGZgempo"
      },
      "execution_count": 69,
      "outputs": []
    },
    {
      "cell_type": "code",
      "source": [
        "history_frame = pd.DataFrame(history.history)\n",
        "history_frame.loc[:,['loss','val_loss']].plot()\n",
        "history_frame.loc[:,['accuracy','val_accuracy']].plot()"
      ],
      "metadata": {
        "colab": {
          "base_uri": "https://localhost:8080/",
          "height": 860
        },
        "id": "8FJ_YnwSe4T-",
        "outputId": "6fdb212d-dd3c-44f4-85cf-50a4f4c369ce"
      },
      "execution_count": 70,
      "outputs": [
        {
          "output_type": "execute_result",
          "data": {
            "text/plain": [
              "<Axes: >"
            ]
          },
          "metadata": {},
          "execution_count": 70
        },
        {
          "output_type": "display_data",
          "data": {
            "text/plain": [
              "<Figure size 640x480 with 1 Axes>"
            ],
            "image/png": "[encoded data removed]"
          },
          "metadata": {}
        },
        {
          "output_type": "display_data",
          "data": {
            "text/plain": [
              "<Figure size 640x480 with 1 Axes>"
            ],
            "image/png": "[encoded data removed]"
          },
          "metadata": {}
        }
      ]
    },
    {
      "cell_type": "code",
      "source": [
        "result_test = classifier.evaluate(test_ds)"
      ],
      "metadata": {
        "colab": {
          "base_uri": "https://localhost:8080/"
        },
        "id": "E6Nq8yc0fCs_",
        "outputId": "74f920e3-b836-4abf-8370-d1569532b0eb"
      },
      "execution_count": 71,
      "outputs": [
        {
          "output_type": "stream",
          "name": "stdout",
          "text": [
            "312/312 [==============================] - 14s 45ms/step - loss: 0.6322 - accuracy: 0.8295\n"
          ]
        }
      ]
    }
  ]
}