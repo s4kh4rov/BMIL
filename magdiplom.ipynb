{
  "nbformat": 4,
  "nbformat_minor": 0,
  "metadata": {
    "colab": {
      "provenance": [],
      "mount_file_id": "https://github.com/s4kh4rov/BMIL/blob/master/magdiplom.ipynb",
      "authorship_tag": "ABX9TyNGRzA0juB3RjqpAGrKs4im",
      "include_colab_link": true
    },
    "kernelspec": {
      "name": "python3",
      "display_name": "Python 3"
    },
    "language_info": {
      "name": "python"
    }
  },
  "cells": [
    {
      "cell_type": "markdown",
      "metadata": {
        "id": "view-in-github",
        "colab_type": "text"
      },
      "source": [
        "<a href=\"https://colab.research.google.com/github/s4kh4rov/BMIL/blob/master/magdiplom.ipynb\" target=\"_parent\"><img src=\"https://colab.research.google.com/assets/colab-badge.svg\" alt=\"Open In Colab\"/></a>"
      ]
    },
    {
      "cell_type": "code",
      "execution_count": 40,
      "metadata": {
        "id": "3UcFs-beCX39"
      },
      "outputs": [],
      "source": [
        "import cv2\n",
        "import numpy as np\n",
        "from google.colab.patches import cv2_imshow\n",
        "import glob\n",
        "import os\n",
        "import tensorflow as tf\n",
        "from tensorflow.keras import datasets, layers, models"
      ]
    },
    {
      "cell_type": "code",
      "source": [
        "def resizeImage(width, height, image):\n",
        "  down_points = (width, height)\n",
        "  return cv2.resize(image, down_points, interpolation= cv2.INTER_LINEAR)"
      ],
      "metadata": {
        "id": "5SxvK-2WLNLf"
      },
      "execution_count": 41,
      "outputs": []
    },
    {
      "cell_type": "code",
      "source": [
        "# image = cv2.imread('/content/drive/MyDrive/diplom/photos/IMG_1772_016.jpg')\n",
        "all_img_paths = glob.glob(\"/content/drive/MyDrive/diplom/photos/doors/*.jpg\")\n",
        "path = '/content/drive/MyDrive/diplom/readyImg/door/'\n",
        "i=0\n",
        "for img_path in all_img_paths:\n",
        "  # print(img_path)\n",
        "  img = cv2.imread(img_path)\n",
        "  img300 = resizeImage(300,300,img)\n",
        "  imgEdge = cv2.edgePreservingFilter(img300, flags=1, sigma_s=60, sigma_r=0.4)\n",
        "  imgGray = cv2.cvtColor(imgEdge, cv2.COLOR_BGR2GRAY)\n",
        "  imgLap = cv2.Laplacian(imgGray, cv2.CV_64F, ksize=5)\n",
        "  img64 = resizeImage(64,64,imgLap)\n",
        "  # cv2_imshow(img64)\n",
        "  cv2.imwrite(os.path.join(path , 'door'+str(i)+'.jpg'), img64)\n",
        "  i+=1"
      ],
      "metadata": {
        "id": "iaqz1zLGDiyC"
      },
      "execution_count": 43,
      "outputs": []
    },
    {
      "cell_type": "code",
      "source": [
        "DATADIR = \"/content/drive/MyDrive/diplom/readyImg/\"\n",
        "\n",
        "LABELS = [\"stair\", \"door\"]\n",
        "\n",
        "X_TRAIN = []\n",
        "Y_TRAIN = []\n",
        "\n",
        "IMG_SIZE = 64\n",
        "for category in LABELS:\n",
        "    path = os.path.join(DATADIR, category)\n",
        "    class_num = LABELS.index(category)\n",
        "    for img in os.listdir(path):\n",
        "        try:\n",
        "            img_array = cv2.imread(os.path.join(path, img),cv2.IMREAD_GRAYSCALE)\n",
        "            new_array = cv2.resize(img_array, (IMG_SIZE, IMG_SIZE))\n",
        "            X_TRAIN.append(new_array)\n",
        "            Y_TRAIN.append(class_num)\n",
        "        except Exception as e:\n",
        "            pass\n",
        "\n",
        "X_TRAIN = np.array(X_TRAIN).reshape(-1, IMG_SIZE, IMG_SIZE,1)\n",
        "# X_TRAIN = np.array(X_TRAIN)\n",
        "Y_TRAIN = np.array(Y_TRAIN)\n",
        "X_TRAIN = X_TRAIN/255"
      ],
      "metadata": {
        "id": "sn9QJ-FrjZUe"
      },
      "execution_count": 72,
      "outputs": []
    },
    {
      "cell_type": "code",
      "source": [
        "print(len(X_TRAIN))\n",
        "print(len(Y_TRAIN))\n",
        "#print(X_TRAIN)"
      ],
      "metadata": {
        "id": "xLtqDTOuwZkT",
        "outputId": "bc09dc88-c0ad-4445-f1d2-3f5a5fe1e6c2",
        "colab": {
          "base_uri": "https://localhost:8080/"
        }
      },
      "execution_count": 73,
      "outputs": [
        {
          "output_type": "stream",
          "name": "stdout",
          "text": [
            "689\n",
            "689\n"
          ]
        }
      ]
    },
    {
      "cell_type": "code",
      "source": [
        "model = models.Sequential()\n",
        "# model.add(layers.Conv2D(32, (5, 5), activation='relu',padding='same' ,input_shape=(64, 64,3)))\n",
        "model.add(layers.Conv2D(32, (5, 5), activation='relu',padding='same' ,input_shape=(64, 64,1)))\n",
        "model.add(layers.MaxPooling2D(pool_size=(2,2)))\n",
        "model.add(layers.Activation(\"relu\"))\n",
        "\n",
        "model.add(layers.Conv2D(32, (5, 5), activation='relu',padding='same' ,input_shape=(32, 32,1)))\n",
        "model.add(layers.MaxPooling2D(pool_size=(2,2)))\n",
        "model.add(layers.Activation(\"relu\"))\n",
        "\n",
        "model.add(layers.Conv2D(64, (5, 5), activation='relu',padding='same' ,input_shape=(16, 16,1)))\n",
        "model.add(layers.MaxPooling2D(pool_size=(2,2)))\n",
        "model.add(layers.Activation(\"relu\"))\n",
        "model.add(layers.MaxPooling2D(pool_size=(2,2)))\n",
        "model.add(layers.Flatten())\n",
        "model.add(layers.Dense(64))\n",
        "model.add(layers.Dense(2))\n",
        "model.add(layers.Activation(\"softmax\"))\n",
        "\n",
        "model.summary()\n",
        "\n",
        "model.compile(optimizer='adam', loss='sparse_categorical_crossentropy', metrics=['accuracy'])"
      ],
      "metadata": {
        "id": "iUMkoJGmUZOf",
        "outputId": "6d22e6cf-7269-4cd0-a17d-76560425ad9d",
        "colab": {
          "base_uri": "https://localhost:8080/"
        }
      },
      "execution_count": 74,
      "outputs": [
        {
          "output_type": "stream",
          "name": "stdout",
          "text": [
            "Model: \"sequential_38\"\n",
            "_________________________________________________________________\n",
            " Layer (type)                Output Shape              Param #   \n",
            "=================================================================\n",
            " conv2d_75 (Conv2D)          (None, 64, 64, 32)        832       \n",
            "                                                                 \n",
            " max_pooling2d_81 (MaxPooli  (None, 32, 32, 32)        0         \n",
            " ng2D)                                                           \n",
            "                                                                 \n",
            " activation_71 (Activation)  (None, 32, 32, 32)        0         \n",
            "                                                                 \n",
            " conv2d_76 (Conv2D)          (None, 32, 32, 32)        25632     \n",
            "                                                                 \n",
            " max_pooling2d_82 (MaxPooli  (None, 16, 16, 32)        0         \n",
            " ng2D)                                                           \n",
            "                                                                 \n",
            " activation_72 (Activation)  (None, 16, 16, 32)        0         \n",
            "                                                                 \n",
            " conv2d_77 (Conv2D)          (None, 16, 16, 64)        51264     \n",
            "                                                                 \n",
            " max_pooling2d_83 (MaxPooli  (None, 8, 8, 64)          0         \n",
            " ng2D)                                                           \n",
            "                                                                 \n",
            " activation_73 (Activation)  (None, 8, 8, 64)          0         \n",
            "                                                                 \n",
            " max_pooling2d_84 (MaxPooli  (None, 4, 4, 64)          0         \n",
            " ng2D)                                                           \n",
            "                                                                 \n",
            " flatten_7 (Flatten)         (None, 1024)              0         \n",
            "                                                                 \n",
            " dense_25 (Dense)            (None, 64)                65600     \n",
            "                                                                 \n",
            " dense_26 (Dense)            (None, 2)                 130       \n",
            "                                                                 \n",
            " activation_74 (Activation)  (None, 2)                 0         \n",
            "                                                                 \n",
            "=================================================================\n",
            "Total params: 143458 (560.38 KB)\n",
            "Trainable params: 143458 (560.38 KB)\n",
            "Non-trainable params: 0 (0.00 Byte)\n",
            "_________________________________________________________________\n"
          ]
        }
      ]
    },
    {
      "cell_type": "code",
      "source": [
        "history = model.fit(X_TRAIN,Y_TRAIN, epochs=10, validation_split=0.1)\n",
        "print('\\nhistory dict:', history.history)"
      ],
      "metadata": {
        "id": "SJuXjuW4jDsR",
        "outputId": "5f6c5a3e-d370-4e57-f7ef-6f5e42e2e767",
        "colab": {
          "base_uri": "https://localhost:8080/"
        }
      },
      "execution_count": 75,
      "outputs": [
        {
          "output_type": "stream",
          "name": "stdout",
          "text": [
            "Epoch 1/10\n",
            "20/20 [==============================] - 8s 340ms/step - loss: 0.2567 - accuracy: 0.8806 - val_loss: 0.0010 - val_accuracy: 1.0000\n",
            "Epoch 2/10\n",
            "20/20 [==============================] - 8s 376ms/step - loss: 0.0246 - accuracy: 0.9952 - val_loss: 2.3656e-04 - val_accuracy: 1.0000\n",
            "Epoch 3/10\n",
            "20/20 [==============================] - 5s 268ms/step - loss: 0.0012 - accuracy: 1.0000 - val_loss: 0.0017 - val_accuracy: 1.0000\n",
            "Epoch 4/10\n",
            "20/20 [==============================] - 8s 386ms/step - loss: 2.6057e-04 - accuracy: 1.0000 - val_loss: 0.0011 - val_accuracy: 1.0000\n",
            "Epoch 5/10\n",
            "20/20 [==============================] - 6s 296ms/step - loss: 1.4862e-04 - accuracy: 1.0000 - val_loss: 5.2905e-04 - val_accuracy: 1.0000\n",
            "Epoch 6/10\n",
            "20/20 [==============================] - 5s 266ms/step - loss: 1.1380e-04 - accuracy: 1.0000 - val_loss: 3.8615e-04 - val_accuracy: 1.0000\n",
            "Epoch 7/10\n",
            "20/20 [==============================] - 8s 433ms/step - loss: 9.4191e-05 - accuracy: 1.0000 - val_loss: 3.5806e-04 - val_accuracy: 1.0000\n",
            "Epoch 8/10\n",
            "20/20 [==============================] - 5s 272ms/step - loss: 7.8965e-05 - accuracy: 1.0000 - val_loss: 3.1564e-04 - val_accuracy: 1.0000\n",
            "Epoch 9/10\n",
            "20/20 [==============================] - 6s 319ms/step - loss: 6.8321e-05 - accuracy: 1.0000 - val_loss: 2.9600e-04 - val_accuracy: 1.0000\n",
            "Epoch 10/10\n",
            "20/20 [==============================] - 8s 377ms/step - loss: 5.7729e-05 - accuracy: 1.0000 - val_loss: 2.5416e-04 - val_accuracy: 1.0000\n",
            "\n",
            "history dict: {'loss': [0.25673192739486694, 0.02457849495112896, 0.0012254843022674322, 0.000260574888670817, 0.000148623701534234, 0.00011379588977433741, 9.419120760867372e-05, 7.896512397564948e-05, 6.83207981637679e-05, 5.7728917454369366e-05], 'accuracy': [0.8806451559066772, 0.9951612949371338, 1.0, 1.0, 1.0, 1.0, 1.0, 1.0, 1.0, 1.0], 'val_loss': [0.0010333374375477433, 0.00023656435951124877, 0.0017236032290384173, 0.0010570756858214736, 0.0005290482076816261, 0.0003861481964122504, 0.0003580550546757877, 0.000315638113534078, 0.000296004640404135, 0.00025415740674361587], 'val_accuracy': [1.0, 1.0, 1.0, 1.0, 1.0, 1.0, 1.0, 1.0, 1.0, 1.0]}\n"
          ]
        }
      ]
    },
    {
      "cell_type": "code",
      "source": [
        "import matplotlib.pyplot as plt\n",
        "TESTDIR = \"/content/drive/MyDrive/diplom/test/\"\n",
        "for img in os.listdir(TESTDIR):\n",
        "    try:\n",
        "        img_array = cv2.imread(os.path.join(TESTDIR, img))\n",
        "        new_img = cv2.resize(img_array, (IMG_SIZE, IMG_SIZE))\n",
        "        new_shape = new_img.reshape(-1, IMG_SIZE, IMG_SIZE, 1)\n",
        "        predictions = model.predict(new_shape)\n",
        "        plt.imshow(new_img)\n",
        "        print(predictions)\n",
        "        print(LABELS[np.argmax(predictions)])\n",
        "    except Exception as e:\n",
        "        pass"
      ],
      "metadata": {
        "id": "y7DK3k3m2nCS",
        "outputId": "0356ba7f-6b80-4661-e743-52dde05dca12",
        "colab": {
          "base_uri": "https://localhost:8080/",
          "height": 517
        }
      },
      "execution_count": 77,
      "outputs": [
        {
          "output_type": "stream",
          "name": "stdout",
          "text": [
            "1/1 [==============================] - 0s 432ms/step\n",
            "[[1. 0.]\n",
            " [1. 0.]\n",
            " [1. 0.]]\n",
            "stair\n"
          ]
        },
        {
          "output_type": "display_data",
          "data": {
            "text/plain": [
              "<Figure size 640x480 with 1 Axes>"
            ],
            "image/png": "[encoded data removed]"
          },
          "metadata": {}
        }
      ]
    }
  ]
}