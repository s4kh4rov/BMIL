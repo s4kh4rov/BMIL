{
  "nbformat": 4,
  "nbformat_minor": 0,
  "metadata": {
    "colab": {
      "provenance": [],
      "mount_file_id": "11Ys3b9vDs4Ov20xwmnVKX_rKufGY-5Ct",
      "authorship_tag": "ABX9TyOPjlnTeVDcirU5GewxfjJ9",
      "include_colab_link": true
    },
    "kernelspec": {
      "name": "python3",
      "display_name": "Python 3"
    },
    "language_info": {
      "name": "python"
    }
  },
  "cells": [
    {
      "cell_type": "markdown",
      "metadata": {
        "id": "view-in-github",
        "colab_type": "text"
      },
      "source": [
        "<a href=\"https://colab.research.google.com/github/s4kh4rov/BMIL/blob/master/magdiplom.ipynb\" target=\"_parent\"><img src=\"https://colab.research.google.com/assets/colab-badge.svg\" alt=\"Open In Colab\"/></a>"
      ]
    },
    {
      "cell_type": "code",
      "execution_count": 30,
      "metadata": {
        "id": "3UcFs-beCX39"
      },
      "outputs": [],
      "source": [
        "import cv2\n",
        "import numpy as np\n",
        "from google.colab.patches import cv2_imshow\n",
        "import glob\n",
        "import os"
      ]
    },
    {
      "cell_type": "code",
      "source": [
        "def resizeImage(width, height, image):\n",
        "  down_points = (width, height)\n",
        "  return cv2.resize(image, down_points, interpolation= cv2.INTER_LINEAR)"
      ],
      "metadata": {
        "id": "5SxvK-2WLNLf"
      },
      "execution_count": 34,
      "outputs": []
    },
    {
      "cell_type": "code",
      "source": [
        "# image = cv2.imread('/content/drive/MyDrive/diplom/photos/IMG_1772_016.jpg')\n",
        "all_img_paths = glob.glob(\"/content/drive/MyDrive/diplom/photos/*.jpg\")\n",
        "path = '/content/drive/MyDrive/diplom/readyImg/'\n",
        "i=0\n",
        "for img_path in all_img_paths:\n",
        "  # print(img_path)\n",
        "  img = cv2.imread(img_path)\n",
        "  img300 = resizeImage(300,300,img)\n",
        "  imgEdge = cv2.edgePreservingFilter(img300, flags=1, sigma_s=60, sigma_r=0.4)\n",
        "  imgGray = cv2.cvtColor(imgEdge, cv2.COLOR_BGR2GRAY)\n",
        "  imgLap = cv2.Laplacian(imgGray, cv2.CV_64F, ksize=5)\n",
        "  img64 = resizeImage(64,64,imgLap)\n",
        "  # cv2_imshow(img64)\n",
        "  cv2.imwrite(os.path.join(path , 'stairs'+str(i)+'.jpg'), img64)\n",
        "  i+=1"
      ],
      "metadata": {
        "id": "iaqz1zLGDiyC"
      },
      "execution_count": 38,
      "outputs": []
    }
  ]
}