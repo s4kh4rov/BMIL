{
  "nbformat": 4,
  "nbformat_minor": 0,
  "metadata": {
    "colab": {
      "provenance": [],
      "mount_file_id": "https://github.com/s4kh4rov/BMIL/blob/master/magdiplom.ipynb",
      "authorship_tag": "ABX9TyOKZo9igVjvGorS0avIz07q",
      "include_colab_link": true
    },
    "kernelspec": {
      "name": "python3",
      "display_name": "Python 3"
    },
    "language_info": {
      "name": "python"
    }
  },
  "cells": [
    {
      "cell_type": "markdown",
      "metadata": {
        "id": "view-in-github",
        "colab_type": "text"
      },
      "source": [
        "<a href=\"https://colab.research.google.com/github/s4kh4rov/BMIL/blob/master/magdiplom.ipynb\" target=\"_parent\"><img src=\"https://colab.research.google.com/assets/colab-badge.svg\" alt=\"Open In Colab\"/></a>"
      ]
    },
    {
      "cell_type": "code",
      "execution_count": 42,
      "metadata": {
        "id": "3UcFs-beCX39"
      },
      "outputs": [],
      "source": [
        "import cv2\n",
        "import numpy as np\n",
        "from google.colab.patches import cv2_imshow\n",
        "import glob\n",
        "import os\n",
        "import tensorflow as tf\n",
        "from tensorflow.keras import datasets, layers, models\n",
        "import imutils"
      ]
    },
    {
      "cell_type": "code",
      "source": [
        "def resizeImage(width, height, image):\n",
        "  down_points = (width, height)\n",
        "  return cv2.resize(image, down_points, interpolation= cv2.INTER_LINEAR)"
      ],
      "metadata": {
        "id": "5SxvK-2WLNLf"
      },
      "execution_count": 43,
      "outputs": []
    },
    {
      "cell_type": "code",
      "source": [
        "all_img_paths = glob.glob(\"/content/drive/MyDrive/diplom/photos/angles/*\")\n",
        "path = '/content/drive/MyDrive/diplom/readyImg/angle/'\n",
        "i=0\n",
        "print(len(all_img_paths))\n",
        "for img_path in all_img_paths:\n",
        "  img = cv2.imread(img_path)\n",
        "  img300 = resizeImage(300,300,img)\n",
        "  imgEdge = cv2.edgePreservingFilter(img300, flags=1, sigma_s=10, sigma_r=0.9)\n",
        "  imgGray = cv2.cvtColor(imgEdge, cv2.COLOR_BGR2GRAY)\n",
        "  imgLap = cv2.Laplacian(imgGray, cv2.CV_64F, ksize=5)\n",
        "  # img64 = imutils.resize(imgLap, width=64,height=64)\n",
        "  # cv2_imshow(img64)\n",
        "  cv2.imwrite(os.path.join(path , 'angle'+str(i)+'.jpg'), imgLap)\n",
        "  i+=1\n",
        "  flip = cv2.flip(imgLap,1)\n",
        "  cv2.imwrite(os.path.join(path , 'angle'+str(i)+'.jpg'), flip)\n",
        "  i+=1\n",
        "\n",
        "# img_path = '/content/drive/MyDrive/diplom/photos/doors/IMG_1840_126.jpg'\n",
        "\n",
        "# img = cv2.imread(img_path)\n",
        "# img300 = resizeImage(300,300,img)\n",
        "# cv2_imshow(img300)\n",
        "# image = cv2.flip(img300,1)\n",
        "# cv2_imshow(image)\n",
        "# imgEdge = cv2.edgePreservingFilter(img300, flags=1, sigma_s=10, sigma_r=0.9)\n",
        "# imgGray = cv2.cvtColor(imgEdge, cv2.COLOR_BGR2GRAY)\n",
        "# cv2_imshow(imgEdge)\n",
        "# imgLap = cv2.Laplacian(imgGray, cv2.CV_64F, ksize=5)\n",
        "# cv2_imshow(imgLap)\n",
        "# img64 = resizeImage(64,64,imgLap)\n",
        "# cv2_imshow(img64)\n",
        "# cv2_imshow(cv2.flip(img64,1))\n",
        "\n",
        "\n",
        "# # img64 = resizeImage(64,64,imgLap)\n",
        "# # cv2_imshow(img64)\n",
        "\n",
        "\n",
        "# resized = imutils.resize(imgLap, width=64,height=64)\n",
        "# cv2_imshow(resized)"
      ],
      "metadata": {
        "id": "iaqz1zLGDiyC",
        "outputId": "bb552091-f33f-4fa7-c47e-fb9ade3a0d38",
        "colab": {
          "base_uri": "https://localhost:8080/"
        }
      },
      "execution_count": 44,
      "outputs": [
        {
          "output_type": "stream",
          "name": "stdout",
          "text": [
            "333\n"
          ]
        }
      ]
    },
    {
      "cell_type": "code",
      "source": [
        "DATADIR = \"/content/drive/MyDrive/diplom/readyImg/\"\n",
        "\n",
        "LABELS = [\"angle\", \"door\", \"stair\"]\n",
        "print(\"Doors count\")\n",
        "print(len(glob.glob(\"/content/drive/MyDrive/diplom/readyImg/door/*\")))\n",
        "\n",
        "print(\"angle count\")\n",
        "print(len(glob.glob(\"/content/drive/MyDrive/diplom/readyImg/angle/*\")))\n",
        "\n",
        "X_TRAIN = []\n",
        "Y_TRAIN = []\n",
        "\n",
        "IMG_SIZE = 64\n",
        "for category in LABELS:\n",
        "    path = os.path.join(DATADIR, category)\n",
        "    class_num = LABELS.index(category)\n",
        "    for img in os.listdir(path):\n",
        "        try:\n",
        "            img_array = cv2.imread(os.path.join(path, img),cv2.IMREAD_GRAYSCALE)\n",
        "            new_array = cv2.resize(img_array, (IMG_SIZE, IMG_SIZE))\n",
        "            X_TRAIN.append(new_array)\n",
        "            Y_TRAIN.append(class_num)\n",
        "        except Exception as e:\n",
        "            pass\n",
        "cv2_imshow(X_TRAIN[10])\n",
        "X_TRAIN = np.array(X_TRAIN).reshape(-1, IMG_SIZE, IMG_SIZE,1)\n",
        "Y_TRAIN = np.array(Y_TRAIN)\n",
        "cv2_imshow(X_TRAIN[10])\n",
        "X_TRAIN = X_TRAIN/255"
      ],
      "metadata": {
        "id": "sn9QJ-FrjZUe",
        "outputId": "1fb84571-f48a-47ca-eaa0-2ee1b655cccc",
        "colab": {
          "base_uri": "https://localhost:8080/",
          "height": 213
        }
      },
      "execution_count": 73,
      "outputs": [
        {
          "output_type": "stream",
          "name": "stdout",
          "text": [
            "Doors count\n",
            "2378\n",
            "angle count\n",
            "666\n"
          ]
        },
        {
          "output_type": "display_data",
          "data": {
            "text/plain": [
              "<PIL.Image.Image image mode=L size=64x64>"
            ],
            "image/png": "[encoded data removed]"
          },
          "metadata": {}
        },
        {
          "output_type": "display_data",
          "data": {
            "text/plain": [
              "<PIL.Image.Image image mode=RGB size=64x64>"
            ],
            "image/png": "[encoded data removed]"
          },
          "metadata": {}
        }
      ]
    },
    {
      "cell_type": "code",
      "source": [
        "print(len(X_TRAIN))\n",
        "print(len(Y_TRAIN))\n",
        "#print(X_TRAIN)"
      ],
      "metadata": {
        "colab": {
          "base_uri": "https://localhost:8080/"
        },
        "id": "xLtqDTOuwZkT",
        "outputId": "a4905f0e-b912-4d65-8fee-ae5db1bbe854"
      },
      "execution_count": 74,
      "outputs": [
        {
          "output_type": "stream",
          "name": "stdout",
          "text": [
            "4012\n",
            "4012\n"
          ]
        }
      ]
    },
    {
      "cell_type": "code",
      "source": [
        "model = models.Sequential()\n",
        "model.add(layers.Conv2D(32, (3, 3), activation='relu', input_shape=(64, 64, 1)))\n",
        "model.add(layers.MaxPooling2D((2, 2)))\n",
        "model.add(layers.Conv2D(64, (3, 3), activation='relu'))\n",
        "model.add(layers.MaxPooling2D((2, 2)))\n",
        "model.add(layers.Conv2D(64, (3, 3), activation='relu'))\n",
        "model.add(layers.Flatten())\n",
        "model.add(layers.Dense(64, activation='relu'))\n",
        "model.add(layers.Dense(2))\n",
        "model.add(layers.Activation(\"softmax\"))\n",
        "\n",
        "model.summary()\n",
        "\n",
        "model.compile(optimizer='adam', loss='sparse_categorical_crossentropy', metrics=['accuracy'])"
      ],
      "metadata": {
        "id": "8-lbAcBhqNUT",
        "outputId": "1d56e978-70ff-4b20-ad31-438128c40fa2",
        "colab": {
          "base_uri": "https://localhost:8080/"
        }
      },
      "execution_count": 53,
      "outputs": [
        {
          "output_type": "stream",
          "name": "stdout",
          "text": [
            "Model: \"sequential_11\"\n",
            "_________________________________________________________________\n",
            " Layer (type)                Output Shape              Param #   \n",
            "=================================================================\n",
            " conv2d_33 (Conv2D)          (None, 62, 62, 32)        320       \n",
            "                                                                 \n",
            " max_pooling2d_40 (MaxPooli  (None, 31, 31, 32)        0         \n",
            " ng2D)                                                           \n",
            "                                                                 \n",
            " conv2d_34 (Conv2D)          (None, 29, 29, 64)        18496     \n",
            "                                                                 \n",
            " max_pooling2d_41 (MaxPooli  (None, 14, 14, 64)        0         \n",
            " ng2D)                                                           \n",
            "                                                                 \n",
            " conv2d_35 (Conv2D)          (None, 12, 12, 64)        36928     \n",
            "                                                                 \n",
            " flatten_8 (Flatten)         (None, 9216)              0         \n",
            "                                                                 \n",
            " dense_22 (Dense)            (None, 64)                589888    \n",
            "                                                                 \n",
            " dense_23 (Dense)            (None, 2)                 130       \n",
            "                                                                 \n",
            " activation_36 (Activation)  (None, 2)                 0         \n",
            "                                                                 \n",
            "=================================================================\n",
            "Total params: 645762 (2.46 MB)\n",
            "Trainable params: 645762 (2.46 MB)\n",
            "Non-trainable params: 0 (0.00 Byte)\n",
            "_________________________________________________________________\n"
          ]
        }
      ]
    },
    {
      "cell_type": "code",
      "source": [
        "model = models.Sequential()\n",
        "# model.add(layers.Conv2D(32, (5, 5), activation='relu',padding='same' ,input_shape=(64, 64,3)))\n",
        "model.add(layers.Conv2D(32, (5, 5), activation='relu',padding='same' ,input_shape=(64, 64,1)))\n",
        "model.add(layers.MaxPooling2D(pool_size=(2,2)))\n",
        "model.add(layers.Activation(\"relu\"))\n",
        "\n",
        "model.add(layers.Conv2D(32, (5, 5), activation='relu',padding='same' ,input_shape=(32, 32,1)))\n",
        "model.add(layers.MaxPooling2D(pool_size=(2,2)))\n",
        "model.add(layers.Activation(\"relu\"))\n",
        "\n",
        "model.add(layers.Conv2D(64, (5, 5), activation='relu',padding='same' ,input_shape=(16, 16,1)))\n",
        "model.add(layers.MaxPooling2D(pool_size=(2,2)))\n",
        "model.add(layers.Activation(\"relu\"))\n",
        "model.add(layers.MaxPooling2D(pool_size=(2,2)))\n",
        "model.add(layers.Flatten())\n",
        "model.add(layers.Dense(64))\n",
        "model.add(layers.Dense(3))\n",
        "model.add(layers.Activation(\"softmax\"))\n",
        "\n",
        "model.summary()\n",
        "\n",
        "model.compile(optimizer='adam', loss='sparse_categorical_crossentropy', metrics=['accuracy'])"
      ],
      "metadata": {
        "colab": {
          "base_uri": "https://localhost:8080/"
        },
        "id": "iUMkoJGmUZOf",
        "outputId": "f1d64918-0c20-4c60-dfc5-6fb14baf38dd"
      },
      "execution_count": 75,
      "outputs": [
        {
          "output_type": "stream",
          "name": "stdout",
          "text": [
            "Model: \"sequential_13\"\n",
            "_________________________________________________________________\n",
            " Layer (type)                Output Shape              Param #   \n",
            "=================================================================\n",
            " conv2d_39 (Conv2D)          (None, 64, 64, 32)        832       \n",
            "                                                                 \n",
            " max_pooling2d_46 (MaxPooli  (None, 32, 32, 32)        0         \n",
            " ng2D)                                                           \n",
            "                                                                 \n",
            " activation_41 (Activation)  (None, 32, 32, 32)        0         \n",
            "                                                                 \n",
            " conv2d_40 (Conv2D)          (None, 32, 32, 32)        25632     \n",
            "                                                                 \n",
            " max_pooling2d_47 (MaxPooli  (None, 16, 16, 32)        0         \n",
            " ng2D)                                                           \n",
            "                                                                 \n",
            " activation_42 (Activation)  (None, 16, 16, 32)        0         \n",
            "                                                                 \n",
            " conv2d_41 (Conv2D)          (None, 16, 16, 64)        51264     \n",
            "                                                                 \n",
            " max_pooling2d_48 (MaxPooli  (None, 8, 8, 64)          0         \n",
            " ng2D)                                                           \n",
            "                                                                 \n",
            " activation_43 (Activation)  (None, 8, 8, 64)          0         \n",
            "                                                                 \n",
            " max_pooling2d_49 (MaxPooli  (None, 4, 4, 64)          0         \n",
            " ng2D)                                                           \n",
            "                                                                 \n",
            " flatten_10 (Flatten)        (None, 1024)              0         \n",
            "                                                                 \n",
            " dense_26 (Dense)            (None, 64)                65600     \n",
            "                                                                 \n",
            " dense_27 (Dense)            (None, 3)                 195       \n",
            "                                                                 \n",
            " activation_44 (Activation)  (None, 3)                 0         \n",
            "                                                                 \n",
            "=================================================================\n",
            "Total params: 143523 (560.64 KB)\n",
            "Trainable params: 143523 (560.64 KB)\n",
            "Non-trainable params: 0 (0.00 Byte)\n",
            "_________________________________________________________________\n"
          ]
        }
      ]
    },
    {
      "cell_type": "code",
      "source": [
        "history = model.fit(X_TRAIN,Y_TRAIN, epochs=3, validation_split=0.4)"
      ],
      "metadata": {
        "id": "VHjsCZZ01Ps3",
        "outputId": "11d9f4f5-fb5d-4732-9ccf-8926d6b220e3",
        "colab": {
          "base_uri": "https://localhost:8080/"
        }
      },
      "execution_count": 76,
      "outputs": [
        {
          "output_type": "stream",
          "name": "stdout",
          "text": [
            "Epoch 1/3\n",
            "76/76 [==============================] - 72s 432ms/step - loss: 0.1139 - accuracy: 0.9585 - val_loss: 46.9471 - val_accuracy: 0.2866\n",
            "Epoch 2/3\n",
            "76/76 [==============================] - 32s 424ms/step - loss: 1.2969e-04 - accuracy: 1.0000 - val_loss: 48.9913 - val_accuracy: 0.2953\n",
            "Epoch 3/3\n",
            "76/76 [==============================] - 31s 408ms/step - loss: 3.4845e-05 - accuracy: 1.0000 - val_loss: 50.2639 - val_accuracy: 0.2984\n"
          ]
        }
      ]
    },
    {
      "cell_type": "code",
      "source": [
        "import matplotlib.pyplot as plt\n",
        "TESTDIR = \"/content/drive/MyDrive/diplom/test/angle1.jpg\"\n",
        "# for img in os.listdir(TESTDIR):\n",
        "#     try:\n",
        "#         img_array = cv2.imread(os.path.join(TESTDIR, img))\n",
        "#         new_img = cv2.resize(img_array, (IMG_SIZE, IMG_SIZE))\n",
        "#         new_shape = new_img.reshape(-1, IMG_SIZE, IMG_SIZE, 1)\n",
        "#         predictions = model.predict(new_shape)\n",
        "#         # plt.imshow(new_img)\n",
        "#         # print(predictions)\n",
        "#         print(LABELS[np.argmax(predictions)])\n",
        "#     except Exception as e:\n",
        "#         pass\n",
        "img_array = cv2.imread(TESTDIR)\n",
        "new_img = cv2.resize(img_array, (IMG_SIZE, IMG_SIZE))\n",
        "new_shape = new_img.reshape(-1, IMG_SIZE, IMG_SIZE, 1)\n",
        "predictions = model.predict(new_shape)\n",
        "plt.imshow(new_img)\n",
        "print(predictions)\n",
        "print(np.argmax(predictions))\n",
        "print(LABELS[np.argmax(predictions)])"
      ],
      "metadata": {
        "colab": {
          "base_uri": "https://localhost:8080/",
          "height": 708
        },
        "id": "y7DK3k3m2nCS",
        "outputId": "144180f1-4b44-4425-fae4-ff0332a7b2c1"
      },
      "execution_count": 72,
      "outputs": [
        {
          "output_type": "stream",
          "name": "stdout",
          "text": [
            "1/1 [==============================] - 0s 102ms/step\n",
            "[[1.2135679e-01 8.7864321e-01]\n",
            " [1.0000000e+00 6.7837433e-09]\n",
            " [4.8540006e-04 9.9951458e-01]]\n",
            "2\n"
          ]
        },
        {
          "output_type": "error",
          "ename": "IndexError",
          "evalue": "ignored",
          "traceback": [
            "\u001b[0;31m---------------------------------------------------------------------------\u001b[0m",
            "\u001b[0;31mIndexError\u001b[0m                                Traceback (most recent call last)",
            "\u001b[0;32m<ipython-input-72-573f6c88aa2e>\u001b[0m in \u001b[0;36m<cell line: 21>\u001b[0;34m()\u001b[0m\n\u001b[1;32m     19\u001b[0m \u001b[0mprint\u001b[0m\u001b[0;34m(\u001b[0m\u001b[0mpredictions\u001b[0m\u001b[0;34m)\u001b[0m\u001b[0;34m\u001b[0m\u001b[0;34m\u001b[0m\u001b[0m\n\u001b[1;32m     20\u001b[0m \u001b[0mprint\u001b[0m\u001b[0;34m(\u001b[0m\u001b[0mnp\u001b[0m\u001b[0;34m.\u001b[0m\u001b[0margmax\u001b[0m\u001b[0;34m(\u001b[0m\u001b[0mpredictions\u001b[0m\u001b[0;34m)\u001b[0m\u001b[0;34m)\u001b[0m\u001b[0;34m\u001b[0m\u001b[0;34m\u001b[0m\u001b[0m\n\u001b[0;32m---> 21\u001b[0;31m \u001b[0mprint\u001b[0m\u001b[0;34m(\u001b[0m\u001b[0mLABELS\u001b[0m\u001b[0;34m[\u001b[0m\u001b[0mnp\u001b[0m\u001b[0;34m.\u001b[0m\u001b[0margmax\u001b[0m\u001b[0;34m(\u001b[0m\u001b[0mpredictions\u001b[0m\u001b[0;34m)\u001b[0m\u001b[0;34m]\u001b[0m\u001b[0;34m)\u001b[0m\u001b[0;34m\u001b[0m\u001b[0;34m\u001b[0m\u001b[0m\n\u001b[0m",
            "\u001b[0;31mIndexError\u001b[0m: list index out of range"
          ]
        },
        {
          "output_type": "display_data",
          "data": {
            "text/plain": [
              "<Figure size 640x480 with 1 Axes>"
            ],
            "image/png": "[encoded data removed]"
          },
          "metadata": {}
        }
      ]
    }
  ]
}