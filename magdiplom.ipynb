{
  "nbformat": 4,
  "nbformat_minor": 0,
  "metadata": {
    "colab": {
      "provenance": [],
      "mount_file_id": "https://github.com/s4kh4rov/BMIL/blob/master/magdiplom.ipynb",
      "authorship_tag": "ABX9TyPIl26hZgJv6O9D4AFtGkBm",
      "include_colab_link": true
    },
    "kernelspec": {
      "name": "python3",
      "display_name": "Python 3"
    },
    "language_info": {
      "name": "python"
    }
  },
  "cells": [
    {
      "cell_type": "markdown",
      "metadata": {
        "id": "view-in-github",
        "colab_type": "text"
      },
      "source": [
        "<a href=\"https://colab.research.google.com/github/s4kh4rov/BMIL/blob/master/magdiplom.ipynb\" target=\"_parent\"><img src=\"https://colab.research.google.com/assets/colab-badge.svg\" alt=\"Open In Colab\"/></a>"
      ]
    },
    {
      "cell_type": "code",
      "execution_count": 1,
      "metadata": {
        "id": "3UcFs-beCX39"
      },
      "outputs": [],
      "source": [
        "import cv2\n",
        "import numpy as np\n",
        "from google.colab.patches import cv2_imshow\n",
        "import glob\n",
        "import os\n",
        "import tensorflow as tf\n",
        "from tensorflow.keras import datasets, layers, models\n",
        "import imutils"
      ]
    },
    {
      "cell_type": "code",
      "source": [
        "!pip install roboflow\n",
        "from roboflow import Roboflow\n",
        "rf = Roboflow(api_key=\"KlfuZxqMCfq22KG6TKdR\")\n",
        "project = rf.workspace(\"research-xvh79\").project(\"window-detection-vnpow\")\n",
        "dataset = project.version(1).download(\"coco\")\n"
      ],
      "metadata": {
        "id": "lxtkwKMg0-eK",
        "outputId": "2c69105c-5451-438d-e451-e65f60233e72",
        "colab": {
          "base_uri": "https://localhost:8080/",
          "height": 1000
        }
      },
      "execution_count": 4,
      "outputs": [
        {
          "output_type": "stream",
          "name": "stdout",
          "text": [
            "Collecting roboflow\n",
            "  Downloading roboflow-1.1.19-py3-none-any.whl (70 kB)\n",
            "\u001b[?25l     \u001b[90m━━━━━━━━━━━━━━━━━━━━━━━━━━━━━━━━━━━━━━━━\u001b[0m \u001b[32m0.0/70.2 kB\u001b[0m \u001b[31m?\u001b[0m eta \u001b[36m-:--:--\u001b[0m\r\u001b[2K     \u001b[90m━━━━━━━━━━━━━━━━━━━━━━━━━━━━━━━━━━━━━━━━\u001b[0m \u001b[32m70.2/70.2 kB\u001b[0m \u001b[31m3.0 MB/s\u001b[0m eta \u001b[36m0:00:00\u001b[0m\n",
            "\u001b[?25hCollecting certifi==2023.7.22 (from roboflow)\n",
            "  Downloading certifi-2023.7.22-py3-none-any.whl (158 kB)\n",
            "\u001b[2K     \u001b[90m━━━━━━━━━━━━━━━━━━━━━━━━━━━━━━━━━━━━━━━━\u001b[0m \u001b[32m158.3/158.3 kB\u001b[0m \u001b[31m7.7 MB/s\u001b[0m eta \u001b[36m0:00:00\u001b[0m\n",
            "\u001b[?25hCollecting chardet==4.0.0 (from roboflow)\n",
            "  Downloading chardet-4.0.0-py2.py3-none-any.whl (178 kB)\n",
            "\u001b[2K     \u001b[90m━━━━━━━━━━━━━━━━━━━━━━━━━━━━━━━━━━━━━━━━\u001b[0m \u001b[32m178.7/178.7 kB\u001b[0m \u001b[31m10.4 MB/s\u001b[0m eta \u001b[36m0:00:00\u001b[0m\n",
            "\u001b[?25hCollecting cycler==0.10.0 (from roboflow)\n",
            "  Downloading cycler-0.10.0-py2.py3-none-any.whl (6.5 kB)\n",
            "Collecting idna==2.10 (from roboflow)\n",
            "  Downloading idna-2.10-py2.py3-none-any.whl (58 kB)\n",
            "\u001b[2K     \u001b[90m━━━━━━━━━━━━━━━━━━━━━━━━━━━━━━━━━━━━━━━━\u001b[0m \u001b[32m58.8/58.8 kB\u001b[0m \u001b[31m8.4 MB/s\u001b[0m eta \u001b[36m0:00:00\u001b[0m\n",
            "\u001b[?25hRequirement already satisfied: kiwisolver>=1.3.1 in /usr/local/lib/python3.10/dist-packages (from roboflow) (1.4.5)\n",
            "Requirement already satisfied: matplotlib in /usr/local/lib/python3.10/dist-packages (from roboflow) (3.7.1)\n",
            "Requirement already satisfied: numpy>=1.18.5 in /usr/local/lib/python3.10/dist-packages (from roboflow) (1.25.2)\n",
            "Collecting opencv-python-headless==4.8.0.74 (from roboflow)\n",
            "  Downloading opencv_python_headless-4.8.0.74-cp37-abi3-manylinux_2_17_x86_64.manylinux2014_x86_64.whl (49.1 MB)\n",
            "\u001b[2K     \u001b[90m━━━━━━━━━━━━━━━━━━━━━━━━━━━━━━━━━━━━━━━━\u001b[0m \u001b[32m49.1/49.1 MB\u001b[0m \u001b[31m19.2 MB/s\u001b[0m eta \u001b[36m0:00:00\u001b[0m\n",
            "\u001b[?25hRequirement already satisfied: Pillow>=7.1.2 in /usr/local/lib/python3.10/dist-packages (from roboflow) (9.4.0)\n",
            "Requirement already satisfied: python-dateutil in /usr/local/lib/python3.10/dist-packages (from roboflow) (2.8.2)\n",
            "Collecting python-dotenv (from roboflow)\n",
            "  Downloading python_dotenv-1.0.1-py3-none-any.whl (19 kB)\n",
            "Requirement already satisfied: requests in /usr/local/lib/python3.10/dist-packages (from roboflow) (2.31.0)\n",
            "Requirement already satisfied: six in /usr/local/lib/python3.10/dist-packages (from roboflow) (1.16.0)\n",
            "Collecting supervision (from roboflow)\n",
            "  Downloading supervision-0.18.0-py3-none-any.whl (86 kB)\n",
            "\u001b[2K     \u001b[90m━━━━━━━━━━━━━━━━━━━━━━━━━━━━━━━━━━━━━━━━\u001b[0m \u001b[32m86.7/86.7 kB\u001b[0m \u001b[31m12.1 MB/s\u001b[0m eta \u001b[36m0:00:00\u001b[0m\n",
            "\u001b[?25hRequirement already satisfied: urllib3>=1.26.6 in /usr/local/lib/python3.10/dist-packages (from roboflow) (2.0.7)\n",
            "Requirement already satisfied: tqdm>=4.41.0 in /usr/local/lib/python3.10/dist-packages (from roboflow) (4.66.2)\n",
            "Requirement already satisfied: PyYAML>=5.3.1 in /usr/local/lib/python3.10/dist-packages (from roboflow) (6.0.1)\n",
            "Collecting requests-toolbelt (from roboflow)\n",
            "  Downloading requests_toolbelt-1.0.0-py2.py3-none-any.whl (54 kB)\n",
            "\u001b[2K     \u001b[90m━━━━━━━━━━━━━━━━━━━━━━━━━━━━━━━━━━━━━━━━\u001b[0m \u001b[32m54.5/54.5 kB\u001b[0m \u001b[31m7.4 MB/s\u001b[0m eta \u001b[36m0:00:00\u001b[0m\n",
            "\u001b[?25hCollecting python-magic (from roboflow)\n",
            "  Downloading python_magic-0.4.27-py2.py3-none-any.whl (13 kB)\n",
            "Requirement already satisfied: contourpy>=1.0.1 in /usr/local/lib/python3.10/dist-packages (from matplotlib->roboflow) (1.2.0)\n",
            "Requirement already satisfied: fonttools>=4.22.0 in /usr/local/lib/python3.10/dist-packages (from matplotlib->roboflow) (4.48.1)\n",
            "Requirement already satisfied: packaging>=20.0 in /usr/local/lib/python3.10/dist-packages (from matplotlib->roboflow) (23.2)\n",
            "Requirement already satisfied: pyparsing>=2.3.1 in /usr/local/lib/python3.10/dist-packages (from matplotlib->roboflow) (3.1.1)\n",
            "Requirement already satisfied: charset-normalizer<4,>=2 in /usr/local/lib/python3.10/dist-packages (from requests->roboflow) (3.3.2)\n",
            "Requirement already satisfied: defusedxml<0.8.0,>=0.7.1 in /usr/local/lib/python3.10/dist-packages (from supervision->roboflow) (0.7.1)\n",
            "Requirement already satisfied: scipy<2.0.0,>=1.10.0 in /usr/local/lib/python3.10/dist-packages (from supervision->roboflow) (1.11.4)\n",
            "Installing collected packages: python-magic, python-dotenv, opencv-python-headless, idna, cycler, chardet, certifi, supervision, requests-toolbelt, roboflow\n",
            "  Attempting uninstall: opencv-python-headless\n",
            "    Found existing installation: opencv-python-headless 4.9.0.80\n",
            "    Uninstalling opencv-python-headless-4.9.0.80:\n",
            "      Successfully uninstalled opencv-python-headless-4.9.0.80\n",
            "  Attempting uninstall: idna\n",
            "    Found existing installation: idna 3.6\n",
            "    Uninstalling idna-3.6:\n",
            "      Successfully uninstalled idna-3.6\n",
            "  Attempting uninstall: cycler\n",
            "    Found existing installation: cycler 0.12.1\n",
            "    Uninstalling cycler-0.12.1:\n",
            "      Successfully uninstalled cycler-0.12.1\n",
            "  Attempting uninstall: chardet\n",
            "    Found existing installation: chardet 5.2.0\n",
            "    Uninstalling chardet-5.2.0:\n",
            "      Successfully uninstalled chardet-5.2.0\n",
            "  Attempting uninstall: certifi\n",
            "    Found existing installation: certifi 2024.2.2\n",
            "    Uninstalling certifi-2024.2.2:\n",
            "      Successfully uninstalled certifi-2024.2.2\n",
            "\u001b[31mERROR: pip's dependency resolver does not currently take into account all the packages that are installed. This behaviour is the source of the following dependency conflicts.\n",
            "lida 0.0.10 requires fastapi, which is not installed.\n",
            "lida 0.0.10 requires kaleido, which is not installed.\n",
            "lida 0.0.10 requires python-multipart, which is not installed.\n",
            "lida 0.0.10 requires uvicorn, which is not installed.\u001b[0m\u001b[31m\n",
            "\u001b[0mSuccessfully installed certifi-2023.7.22 chardet-4.0.0 cycler-0.10.0 idna-2.10 opencv-python-headless-4.8.0.74 python-dotenv-1.0.1 python-magic-0.4.27 requests-toolbelt-1.0.0 roboflow-1.1.19 supervision-0.18.0\n"
          ]
        },
        {
          "output_type": "display_data",
          "data": {
            "application/vnd.colab-display-data+json": {
              "pip_warning": {
                "packages": [
                  "certifi",
                  "chardet",
                  "cv2",
                  "cycler",
                  "idna"
                ]
              }
            }
          },
          "metadata": {}
        },
        {
          "output_type": "stream",
          "name": "stdout",
          "text": [
            "loading Roboflow workspace...\n",
            "loading Roboflow project...\n"
          ]
        },
        {
          "output_type": "stream",
          "name": "stderr",
          "text": [
            "Downloading Dataset Version Zip in Window-detection-1 to coco:: 100%|██████████| 193551/193551 [00:05<00:00, 37883.31it/s]"
          ]
        },
        {
          "output_type": "stream",
          "name": "stdout",
          "text": [
            "\n"
          ]
        },
        {
          "output_type": "stream",
          "name": "stderr",
          "text": [
            "\n",
            "Extracting Dataset Version Zip to Window-detection-1 in coco:: 100%|██████████| 4848/4848 [00:01<00:00, 3419.47it/s]\n"
          ]
        }
      ]
    },
    {
      "cell_type": "code",
      "source": [
        "import shutil\n",
        "\n",
        "for file1 in os.listdir('/content/Window-detection-1/train'):\n",
        "  if(file1.endswith('.json')):\n",
        "    save_path = '/content/drive/MyDrive/diplom/'\n",
        "    shutil.move(os.path.join('/content/Window-detection-1/train',file1), save_path)"
      ],
      "metadata": {
        "id": "REZcl4TB7Ytz"
      },
      "execution_count": null,
      "outputs": []
    },
    {
      "cell_type": "code",
      "source": [
        "def getImageNameByImageId (images, id):\n",
        "  for el in images:\n",
        "    if(el['id']==id):\n",
        "      return el['file_name']"
      ],
      "metadata": {
        "id": "HlVRduqOhI89"
      },
      "execution_count": 6,
      "outputs": []
    },
    {
      "cell_type": "code",
      "source": [
        "def resizeImage(width, height, image):\n",
        "  down_points = (width, height)\n",
        "  return cv2.resize(image, down_points, interpolation= cv2.INTER_LINEAR)"
      ],
      "metadata": {
        "id": "PXhLAQD2hgM4"
      },
      "execution_count": 11,
      "outputs": []
    },
    {
      "cell_type": "code",
      "source": [
        "# !pip install roboflow\n",
        "\n",
        "# from roboflow import Roboflow\n",
        "# rf = Roboflow(api_key=\"KlfuZxqMCfq22KG6TKdR\")\n",
        "# project = rf.workspace(\"shixi-rqywi\").project(\"stairsdetect-for-blinders\")\n",
        "# dataset = project.version(7).download(\"coco\")\n",
        "\n",
        "all_img_paths = glob.glob(\"/content/STAIRSdetect-FOR-blinders-7/valid/*\")\n",
        "path = '/content/drive/MyDrive/diplom/test/validStairs/'\n",
        "i=0\n",
        "for img_path in all_img_paths:\n",
        "  if(img_path.endswith(\".jpg\")):\n",
        "    img = cv2.imread(img_path)\n",
        "    # img300 = resizeImage(300,300,img)\n",
        "    # imgEdge = cv2.edgePreservingFilter(img300, flags=1, sigma_s=100, sigma_r=0.3)\n",
        "    # imgGray = cv2.cvtColor(imgEdge, cv2.COLOR_BGR2GRAY)\n",
        "    # imgLap = cv2.Laplacian(imgGray, cv2.CV_64F, ksize=5)\n",
        "    cv2.imwrite(os.path.join(path , 'stair'+str(i)+'.jpg'), img)\n",
        "    i+=1\n",
        "print(i)\n"
      ],
      "metadata": {
        "colab": {
          "base_uri": "https://localhost:8080/"
        },
        "id": "LnRRGu9Ln-Px",
        "outputId": "dbc1801d-cbe7-499d-97fa-0385f71031b5"
      },
      "execution_count": 178,
      "outputs": [
        {
          "output_type": "stream",
          "name": "stdout",
          "text": [
            "248\n"
          ]
        }
      ]
    },
    {
      "cell_type": "code",
      "source": [
        "# двери\n",
        "# from roboflow import Roboflow\n",
        "# rf = Roboflow(api_key=\"KlfuZxqMCfq22KG6TKdR\")\n",
        "# project = rf.workspace(\"miguel-ortiz\").project(\"door_cls\")\n",
        "# dataset = project.version(3).download(\"folder\")\n",
        "\n",
        "# all_img_paths = glob.glob(\"/content/door_cls-3/test/door_cls/*\")\n",
        "# path = '/content/drive/MyDrive/diplom/colorImages/door/'\n",
        "# i=0\n",
        "# for img_path in all_img_paths:\n",
        "#   img = cv2.imread(img_path)\n",
        "#   img300 = resizeImage(300,300,img)\n",
        "#   imgEdge = cv2.edgePreservingFilter(img300, flags=1, sigma_s=100, sigma_r=0.3)\n",
        "#   imgGray = cv2.cvtColor(imgEdge, cv2.COLOR_BGR2GRAY)\n",
        "#   imgLap = cv2.Laplacian(imgGray, cv2.CV_64F, ksize=5)\n",
        "#   cv2.imwrite(os.path.join(path , 'door'+str(i)+'.jpg'), imgLap)\n",
        "#   i+=1\n",
        "# print(i)"
      ],
      "metadata": {
        "colab": {
          "base_uri": "https://localhost:8080/"
        },
        "id": "tSbw4hgrwHiZ",
        "outputId": "acfe149b-ea97-434f-fe76-f157f0496324"
      },
      "execution_count": 81,
      "outputs": [
        {
          "output_type": "stream",
          "name": "stdout",
          "text": [
            "678\n"
          ]
        }
      ]
    },
    {
      "cell_type": "code",
      "source": [
        "# окна\n",
        "# import json\n",
        "# f = open('/content/drive/MyDrive/diplom/_annotations.coco.json')\n",
        "# data = json.load(f)\n",
        "# path = '/content/drive/MyDrive/diplom/rfProcessedImages/window/'\n",
        "# img_path = \"/content/Window-detection-1/train/\"\n",
        "# i=0\n",
        "# for annotation in data['annotations']:\n",
        "#   image_id = annotation['image_id']\n",
        "#   bbox = annotation['bbox']\n",
        "#   x1=int(bbox[0])\n",
        "#   y1=int(bbox[1])\n",
        "#   w=int(bbox[2])\n",
        "#   h=int(bbox[3])\n",
        "#   filename = getImageNameByImageId(data['images'],image_id)\n",
        "#   img = cv2.imread(img_path+filename)\n",
        "\n",
        "#   cropped_image = img[y1:y1+h, x1:x1+w]\n",
        "\n",
        "#   border_size = 20\n",
        "#   border = cv2.copyMakeBorder(\n",
        "#       cropped_image,\n",
        "#       top=border_size,\n",
        "#       bottom=border_size,\n",
        "#       left=border_size,\n",
        "#       right=border_size,\n",
        "#       borderType=cv2.BORDER_CONSTANT,\n",
        "#       value=[128,128,128]\n",
        "#   )\n",
        "\n",
        "#   img300 = resizeImage(300,300,border)\n",
        "#   imgEdge = cv2.edgePreservingFilter(img300, flags=1, sigma_s=100, sigma_r=0.3)\n",
        "#   imgGray = cv2.cvtColor(imgEdge, cv2.COLOR_BGR2GRAY)\n",
        "#   imgLap = cv2.Laplacian(imgGray, cv2.CV_64F, ksize=5)\n",
        "#   cv2.imwrite(os.path.join(path , 'window'+str(i)+'.jpg'), imgLap)\n",
        "#   i+=1\n",
        "#   print(i)\n",
        "\n",
        "\n",
        "import json\n",
        "f = open('/content/drive/MyDrive/diplom/_annotations.coco.json')\n",
        "data = json.load(f)\n",
        "path = '/content/drive/MyDrive/diplom/colorImages/window/'\n",
        "img_path = \"/content/Window-detection-1/train/\"\n",
        "i=0\n",
        "for i in range(1000):\n",
        "  annotation = data['annotations'][i]\n",
        "  image_id = annotation['image_id']\n",
        "  filename = getImageNameByImageId(data['images'],image_id)\n",
        "  img = cv2.imread(img_path+filename)\n",
        "  cv2.imwrite(os.path.join(path , 'window'+str(i)+'.jpg'), img)\n",
        "  i+=1\n",
        "  print(i)"
      ],
      "metadata": {
        "id": "lD0z0QDRUQzy"
      },
      "execution_count": null,
      "outputs": []
    },
    {
      "cell_type": "code",
      "source": [
        "def resizeImage(width, height, image):\n",
        "  down_points = (width, height)\n",
        "  return cv2.resize(image, down_points, interpolation= cv2.INTER_LINEAR)"
      ],
      "metadata": {
        "id": "5SxvK-2WLNLf"
      },
      "execution_count": null,
      "outputs": []
    },
    {
      "cell_type": "code",
      "source": [
        "img_path = 'https://drive.google.com/drive/folders/1EX_p0ncVGXKN3piWRa7h463ii8IAfFMy'\n",
        "path = '/content/drive/MyDrive/diplom/test/'\n",
        "img = cv2.imread(img_path)\n",
        "img300 = resizeImage(300,300,img)\n",
        "cv2_imshow(img300)\n",
        "image = cv2.flip(img300,1)\n",
        "cv2_imshow(image)\n",
        "# imgEdge = cv2.edgePreservingFilter(img300, flags=1, sigma_s=10, sigma_r=0.9)\n",
        "imgEdge= img300\n",
        "imgGray = cv2.cvtColor(imgEdge, cv2.COLOR_BGR2GRAY)\n",
        "cv2_imshow(imgEdge)\n",
        "imgLap = cv2.Laplacian(imgGray, cv2.CV_64F, ksize=5)\n",
        "cv2_imshow(imgLap)\n",
        "# img64 = resizeImage(64,64,imgLap)\n",
        "# cv2_imshow(img64)\n",
        "# cv2_imshow(cv2.flip(img64,1))\n",
        "\n",
        "\n",
        "# img64 = resizeImage(64,64,imgLap)\n",
        "# cv2_imshow(img64)\n",
        "\n",
        "\n",
        "resized = imutils.resize(imgLap, width=64,height=64)\n",
        "cv2_imshow(resized)\n",
        "cv2.imwrite(os.path.join(path , 'doorFinal.png'), resized)"
      ],
      "metadata": {
        "id": "_LjekJzudcyO"
      },
      "execution_count": null,
      "outputs": []
    },
    {
      "cell_type": "code",
      "source": [
        "all_img_paths = glob.glob(\"/content/drive/MyDrive/diplom/photos/angles/*\")\n",
        "path = '/content/drive/MyDrive/diplom/readyImg/angle/'\n",
        "i=0\n",
        "print(len(all_img_paths))\n",
        "for img_path in all_img_paths:\n",
        "  img = cv2.imread(img_path)\n",
        "  img300 = resizeImage(300,300,img)\n",
        "  imgEdge = cv2.edgePreservingFilter(img300, flags=1, sigma_s=10, sigma_r=0.9)\n",
        "  imgGray = cv2.cvtColor(imgEdge, cv2.COLOR_BGR2GRAY)\n",
        "  imgLap = cv2.Laplacian(imgGray, cv2.CV_64F, ksize=5)\n",
        "  # img64 = imutils.resize(imgLap, width=64,height=64)\n",
        "  # cv2_imshow(img64)\n",
        "  cv2.imwrite(os.path.join(path , 'angle'+str(i)+'.jpg'), imgLap)\n",
        "  i+=1\n",
        "  flip = cv2.flip(imgLap,1)\n",
        "  cv2.imwrite(os.path.join(path , 'angle'+str(i)+'.jpg'), flip)\n",
        "  i+=1\n",
        "\n",
        "# img_path = '/content/drive/MyDrive/diplom/photos/doors/IMG_1840_126.jpg'\n",
        "\n",
        "# img = cv2.imread(img_path)\n",
        "# img300 = resizeImage(300,300,img)\n",
        "# cv2_imshow(img300)\n",
        "# image = cv2.flip(img300,1)\n",
        "# cv2_imshow(image)\n",
        "# imgEdge = cv2.edgePreservingFilter(img300, flags=1, sigma_s=10, sigma_r=0.9)\n",
        "# imgGray = cv2.cvtColor(imgEdge, cv2.COLOR_BGR2GRAY)\n",
        "# cv2_imshow(imgEdge)\n",
        "# imgLap = cv2.Laplacian(imgGray, cv2.CV_64F, ksize=5)\n",
        "# cv2_imshow(imgLap)\n",
        "# img64 = resizeImage(64,64,imgLap)\n",
        "# cv2_imshow(img64)\n",
        "# cv2_imshow(cv2.flip(img64,1))\n",
        "\n",
        "\n",
        "# # img64 = resizeImage(64,64,imgLap)\n",
        "# # cv2_imshow(img64)\n",
        "\n",
        "\n",
        "# resized = imutils.resize(imgLap, width=64,height=64)\n",
        "# cv2_imshow(resized)"
      ],
      "metadata": {
        "id": "iaqz1zLGDiyC",
        "outputId": "bb552091-f33f-4fa7-c47e-fb9ade3a0d38",
        "colab": {
          "base_uri": "https://localhost:8080/"
        }
      },
      "execution_count": null,
      "outputs": [
        {
          "output_type": "stream",
          "name": "stdout",
          "text": [
            "333\n"
          ]
        }
      ]
    },
    {
      "cell_type": "code",
      "source": [
        "# DATADIR = \"/content/drive/MyDrive/diplom/colorImages/\"\n",
        "\n",
        "# LABELS = [\"door\", \"window\"]\n",
        "\n",
        "# X_TRAIN = []\n",
        "# Y_TRAIN = []\n",
        "\n",
        "# IMG_SIZE = 64\n",
        "# for category in LABELS:\n",
        "#     path = os.path.join(DATADIR, category)\n",
        "#     class_num = LABELS.index(category)\n",
        "#     for img in os.listdir(path):\n",
        "#         try:\n",
        "#             img_array = cv2.imread(os.path.join(path, img),cv2.IMREAD_GRAYSCALE)\n",
        "#             new_array = imutils.resize(img_array, IMG_SIZE,IMG_SIZE)\n",
        "#             # new_array = cv2.resize(img_array, (IMG_SIZE, IMG_SIZE))\n",
        "#             X_TRAIN.append(new_array)\n",
        "#             Y_TRAIN.append(class_num)\n",
        "#         except Exception as e:\n",
        "#             pass\n",
        "# cv2_imshow(X_TRAIN[10])\n",
        "# X_TRAIN = np.array(X_TRAIN).reshape(-1, IMG_SIZE, IMG_SIZE,1)\n",
        "# Y_TRAIN = np.array(Y_TRAIN)\n",
        "# cv2_imshow(X_TRAIN[10])\n",
        "# X_TRAIN = X_TRAIN/255\n",
        "\n",
        "IMG_SIZE = 64\n",
        "DATADIR = \"/content/drive/MyDrive/diplom/colorImages/\"\n",
        "\n",
        "train_ds = tf.keras.utils.image_dataset_from_directory(\n",
        "  DATADIR,\n",
        "  validation_split=0.2,\n",
        "  subset=\"training\",\n",
        "  seed=123,\n",
        "  image_size=(IMG_SIZE, IMG_SIZE),\n",
        "  batch_size=5)"
      ],
      "metadata": {
        "id": "sn9QJ-FrjZUe",
        "outputId": "ddb4bfe5-b900-46dc-9304-68de6278fe16",
        "colab": {
          "base_uri": "https://localhost:8080/"
        }
      },
      "execution_count": 134,
      "outputs": [
        {
          "output_type": "stream",
          "name": "stdout",
          "text": [
            "Found 3868 files belonging to 3 classes.\n",
            "Using 3095 files for training.\n"
          ]
        }
      ]
    },
    {
      "cell_type": "code",
      "source": [
        "val_ds = tf.keras.utils.image_dataset_from_directory(\n",
        "  DATADIR,\n",
        "  validation_split=0.2,\n",
        "  subset=\"validation\",\n",
        "  seed=123,\n",
        "  image_size=(IMG_SIZE, IMG_SIZE),\n",
        "  batch_size=5)"
      ],
      "metadata": {
        "colab": {
          "base_uri": "https://localhost:8080/"
        },
        "id": "F4Vm2BP5C9lH",
        "outputId": "00c81dac-a1b2-49b3-b9ab-f564d05cdab9"
      },
      "execution_count": 135,
      "outputs": [
        {
          "output_type": "stream",
          "name": "stdout",
          "text": [
            "Found 3868 files belonging to 3 classes.\n",
            "Using 773 files for validation.\n"
          ]
        }
      ]
    },
    {
      "cell_type": "code",
      "source": [
        "import tensorflow as tf\n",
        "\n",
        "from tensorflow import keras\n",
        "from tensorflow.keras import layers\n",
        "from tensorflow.keras.models import Sequential\n",
        "class_names = train_ds.class_names\n",
        "print(class_names)\n",
        "data_augmentation = keras.Sequential(\n",
        "  [\n",
        "    layers.RandomFlip(\"horizontal\",\n",
        "                      input_shape=(IMG_SIZE,\n",
        "                                  IMG_SIZE,\n",
        "                                  3)),\n",
        "    layers.RandomRotation(0.1),\n",
        "    layers.RandomZoom(0.1),\n",
        "  ]\n",
        ")\n",
        "\n",
        "num_classes = len(class_names)\n",
        "\n",
        "# model = models.Sequential()\n",
        "# model.add(data_augmentation),\n",
        "# model.add(layers.Rescaling(1./255, input_shape=(IMG_SIZE, IMG_SIZE, 3))),\n",
        "# model.add(layers.Conv2D(16, 3, padding='same', activation='relu')),\n",
        "# model.add(layers.MaxPooling2D()),\n",
        "# model.add(layers.Conv2D(32, 3, padding='same', activation='relu')),\n",
        "# model.add(layers.MaxPooling2D()),\n",
        "# model.add(layers.Conv2D(64, 3, padding='same', activation='relu')),\n",
        "# model.add(layers.MaxPooling2D()),\n",
        "# model.add(layers.Dropout(0.2)),\n",
        "# model.add(layers.Flatten()),\n",
        "# model.add(layers.Dense(128, activation='relu')),\n",
        "# model.add(layers.Dense(num_classes))\n",
        "\n",
        "model = models.Sequential()\n",
        "model.add(data_augmentation),\n",
        "model.add(layers.Rescaling(1./255, input_shape=(IMG_SIZE, IMG_SIZE, 3))),\n",
        "model.add(layers.Conv2D(32, (3, 3), activation='relu'))\n",
        "model.add(layers.MaxPooling2D((2, 2)))\n",
        "model.add(layers.Conv2D(64, (3, 3), activation='relu'))\n",
        "model.add(layers.MaxPooling2D((2, 2)))\n",
        "model.add(layers.Conv2D(64, (3, 3), activation='relu'))\n",
        "model.add(layers.Flatten())\n",
        "model.add(layers.Dense(64, activation='relu'))\n",
        "model.add(layers.Dense(num_classes))\n",
        "model.add(layers.Activation(\"softmax\"))"
      ],
      "metadata": {
        "colab": {
          "base_uri": "https://localhost:8080/"
        },
        "id": "QhnExcEIDQge",
        "outputId": "ecb7d24e-a998-4e98-e27b-2512fe4904e9"
      },
      "execution_count": 143,
      "outputs": [
        {
          "output_type": "stream",
          "name": "stdout",
          "text": [
            "['door', 'stair', 'window']\n"
          ]
        }
      ]
    },
    {
      "cell_type": "code",
      "source": [
        "model.compile(optimizer='adam',loss='sparse_categorical_crossentropy',metrics=['accuracy'])"
      ],
      "metadata": {
        "id": "nJx8QdFZEE3E"
      },
      "execution_count": 144,
      "outputs": []
    },
    {
      "cell_type": "code",
      "source": [
        "epochs=2\n",
        "history = model.fit(\n",
        "  train_ds,\n",
        "  validation_data=val_ds,\n",
        "  epochs=epochs\n",
        ")"
      ],
      "metadata": {
        "colab": {
          "base_uri": "https://localhost:8080/"
        },
        "id": "v1TH5DSiErFB",
        "outputId": "d472e0d5-c6b3-4bb0-abde-6205c315aaff"
      },
      "execution_count": 176,
      "outputs": [
        {
          "output_type": "stream",
          "name": "stdout",
          "text": [
            "Epoch 1/2\n",
            "619/619 [==============================] - 42s 67ms/step - loss: 0.1122 - accuracy: 0.9628 - val_loss: 0.3018 - val_accuracy: 0.9107\n",
            "Epoch 2/2\n",
            "619/619 [==============================] - 44s 71ms/step - loss: 0.1205 - accuracy: 0.9551 - val_loss: 0.2209 - val_accuracy: 0.9418\n"
          ]
        }
      ]
    },
    {
      "cell_type": "code",
      "source": [
        "model.save('/content/drive/MyDrive/diplom/model10.keras')"
      ],
      "metadata": {
        "id": "xySG4YNd1Beh"
      },
      "execution_count": 175,
      "outputs": []
    },
    {
      "cell_type": "code",
      "source": [
        "tf.keras.models.load_model('/content/drive/MyDrive/diplom/model9.keras')\n",
        "TESTDIR = \"/content/drive/MyDrive/diplom/test/s1.jpg\"\n",
        "validDir = glob.glob(\"/content/drive/MyDrive/diplom/test/validStairs/*\")\n",
        "for img_path in validDir:\n",
        "  img = tf.keras.utils.load_img(\n",
        "      img_path, target_size=(IMG_SIZE, IMG_SIZE)\n",
        "  )\n",
        "  img_array = tf.keras.utils.img_to_array(img)\n",
        "  img_array = tf.expand_dims(img_array, 0) # Create a batch\n",
        "\n",
        "  predictions = model.predict(img_array)\n",
        "  score = tf.nn.softmax(predictions[0])\n",
        "  print(\n",
        "      \"This image most likely belongs to {} with a {:.2f} percent confidence.\"\n",
        "      .format(class_names[np.argmax(score)], 100 * np.max(score))\n",
        "  )"
      ],
      "metadata": {
        "colab": {
          "base_uri": "https://localhost:8080/"
        },
        "id": "leGHIQSXFytR",
        "outputId": "ffc7078c-71e6-414f-d455-d5bf36623f4c"
      },
      "execution_count": 182,
      "outputs": [
        {
          "output_type": "stream",
          "name": "stdout",
          "text": [
            "1/1 [==============================] - 0s 26ms/step\n",
            "This image most likely belongs to stair with a 57.61 percent confidence.\n",
            "1/1 [==============================] - 0s 27ms/step\n",
            "This image most likely belongs to stair with a 55.55 percent confidence.\n",
            "1/1 [==============================] - 0s 46ms/step\n",
            "This image most likely belongs to stair with a 57.61 percent confidence.\n",
            "1/1 [==============================] - 0s 23ms/step\n",
            "This image most likely belongs to stair with a 57.61 percent confidence.\n",
            "1/1 [==============================] - 0s 21ms/step\n",
            "This image most likely belongs to stair with a 56.86 percent confidence.\n",
            "1/1 [==============================] - 0s 22ms/step\n",
            "This image most likely belongs to stair with a 57.61 percent confidence.\n",
            "1/1 [==============================] - 0s 30ms/step\n",
            "This image most likely belongs to stair with a 57.57 percent confidence.\n",
            "1/1 [==============================] - 0s 24ms/step\n",
            "This image most likely belongs to stair with a 57.55 percent confidence.\n",
            "1/1 [==============================] - 0s 27ms/step\n",
            "This image most likely belongs to stair with a 57.60 percent confidence.\n",
            "1/1 [==============================] - 0s 25ms/step\n",
            "This image most likely belongs to stair with a 57.61 percent confidence.\n",
            "1/1 [==============================] - 0s 25ms/step\n",
            "This image most likely belongs to stair with a 57.61 percent confidence.\n",
            "1/1 [==============================] - 0s 30ms/step\n",
            "This image most likely belongs to stair with a 50.03 percent confidence.\n",
            "1/1 [==============================] - 0s 29ms/step\n",
            "This image most likely belongs to stair with a 57.59 percent confidence.\n",
            "1/1 [==============================] - 0s 30ms/step\n",
            "This image most likely belongs to stair with a 57.61 percent confidence.\n",
            "1/1 [==============================] - 0s 24ms/step\n",
            "This image most likely belongs to stair with a 57.61 percent confidence.\n",
            "1/1 [==============================] - 0s 26ms/step\n",
            "This image most likely belongs to stair with a 51.75 percent confidence.\n",
            "1/1 [==============================] - 0s 25ms/step\n",
            "This image most likely belongs to stair with a 57.60 percent confidence.\n",
            "1/1 [==============================] - 0s 29ms/step\n",
            "This image most likely belongs to stair with a 57.61 percent confidence.\n",
            "1/1 [==============================] - 0s 30ms/step\n",
            "This image most likely belongs to stair with a 57.61 percent confidence.\n",
            "1/1 [==============================] - 0s 25ms/step\n",
            "This image most likely belongs to stair with a 57.61 percent confidence.\n",
            "1/1 [==============================] - 0s 24ms/step\n",
            "This image most likely belongs to stair with a 57.61 percent confidence.\n",
            "1/1 [==============================] - 0s 26ms/step\n",
            "This image most likely belongs to stair with a 56.96 percent confidence.\n",
            "1/1 [==============================] - 0s 28ms/step\n",
            "This image most likely belongs to stair with a 57.18 percent confidence.\n",
            "1/1 [==============================] - 0s 28ms/step\n",
            "This image most likely belongs to stair with a 57.27 percent confidence.\n",
            "1/1 [==============================] - 0s 26ms/step\n",
            "This image most likely belongs to stair with a 57.61 percent confidence.\n",
            "1/1 [==============================] - 0s 24ms/step\n",
            "This image most likely belongs to stair with a 57.61 percent confidence.\n",
            "1/1 [==============================] - 0s 26ms/step\n",
            "This image most likely belongs to stair with a 57.25 percent confidence.\n",
            "1/1 [==============================] - 0s 23ms/step\n",
            "This image most likely belongs to stair with a 55.27 percent confidence.\n",
            "1/1 [==============================] - 0s 22ms/step\n",
            "This image most likely belongs to stair with a 57.61 percent confidence.\n",
            "1/1 [==============================] - 0s 22ms/step\n",
            "This image most likely belongs to stair with a 57.56 percent confidence.\n",
            "1/1 [==============================] - 0s 25ms/step\n",
            "This image most likely belongs to stair with a 55.85 percent confidence.\n",
            "1/1 [==============================] - 0s 22ms/step\n",
            "This image most likely belongs to stair with a 57.61 percent confidence.\n",
            "1/1 [==============================] - 0s 22ms/step\n",
            "This image most likely belongs to stair with a 57.61 percent confidence.\n",
            "1/1 [==============================] - 0s 22ms/step\n",
            "This image most likely belongs to stair with a 57.61 percent confidence.\n",
            "1/1 [==============================] - 0s 24ms/step\n",
            "This image most likely belongs to stair with a 57.57 percent confidence.\n",
            "1/1 [==============================] - 0s 22ms/step\n",
            "This image most likely belongs to window with a 53.99 percent confidence.\n",
            "1/1 [==============================] - 0s 24ms/step\n",
            "This image most likely belongs to stair with a 49.89 percent confidence.\n",
            "1/1 [==============================] - 0s 24ms/step\n",
            "This image most likely belongs to stair with a 57.61 percent confidence.\n",
            "1/1 [==============================] - 0s 25ms/step\n",
            "This image most likely belongs to stair with a 57.61 percent confidence.\n",
            "1/1 [==============================] - 0s 23ms/step\n",
            "This image most likely belongs to stair with a 57.61 percent confidence.\n",
            "1/1 [==============================] - 0s 22ms/step\n",
            "This image most likely belongs to stair with a 57.61 percent confidence.\n",
            "1/1 [==============================] - 0s 23ms/step\n",
            "This image most likely belongs to stair with a 57.61 percent confidence.\n",
            "1/1 [==============================] - 0s 22ms/step\n",
            "This image most likely belongs to stair with a 56.95 percent confidence.\n",
            "1/1 [==============================] - 0s 27ms/step\n",
            "This image most likely belongs to stair with a 57.61 percent confidence.\n",
            "1/1 [==============================] - 0s 24ms/step\n",
            "This image most likely belongs to stair with a 57.61 percent confidence.\n",
            "1/1 [==============================] - 0s 25ms/step\n",
            "This image most likely belongs to stair with a 57.61 percent confidence.\n",
            "1/1 [==============================] - 0s 21ms/step\n",
            "This image most likely belongs to stair with a 57.57 percent confidence.\n",
            "1/1 [==============================] - 0s 21ms/step\n",
            "This image most likely belongs to stair with a 57.61 percent confidence.\n",
            "1/1 [==============================] - 0s 24ms/step\n",
            "This image most likely belongs to stair with a 57.61 percent confidence.\n",
            "1/1 [==============================] - 0s 25ms/step\n",
            "This image most likely belongs to stair with a 54.96 percent confidence.\n",
            "1/1 [==============================] - 0s 22ms/step\n",
            "This image most likely belongs to stair with a 57.60 percent confidence.\n",
            "1/1 [==============================] - 0s 23ms/step\n",
            "This image most likely belongs to stair with a 56.93 percent confidence.\n",
            "1/1 [==============================] - 0s 22ms/step\n",
            "This image most likely belongs to stair with a 57.61 percent confidence.\n",
            "1/1 [==============================] - 0s 22ms/step\n",
            "This image most likely belongs to stair with a 57.61 percent confidence.\n",
            "1/1 [==============================] - 0s 24ms/step\n",
            "This image most likely belongs to stair with a 57.61 percent confidence.\n",
            "1/1 [==============================] - 0s 21ms/step\n",
            "This image most likely belongs to stair with a 57.61 percent confidence.\n",
            "1/1 [==============================] - 0s 30ms/step\n",
            "This image most likely belongs to stair with a 57.57 percent confidence.\n",
            "1/1 [==============================] - 0s 21ms/step\n",
            "This image most likely belongs to stair with a 57.37 percent confidence.\n",
            "1/1 [==============================] - 0s 21ms/step\n",
            "This image most likely belongs to stair with a 57.61 percent confidence.\n",
            "1/1 [==============================] - 0s 37ms/step\n",
            "This image most likely belongs to stair with a 57.61 percent confidence.\n",
            "1/1 [==============================] - 0s 41ms/step\n",
            "This image most likely belongs to stair with a 51.20 percent confidence.\n",
            "1/1 [==============================] - 0s 37ms/step\n",
            "This image most likely belongs to stair with a 57.41 percent confidence.\n",
            "1/1 [==============================] - 0s 37ms/step\n",
            "This image most likely belongs to stair with a 57.61 percent confidence.\n",
            "1/1 [==============================] - 0s 37ms/step\n",
            "This image most likely belongs to stair with a 57.15 percent confidence.\n",
            "1/1 [==============================] - 0s 38ms/step\n",
            "This image most likely belongs to stair with a 56.30 percent confidence.\n",
            "1/1 [==============================] - 0s 53ms/step\n",
            "This image most likely belongs to stair with a 57.20 percent confidence.\n",
            "1/1 [==============================] - 0s 43ms/step\n",
            "This image most likely belongs to stair with a 57.61 percent confidence.\n",
            "1/1 [==============================] - 0s 35ms/step\n",
            "This image most likely belongs to window with a 45.35 percent confidence.\n",
            "1/1 [==============================] - 0s 39ms/step\n",
            "This image most likely belongs to stair with a 57.61 percent confidence.\n",
            "1/1 [==============================] - 0s 45ms/step\n",
            "This image most likely belongs to stair with a 55.63 percent confidence.\n",
            "1/1 [==============================] - 0s 37ms/step\n",
            "This image most likely belongs to stair with a 57.60 percent confidence.\n",
            "1/1 [==============================] - 0s 40ms/step\n",
            "This image most likely belongs to stair with a 57.61 percent confidence.\n",
            "1/1 [==============================] - 0s 41ms/step\n",
            "This image most likely belongs to window with a 57.61 percent confidence.\n",
            "1/1 [==============================] - 0s 36ms/step\n",
            "This image most likely belongs to stair with a 57.55 percent confidence.\n",
            "1/1 [==============================] - 0s 35ms/step\n",
            "This image most likely belongs to stair with a 57.61 percent confidence.\n",
            "1/1 [==============================] - 0s 38ms/step\n",
            "This image most likely belongs to stair with a 57.27 percent confidence.\n",
            "1/1 [==============================] - 0s 38ms/step\n",
            "This image most likely belongs to stair with a 57.37 percent confidence.\n",
            "1/1 [==============================] - 0s 41ms/step\n",
            "This image most likely belongs to door with a 50.23 percent confidence.\n",
            "1/1 [==============================] - 0s 42ms/step\n",
            "This image most likely belongs to stair with a 57.61 percent confidence.\n",
            "1/1 [==============================] - 0s 39ms/step\n",
            "This image most likely belongs to stair with a 57.61 percent confidence.\n",
            "1/1 [==============================] - 0s 43ms/step\n",
            "This image most likely belongs to stair with a 57.61 percent confidence.\n",
            "1/1 [==============================] - 0s 39ms/step\n",
            "This image most likely belongs to stair with a 57.61 percent confidence.\n",
            "1/1 [==============================] - 0s 41ms/step\n",
            "This image most likely belongs to stair with a 56.84 percent confidence.\n",
            "1/1 [==============================] - 0s 35ms/step\n",
            "This image most likely belongs to stair with a 57.61 percent confidence.\n",
            "1/1 [==============================] - 0s 38ms/step\n",
            "This image most likely belongs to stair with a 57.61 percent confidence.\n",
            "1/1 [==============================] - 0s 33ms/step\n",
            "This image most likely belongs to stair with a 57.61 percent confidence.\n",
            "1/1 [==============================] - 0s 31ms/step\n",
            "This image most likely belongs to stair with a 57.61 percent confidence.\n",
            "1/1 [==============================] - 0s 28ms/step\n",
            "This image most likely belongs to stair with a 57.61 percent confidence.\n",
            "1/1 [==============================] - 0s 22ms/step\n",
            "This image most likely belongs to stair with a 57.61 percent confidence.\n",
            "1/1 [==============================] - 0s 25ms/step\n",
            "This image most likely belongs to stair with a 57.29 percent confidence.\n",
            "1/1 [==============================] - 0s 25ms/step\n",
            "This image most likely belongs to stair with a 57.61 percent confidence.\n",
            "1/1 [==============================] - 0s 24ms/step\n",
            "This image most likely belongs to stair with a 57.61 percent confidence.\n",
            "1/1 [==============================] - 0s 25ms/step\n",
            "This image most likely belongs to window with a 57.16 percent confidence.\n",
            "1/1 [==============================] - 0s 25ms/step\n",
            "This image most likely belongs to stair with a 57.32 percent confidence.\n",
            "1/1 [==============================] - 0s 25ms/step\n",
            "This image most likely belongs to stair with a 57.61 percent confidence.\n",
            "1/1 [==============================] - 0s 27ms/step\n",
            "This image most likely belongs to stair with a 57.61 percent confidence.\n",
            "1/1 [==============================] - 0s 32ms/step\n",
            "This image most likely belongs to stair with a 57.61 percent confidence.\n",
            "1/1 [==============================] - 0s 25ms/step\n",
            "This image most likely belongs to stair with a 57.53 percent confidence.\n",
            "1/1 [==============================] - 0s 39ms/step\n",
            "This image most likely belongs to stair with a 56.37 percent confidence.\n",
            "1/1 [==============================] - 0s 27ms/step\n",
            "This image most likely belongs to stair with a 57.61 percent confidence.\n",
            "1/1 [==============================] - 0s 24ms/step\n",
            "This image most likely belongs to stair with a 49.78 percent confidence.\n",
            "1/1 [==============================] - 0s 25ms/step\n",
            "This image most likely belongs to stair with a 57.61 percent confidence.\n",
            "1/1 [==============================] - 0s 24ms/step\n",
            "This image most likely belongs to stair with a 57.23 percent confidence.\n",
            "1/1 [==============================] - 0s 24ms/step\n",
            "This image most likely belongs to stair with a 57.61 percent confidence.\n",
            "1/1 [==============================] - 0s 28ms/step\n",
            "This image most likely belongs to stair with a 53.38 percent confidence.\n",
            "1/1 [==============================] - 0s 26ms/step\n",
            "This image most likely belongs to stair with a 57.61 percent confidence.\n",
            "1/1 [==============================] - 0s 25ms/step\n",
            "This image most likely belongs to stair with a 57.60 percent confidence.\n",
            "1/1 [==============================] - 0s 24ms/step\n",
            "This image most likely belongs to stair with a 57.16 percent confidence.\n",
            "1/1 [==============================] - 0s 24ms/step\n",
            "This image most likely belongs to stair with a 57.60 percent confidence.\n",
            "1/1 [==============================] - 0s 26ms/step\n",
            "This image most likely belongs to stair with a 57.61 percent confidence.\n",
            "1/1 [==============================] - 0s 24ms/step\n",
            "This image most likely belongs to stair with a 57.61 percent confidence.\n",
            "1/1 [==============================] - 0s 28ms/step\n",
            "This image most likely belongs to stair with a 57.57 percent confidence.\n",
            "1/1 [==============================] - 0s 24ms/step\n",
            "This image most likely belongs to stair with a 57.61 percent confidence.\n",
            "1/1 [==============================] - 0s 28ms/step\n",
            "This image most likely belongs to stair with a 57.49 percent confidence.\n",
            "1/1 [==============================] - 0s 25ms/step\n",
            "This image most likely belongs to stair with a 57.61 percent confidence.\n",
            "1/1 [==============================] - 0s 24ms/step\n",
            "This image most likely belongs to stair with a 57.58 percent confidence.\n",
            "1/1 [==============================] - 0s 25ms/step\n",
            "This image most likely belongs to stair with a 57.61 percent confidence.\n",
            "1/1 [==============================] - 0s 24ms/step\n",
            "This image most likely belongs to stair with a 57.61 percent confidence.\n",
            "1/1 [==============================] - 0s 24ms/step\n",
            "This image most likely belongs to stair with a 57.58 percent confidence.\n",
            "1/1 [==============================] - 0s 27ms/step\n",
            "This image most likely belongs to stair with a 57.61 percent confidence.\n",
            "1/1 [==============================] - 0s 24ms/step\n",
            "This image most likely belongs to stair with a 57.61 percent confidence.\n",
            "1/1 [==============================] - 0s 24ms/step\n",
            "This image most likely belongs to stair with a 57.61 percent confidence.\n",
            "1/1 [==============================] - 0s 29ms/step\n",
            "This image most likely belongs to stair with a 57.61 percent confidence.\n",
            "1/1 [==============================] - 0s 33ms/step\n",
            "This image most likely belongs to stair with a 57.61 percent confidence.\n",
            "1/1 [==============================] - 0s 23ms/step\n",
            "This image most likely belongs to stair with a 57.61 percent confidence.\n",
            "1/1 [==============================] - 0s 24ms/step\n",
            "This image most likely belongs to stair with a 57.61 percent confidence.\n",
            "1/1 [==============================] - 0s 23ms/step\n",
            "This image most likely belongs to stair with a 57.59 percent confidence.\n",
            "1/1 [==============================] - 0s 23ms/step\n",
            "This image most likely belongs to stair with a 57.61 percent confidence.\n",
            "1/1 [==============================] - 0s 26ms/step\n",
            "This image most likely belongs to stair with a 51.75 percent confidence.\n",
            "1/1 [==============================] - 0s 23ms/step\n",
            "This image most likely belongs to stair with a 57.61 percent confidence.\n",
            "1/1 [==============================] - 0s 33ms/step\n",
            "This image most likely belongs to stair with a 57.61 percent confidence.\n",
            "1/1 [==============================] - 0s 23ms/step\n",
            "This image most likely belongs to stair with a 57.61 percent confidence.\n",
            "1/1 [==============================] - 0s 29ms/step\n",
            "This image most likely belongs to stair with a 55.68 percent confidence.\n",
            "1/1 [==============================] - 0s 24ms/step\n",
            "This image most likely belongs to stair with a 57.61 percent confidence.\n",
            "1/1 [==============================] - 0s 31ms/step\n",
            "This image most likely belongs to stair with a 57.61 percent confidence.\n",
            "1/1 [==============================] - 0s 25ms/step\n",
            "This image most likely belongs to stair with a 57.16 percent confidence.\n",
            "1/1 [==============================] - 0s 25ms/step\n",
            "This image most likely belongs to stair with a 57.61 percent confidence.\n",
            "1/1 [==============================] - 0s 23ms/step\n",
            "This image most likely belongs to stair with a 57.53 percent confidence.\n",
            "1/1 [==============================] - 0s 25ms/step\n",
            "This image most likely belongs to stair with a 57.61 percent confidence.\n",
            "1/1 [==============================] - 0s 28ms/step\n",
            "This image most likely belongs to stair with a 42.15 percent confidence.\n",
            "1/1 [==============================] - 0s 25ms/step\n",
            "This image most likely belongs to stair with a 57.61 percent confidence.\n",
            "1/1 [==============================] - 0s 25ms/step\n",
            "This image most likely belongs to stair with a 57.61 percent confidence.\n",
            "1/1 [==============================] - 0s 23ms/step\n",
            "This image most likely belongs to stair with a 57.61 percent confidence.\n",
            "1/1 [==============================] - 0s 28ms/step\n",
            "This image most likely belongs to stair with a 57.58 percent confidence.\n",
            "1/1 [==============================] - 0s 25ms/step\n",
            "This image most likely belongs to stair with a 57.50 percent confidence.\n",
            "1/1 [==============================] - 0s 22ms/step\n",
            "This image most likely belongs to stair with a 57.61 percent confidence.\n",
            "1/1 [==============================] - 0s 22ms/step\n",
            "This image most likely belongs to stair with a 57.61 percent confidence.\n",
            "1/1 [==============================] - 0s 22ms/step\n",
            "This image most likely belongs to stair with a 57.58 percent confidence.\n",
            "1/1 [==============================] - 0s 21ms/step\n",
            "This image most likely belongs to stair with a 57.52 percent confidence.\n",
            "1/1 [==============================] - 0s 22ms/step\n",
            "This image most likely belongs to stair with a 57.61 percent confidence.\n",
            "1/1 [==============================] - 0s 24ms/step\n",
            "This image most likely belongs to stair with a 57.61 percent confidence.\n",
            "1/1 [==============================] - 0s 22ms/step\n",
            "This image most likely belongs to stair with a 48.07 percent confidence.\n",
            "1/1 [==============================] - 0s 35ms/step\n",
            "This image most likely belongs to stair with a 57.61 percent confidence.\n",
            "1/1 [==============================] - 0s 22ms/step\n",
            "This image most likely belongs to stair with a 57.61 percent confidence.\n",
            "1/1 [==============================] - 0s 22ms/step\n",
            "This image most likely belongs to stair with a 57.61 percent confidence.\n",
            "1/1 [==============================] - 0s 24ms/step\n",
            "This image most likely belongs to stair with a 57.61 percent confidence.\n",
            "1/1 [==============================] - 0s 23ms/step\n",
            "This image most likely belongs to stair with a 57.61 percent confidence.\n",
            "1/1 [==============================] - 0s 23ms/step\n",
            "This image most likely belongs to stair with a 57.61 percent confidence.\n",
            "1/1 [==============================] - 0s 23ms/step\n",
            "This image most likely belongs to stair with a 57.61 percent confidence.\n",
            "1/1 [==============================] - 0s 26ms/step\n",
            "This image most likely belongs to stair with a 57.61 percent confidence.\n",
            "1/1 [==============================] - 0s 23ms/step\n",
            "This image most likely belongs to stair with a 57.42 percent confidence.\n",
            "1/1 [==============================] - 0s 27ms/step\n",
            "This image most likely belongs to stair with a 57.61 percent confidence.\n",
            "1/1 [==============================] - 0s 24ms/step\n",
            "This image most likely belongs to stair with a 57.61 percent confidence.\n",
            "1/1 [==============================] - 0s 33ms/step\n",
            "This image most likely belongs to stair with a 57.61 percent confidence.\n",
            "1/1 [==============================] - 0s 27ms/step\n",
            "This image most likely belongs to stair with a 57.61 percent confidence.\n",
            "1/1 [==============================] - 0s 26ms/step\n",
            "This image most likely belongs to stair with a 57.61 percent confidence.\n",
            "1/1 [==============================] - 0s 24ms/step\n",
            "This image most likely belongs to stair with a 57.61 percent confidence.\n",
            "1/1 [==============================] - 0s 33ms/step\n",
            "This image most likely belongs to stair with a 57.61 percent confidence.\n",
            "1/1 [==============================] - 0s 25ms/step\n",
            "This image most likely belongs to stair with a 57.55 percent confidence.\n",
            "1/1 [==============================] - 0s 25ms/step\n",
            "This image most likely belongs to stair with a 57.61 percent confidence.\n",
            "1/1 [==============================] - 0s 25ms/step\n",
            "This image most likely belongs to stair with a 57.07 percent confidence.\n",
            "1/1 [==============================] - 0s 24ms/step\n",
            "This image most likely belongs to stair with a 57.61 percent confidence.\n",
            "1/1 [==============================] - 0s 25ms/step\n",
            "This image most likely belongs to stair with a 56.68 percent confidence.\n",
            "1/1 [==============================] - 0s 26ms/step\n",
            "This image most likely belongs to stair with a 57.61 percent confidence.\n",
            "1/1 [==============================] - 0s 24ms/step\n",
            "This image most likely belongs to stair with a 57.61 percent confidence.\n",
            "1/1 [==============================] - 0s 23ms/step\n",
            "This image most likely belongs to stair with a 57.61 percent confidence.\n",
            "1/1 [==============================] - 0s 26ms/step\n",
            "This image most likely belongs to stair with a 57.59 percent confidence.\n",
            "1/1 [==============================] - 0s 26ms/step\n",
            "This image most likely belongs to stair with a 53.86 percent confidence.\n",
            "1/1 [==============================] - 0s 28ms/step\n",
            "This image most likely belongs to stair with a 43.61 percent confidence.\n",
            "1/1 [==============================] - 0s 26ms/step\n",
            "This image most likely belongs to window with a 56.91 percent confidence.\n",
            "1/1 [==============================] - 0s 24ms/step\n",
            "This image most likely belongs to stair with a 57.61 percent confidence.\n",
            "1/1 [==============================] - 0s 24ms/step\n",
            "This image most likely belongs to stair with a 57.61 percent confidence.\n",
            "1/1 [==============================] - 0s 25ms/step\n",
            "This image most likely belongs to stair with a 57.61 percent confidence.\n",
            "1/1 [==============================] - 0s 26ms/step\n",
            "This image most likely belongs to stair with a 57.61 percent confidence.\n",
            "1/1 [==============================] - 0s 24ms/step\n",
            "This image most likely belongs to stair with a 57.57 percent confidence.\n",
            "1/1 [==============================] - 0s 27ms/step\n",
            "This image most likely belongs to stair with a 57.30 percent confidence.\n",
            "1/1 [==============================] - 0s 29ms/step\n",
            "This image most likely belongs to stair with a 57.42 percent confidence.\n",
            "1/1 [==============================] - 0s 25ms/step\n",
            "This image most likely belongs to stair with a 57.61 percent confidence.\n",
            "1/1 [==============================] - 0s 24ms/step\n",
            "This image most likely belongs to stair with a 57.61 percent confidence.\n",
            "1/1 [==============================] - 0s 27ms/step\n",
            "This image most likely belongs to stair with a 57.38 percent confidence.\n",
            "1/1 [==============================] - 0s 39ms/step\n",
            "This image most likely belongs to stair with a 57.61 percent confidence.\n",
            "1/1 [==============================] - 0s 35ms/step\n",
            "This image most likely belongs to stair with a 57.61 percent confidence.\n",
            "1/1 [==============================] - 0s 34ms/step\n",
            "This image most likely belongs to stair with a 55.55 percent confidence.\n",
            "1/1 [==============================] - 0s 36ms/step\n",
            "This image most likely belongs to window with a 50.12 percent confidence.\n",
            "1/1 [==============================] - 0s 35ms/step\n",
            "This image most likely belongs to stair with a 57.61 percent confidence.\n",
            "1/1 [==============================] - 0s 37ms/step\n",
            "This image most likely belongs to stair with a 57.61 percent confidence.\n",
            "1/1 [==============================] - 0s 42ms/step\n",
            "This image most likely belongs to stair with a 57.60 percent confidence.\n",
            "1/1 [==============================] - 0s 35ms/step\n",
            "This image most likely belongs to stair with a 57.61 percent confidence.\n",
            "1/1 [==============================] - 0s 39ms/step\n",
            "This image most likely belongs to stair with a 57.61 percent confidence.\n",
            "1/1 [==============================] - 0s 44ms/step\n",
            "This image most likely belongs to stair with a 57.61 percent confidence.\n",
            "1/1 [==============================] - 0s 35ms/step\n",
            "This image most likely belongs to stair with a 57.61 percent confidence.\n",
            "1/1 [==============================] - 0s 36ms/step\n",
            "This image most likely belongs to stair with a 57.61 percent confidence.\n",
            "1/1 [==============================] - 0s 34ms/step\n",
            "This image most likely belongs to stair with a 56.29 percent confidence.\n",
            "1/1 [==============================] - 0s 33ms/step\n",
            "This image most likely belongs to stair with a 57.61 percent confidence.\n",
            "1/1 [==============================] - 0s 31ms/step\n",
            "This image most likely belongs to stair with a 57.61 percent confidence.\n",
            "1/1 [==============================] - 0s 32ms/step\n",
            "This image most likely belongs to stair with a 51.03 percent confidence.\n",
            "1/1 [==============================] - 0s 37ms/step\n",
            "This image most likely belongs to stair with a 57.61 percent confidence.\n",
            "1/1 [==============================] - 0s 32ms/step\n",
            "This image most likely belongs to stair with a 56.23 percent confidence.\n",
            "1/1 [==============================] - 0s 48ms/step\n",
            "This image most likely belongs to stair with a 51.13 percent confidence.\n",
            "1/1 [==============================] - 0s 36ms/step\n",
            "This image most likely belongs to stair with a 57.61 percent confidence.\n",
            "1/1 [==============================] - 0s 43ms/step\n",
            "This image most likely belongs to stair with a 57.61 percent confidence.\n",
            "1/1 [==============================] - 0s 41ms/step\n",
            "This image most likely belongs to stair with a 57.61 percent confidence.\n",
            "1/1 [==============================] - 0s 36ms/step\n",
            "This image most likely belongs to stair with a 57.61 percent confidence.\n",
            "1/1 [==============================] - 0s 37ms/step\n",
            "This image most likely belongs to stair with a 57.61 percent confidence.\n",
            "1/1 [==============================] - 0s 42ms/step\n",
            "This image most likely belongs to stair with a 57.61 percent confidence.\n",
            "1/1 [==============================] - 0s 44ms/step\n",
            "This image most likely belongs to stair with a 57.61 percent confidence.\n",
            "1/1 [==============================] - 0s 37ms/step\n",
            "This image most likely belongs to stair with a 57.61 percent confidence.\n",
            "1/1 [==============================] - 0s 58ms/step\n",
            "This image most likely belongs to stair with a 57.61 percent confidence.\n",
            "1/1 [==============================] - 0s 39ms/step\n",
            "This image most likely belongs to stair with a 57.57 percent confidence.\n",
            "1/1 [==============================] - 0s 23ms/step\n",
            "This image most likely belongs to stair with a 57.61 percent confidence.\n",
            "1/1 [==============================] - 0s 28ms/step\n",
            "This image most likely belongs to stair with a 55.45 percent confidence.\n",
            "1/1 [==============================] - 0s 27ms/step\n",
            "This image most likely belongs to stair with a 57.61 percent confidence.\n",
            "1/1 [==============================] - 0s 38ms/step\n",
            "This image most likely belongs to stair with a 57.61 percent confidence.\n",
            "1/1 [==============================] - 0s 35ms/step\n",
            "This image most likely belongs to stair with a 57.61 percent confidence.\n",
            "1/1 [==============================] - 0s 28ms/step\n",
            "This image most likely belongs to stair with a 56.83 percent confidence.\n",
            "1/1 [==============================] - 0s 25ms/step\n",
            "This image most likely belongs to stair with a 57.48 percent confidence.\n",
            "1/1 [==============================] - 0s 37ms/step\n",
            "This image most likely belongs to stair with a 57.61 percent confidence.\n",
            "1/1 [==============================] - 0s 22ms/step\n",
            "This image most likely belongs to stair with a 57.58 percent confidence.\n",
            "1/1 [==============================] - 0s 22ms/step\n",
            "This image most likely belongs to stair with a 57.60 percent confidence.\n",
            "1/1 [==============================] - 0s 23ms/step\n",
            "This image most likely belongs to stair with a 57.61 percent confidence.\n",
            "1/1 [==============================] - 0s 21ms/step\n",
            "This image most likely belongs to stair with a 57.61 percent confidence.\n",
            "1/1 [==============================] - 0s 35ms/step\n",
            "This image most likely belongs to stair with a 57.61 percent confidence.\n",
            "1/1 [==============================] - 0s 39ms/step\n",
            "This image most likely belongs to stair with a 57.61 percent confidence.\n",
            "1/1 [==============================] - 0s 35ms/step\n",
            "This image most likely belongs to stair with a 57.61 percent confidence.\n",
            "1/1 [==============================] - 0s 40ms/step\n",
            "This image most likely belongs to stair with a 57.11 percent confidence.\n",
            "1/1 [==============================] - 0s 35ms/step\n",
            "This image most likely belongs to stair with a 57.61 percent confidence.\n",
            "1/1 [==============================] - 0s 22ms/step\n",
            "This image most likely belongs to stair with a 49.35 percent confidence.\n",
            "1/1 [==============================] - 0s 28ms/step\n",
            "This image most likely belongs to stair with a 57.56 percent confidence.\n",
            "1/1 [==============================] - 0s 23ms/step\n",
            "This image most likely belongs to stair with a 56.38 percent confidence.\n",
            "1/1 [==============================] - 0s 21ms/step\n",
            "This image most likely belongs to stair with a 57.61 percent confidence.\n",
            "1/1 [==============================] - 0s 23ms/step\n",
            "This image most likely belongs to stair with a 57.61 percent confidence.\n",
            "1/1 [==============================] - 0s 23ms/step\n",
            "This image most likely belongs to stair with a 57.61 percent confidence.\n",
            "1/1 [==============================] - 0s 22ms/step\n",
            "This image most likely belongs to stair with a 57.61 percent confidence.\n",
            "1/1 [==============================] - 0s 22ms/step\n",
            "This image most likely belongs to stair with a 57.61 percent confidence.\n",
            "1/1 [==============================] - 0s 22ms/step\n",
            "This image most likely belongs to stair with a 57.61 percent confidence.\n",
            "1/1 [==============================] - 0s 25ms/step\n",
            "This image most likely belongs to stair with a 57.61 percent confidence.\n",
            "1/1 [==============================] - 0s 41ms/step\n",
            "This image most likely belongs to stair with a 57.38 percent confidence.\n",
            "1/1 [==============================] - 0s 141ms/step\n",
            "This image most likely belongs to stair with a 57.61 percent confidence.\n"
          ]
        }
      ]
    },
    {
      "cell_type": "code",
      "source": [
        "print(len(X_TRAIN))\n",
        "print(len(Y_TRAIN))\n",
        "#print(X_TRAIN)"
      ],
      "metadata": {
        "colab": {
          "base_uri": "https://localhost:8080/"
        },
        "id": "xLtqDTOuwZkT",
        "outputId": "d13b0f3d-ea38-426f-d91c-728c8492b23d"
      },
      "execution_count": 70,
      "outputs": [
        {
          "output_type": "stream",
          "name": "stdout",
          "text": [
            "11979\n",
            "11979\n"
          ]
        }
      ]
    },
    {
      "cell_type": "code",
      "source": [
        "model = models.Sequential()\n",
        "model.add(layers.Conv2D(32, (3, 3), activation='relu', input_shape=(64, 64, 1)))\n",
        "model.add(layers.MaxPooling2D((2, 2)))\n",
        "model.add(layers.Conv2D(64, (3, 3), activation='relu'))\n",
        "model.add(layers.MaxPooling2D((2, 2)))\n",
        "model.add(layers.Conv2D(64, (3, 3), activation='relu'))\n",
        "model.add(layers.Flatten())\n",
        "model.add(layers.Dense(64, activation='relu'))\n",
        "model.add(layers.Dense(2))\n",
        "model.add(layers.Activation(\"softmax\"))\n",
        "\n",
        "model.summary()\n",
        "\n",
        "model.compile(optimizer='adam', loss='sparse_categorical_crossentropy', metrics=['accuracy'])"
      ],
      "metadata": {
        "id": "8-lbAcBhqNUT",
        "outputId": "2fbdd473-5a15-4af5-b84a-4baf6c08d666",
        "colab": {
          "base_uri": "https://localhost:8080/"
        }
      },
      "execution_count": 130,
      "outputs": [
        {
          "output_type": "stream",
          "name": "stdout",
          "text": [
            "Model: \"sequential_14\"\n",
            "_________________________________________________________________\n",
            " Layer (type)                Output Shape              Param #   \n",
            "=================================================================\n",
            " conv2d_27 (Conv2D)          (None, 62, 62, 32)        320       \n",
            "                                                                 \n",
            " max_pooling2d_28 (MaxPooli  (None, 31, 31, 32)        0         \n",
            " ng2D)                                                           \n",
            "                                                                 \n",
            " conv2d_28 (Conv2D)          (None, 29, 29, 64)        18496     \n",
            "                                                                 \n",
            " max_pooling2d_29 (MaxPooli  (None, 14, 14, 64)        0         \n",
            " ng2D)                                                           \n",
            "                                                                 \n",
            " conv2d_29 (Conv2D)          (None, 12, 12, 64)        36928     \n",
            "                                                                 \n",
            " flatten_9 (Flatten)         (None, 9216)              0         \n",
            "                                                                 \n",
            " dense_18 (Dense)            (None, 64)                589888    \n",
            "                                                                 \n",
            " dense_19 (Dense)            (None, 2)                 130       \n",
            "                                                                 \n",
            " activation_8 (Activation)   (None, 2)                 0         \n",
            "                                                                 \n",
            "=================================================================\n",
            "Total params: 645762 (2.46 MB)\n",
            "Trainable params: 645762 (2.46 MB)\n",
            "Non-trainable params: 0 (0.00 Byte)\n",
            "_________________________________________________________________\n"
          ]
        }
      ]
    },
    {
      "cell_type": "code",
      "source": [
        "model = models.Sequential()\n",
        "# model.add(layers.Conv2D(32, (5, 5), activation='relu',padding='same' ,input_shape=(64, 64,3)))\n",
        "model.add(layers.Conv2D(32, (5, 5), activation='relu',padding='same' ,input_shape=(64, 64,1)))\n",
        "model.add(layers.MaxPooling2D(pool_size=(2,2)))\n",
        "model.add(layers.Activation(\"relu\"))\n",
        "\n",
        "model.add(layers.Conv2D(32, (5, 5), activation='relu',padding='same' ,input_shape=(32, 32,1)))\n",
        "model.add(layers.MaxPooling2D(pool_size=(2,2)))\n",
        "model.add(layers.Activation(\"relu\"))\n",
        "\n",
        "model.add(layers.Conv2D(64, (5, 5), activation='relu',padding='same' ,input_shape=(16, 16,1)))\n",
        "model.add(layers.MaxPooling2D(pool_size=(2,2)))\n",
        "model.add(layers.Activation(\"relu\"))\n",
        "model.add(layers.MaxPooling2D(pool_size=(2,2)))\n",
        "model.add(layers.Flatten())\n",
        "model.add(layers.Dense(64))\n",
        "model.add(layers.Dense(2))\n",
        "model.add(layers.Activation(\"softmax\"))\n",
        "\n",
        "model.summary()\n",
        "\n",
        "model.compile(optimizer='adam', loss='sparse_categorical_crossentropy', metrics=['accuracy'])"
      ],
      "metadata": {
        "colab": {
          "base_uri": "https://localhost:8080/"
        },
        "id": "iUMkoJGmUZOf",
        "outputId": "0d57904a-4857-4c6a-df98-f114fd213dd2"
      },
      "execution_count": 71,
      "outputs": [
        {
          "output_type": "stream",
          "name": "stdout",
          "text": [
            "Model: \"sequential_1\"\n",
            "_________________________________________________________________\n",
            " Layer (type)                Output Shape              Param #   \n",
            "=================================================================\n",
            " conv2d_3 (Conv2D)           (None, 64, 64, 32)        832       \n",
            "                                                                 \n",
            " max_pooling2d_2 (MaxPoolin  (None, 32, 32, 32)        0         \n",
            " g2D)                                                            \n",
            "                                                                 \n",
            " activation_1 (Activation)   (None, 32, 32, 32)        0         \n",
            "                                                                 \n",
            " conv2d_4 (Conv2D)           (None, 32, 32, 32)        25632     \n",
            "                                                                 \n",
            " max_pooling2d_3 (MaxPoolin  (None, 16, 16, 32)        0         \n",
            " g2D)                                                            \n",
            "                                                                 \n",
            " activation_2 (Activation)   (None, 16, 16, 32)        0         \n",
            "                                                                 \n",
            " conv2d_5 (Conv2D)           (None, 16, 16, 64)        51264     \n",
            "                                                                 \n",
            " max_pooling2d_4 (MaxPoolin  (None, 8, 8, 64)          0         \n",
            " g2D)                                                            \n",
            "                                                                 \n",
            " activation_3 (Activation)   (None, 8, 8, 64)          0         \n",
            "                                                                 \n",
            " max_pooling2d_5 (MaxPoolin  (None, 4, 4, 64)          0         \n",
            " g2D)                                                            \n",
            "                                                                 \n",
            " flatten_1 (Flatten)         (None, 1024)              0         \n",
            "                                                                 \n",
            " dense_2 (Dense)             (None, 64)                65600     \n",
            "                                                                 \n",
            " dense_3 (Dense)             (None, 2)                 130       \n",
            "                                                                 \n",
            " activation_4 (Activation)   (None, 2)                 0         \n",
            "                                                                 \n",
            "=================================================================\n",
            "Total params: 143458 (560.38 KB)\n",
            "Trainable params: 143458 (560.38 KB)\n",
            "Non-trainable params: 0 (0.00 Byte)\n",
            "_________________________________________________________________\n"
          ]
        }
      ]
    },
    {
      "cell_type": "code",
      "source": [
        "model.fit(X_TRAIN, Y_TRAIN, batch_size=32, epochs=5)"
      ],
      "metadata": {
        "colab": {
          "base_uri": "https://localhost:8080/"
        },
        "id": "q2OsT_xJ4HRl",
        "outputId": "2d7e2528-05b2-4a7f-f5f7-1a8629c127fd"
      },
      "execution_count": 72,
      "outputs": [
        {
          "output_type": "stream",
          "name": "stdout",
          "text": [
            "Epoch 1/5\n",
            "375/375 [==============================] - 116s 308ms/step - loss: 0.0959 - accuracy: 0.9666\n",
            "Epoch 2/5\n",
            "375/375 [==============================] - 113s 302ms/step - loss: 0.0201 - accuracy: 0.9947\n",
            "Epoch 3/5\n",
            "375/375 [==============================] - 114s 305ms/step - loss: 0.0061 - accuracy: 0.9984\n",
            "Epoch 4/5\n",
            "375/375 [==============================] - 115s 308ms/step - loss: 0.0044 - accuracy: 0.9988\n",
            "Epoch 5/5\n",
            "375/375 [==============================] - 114s 303ms/step - loss: 0.0052 - accuracy: 0.9987\n"
          ]
        },
        {
          "output_type": "execute_result",
          "data": {
            "text/plain": [
              "<keras.src.callbacks.History at 0x7884409ad360>"
            ]
          },
          "metadata": {},
          "execution_count": 72
        }
      ]
    },
    {
      "cell_type": "code",
      "source": [
        "import matplotlib.pyplot as plt\n",
        "TESTDIR = \"/content/drive/MyDrive/diplom/test/window11111.jpg\"\n",
        "# for img in os.listdir(TESTDIR):\n",
        "#     try:\n",
        "#         img_array = cv2.imread(os.path.join(TESTDIR, img))\n",
        "#         new_img = cv2.resize(img_array, (IMG_SIZE, IMG_SIZE))\n",
        "#         new_shape = new_img.reshape(-1, IMG_SIZE, IMG_SIZE, 1)\n",
        "#         predictions = model.predict(new_shape)\n",
        "#         # plt.imshow(new_img)\n",
        "#         # print(predictions)\n",
        "#         print(LABELS[np.argmax(predictions)])\n",
        "#     except Exception as e:\n",
        "#         pass\n",
        "img_array = cv2.imread(TESTDIR)\n",
        "new_img = cv2.resize(img_array, (IMG_SIZE, IMG_SIZE))\n",
        "new_shape = new_img.reshape(-1, IMG_SIZE, IMG_SIZE, 1)\n",
        "predictions = model.predict(new_shape)\n",
        "plt.imshow(new_img)\n",
        "print(predictions)\n",
        "print(np.argmax(predictions))\n",
        "print(LABELS[np.argmax(predictions)])"
      ],
      "metadata": {
        "colab": {
          "base_uri": "https://localhost:8080/",
          "height": 534
        },
        "id": "y7DK3k3m2nCS",
        "outputId": "bc75584a-8ee9-406e-81aa-1a83fa614110"
      },
      "execution_count": 78,
      "outputs": [
        {
          "output_type": "stream",
          "name": "stdout",
          "text": [
            "1/1 [==============================] - 0s 30ms/step\n",
            "[[1. 0.]\n",
            " [1. 0.]\n",
            " [0. 1.]]\n",
            "0\n",
            "door\n"
          ]
        },
        {
          "output_type": "display_data",
          "data": {
            "text/plain": [
              "<Figure size 640x480 with 1 Axes>"
            ],
            "image/png": "[encoded data removed]"
          },
          "metadata": {}
        }
      ]
    }
  ]
}