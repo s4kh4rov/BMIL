{
  "nbformat": 4,
  "nbformat_minor": 0,
  "metadata": {
    "colab": {
      "provenance": [],
      "mount_file_id": "https://github.com/s4kh4rov/BMIL/blob/master/magdiplom.ipynb",
      "authorship_tag": "ABX9TyMbGnJ35FJp64hvegt2j87h",
      "include_colab_link": true
    },
    "kernelspec": {
      "name": "python3",
      "display_name": "Python 3"
    },
    "language_info": {
      "name": "python"
    }
  },
  "cells": [
    {
      "cell_type": "markdown",
      "metadata": {
        "id": "view-in-github",
        "colab_type": "text"
      },
      "source": [
        "<a href=\"https://colab.research.google.com/github/s4kh4rov/BMIL/blob/master/magdiplom.ipynb\" target=\"_parent\"><img src=\"https://colab.research.google.com/assets/colab-badge.svg\" alt=\"Open In Colab\"/></a>"
      ]
    },
    {
      "cell_type": "code",
      "execution_count": 85,
      "metadata": {
        "id": "3UcFs-beCX39"
      },
      "outputs": [],
      "source": [
        "import cv2\n",
        "import numpy as np\n",
        "from google.colab.patches import cv2_imshow\n",
        "import glob\n",
        "import os\n",
        "import tensorflow as tf\n",
        "from tensorflow.keras import datasets, layers, models"
      ]
    },
    {
      "cell_type": "code",
      "source": [
        "def resizeImage(width, height, image):\n",
        "  down_points = (width, height)\n",
        "  return cv2.resize(image, down_points, interpolation= cv2.INTER_LINEAR)"
      ],
      "metadata": {
        "id": "5SxvK-2WLNLf"
      },
      "execution_count": 86,
      "outputs": []
    },
    {
      "cell_type": "code",
      "source": [
        "# image = cv2.imread('/content/drive/MyDrive/diplom/photos/IMG_1772_016.jpg')\n",
        "all_img_paths = glob.glob(\"/content/drive/MyDrive/diplom/photos/stairs/*.jpg\")\n",
        "path = '/content/drive/MyDrive/diplom/readyImg/stair/'\n",
        "i=0\n",
        "for img_path in all_img_paths:\n",
        "  # print(img_path)\n",
        "  img = cv2.imread(img_path)\n",
        "  img300 = resizeImage(300,300,img)\n",
        "  imgEdge = cv2.edgePreservingFilter(img300, flags=1, sigma_s=60, sigma_r=0.4)\n",
        "  imgGray = cv2.cvtColor(imgEdge, cv2.COLOR_BGR2GRAY)\n",
        "  imgLap = cv2.Laplacian(imgGray, cv2.CV_64F, ksize=7)\n",
        "  img64 = resizeImage(64,64,imgLap)\n",
        "  # cv2_imshow(img64)\n",
        "  cv2.imwrite(os.path.join(path , 'stair'+str(i)+'.jpg'), img64)\n",
        "  i+=1"
      ],
      "metadata": {
        "id": "iaqz1zLGDiyC"
      },
      "execution_count": 110,
      "outputs": []
    },
    {
      "cell_type": "code",
      "source": [
        "DATADIR = \"/content/drive/MyDrive/diplom/readyImg/\"\n",
        "\n",
        "LABELS = [\"stair\", \"door\"]\n",
        "\n",
        "X_TRAIN = []\n",
        "Y_TRAIN = []\n",
        "\n",
        "IMG_SIZE = 64\n",
        "for category in LABELS:\n",
        "    path = os.path.join(DATADIR, category)\n",
        "    class_num = LABELS.index(category)\n",
        "    for img in os.listdir(path):\n",
        "        try:\n",
        "            img_array = cv2.imread(os.path.join(path, img),cv2.IMREAD_GRAYSCALE)\n",
        "            new_array = cv2.resize(img_array, (IMG_SIZE, IMG_SIZE))\n",
        "            X_TRAIN.append(new_array)\n",
        "            Y_TRAIN.append(class_num)\n",
        "        except Exception as e:\n",
        "            pass\n",
        "\n",
        "X_TRAIN = np.array(X_TRAIN).reshape(-1, IMG_SIZE, IMG_SIZE,1)\n",
        "Y_TRAIN = np.array(Y_TRAIN)\n",
        "# X_TRAIN = X_TRAIN/255"
      ],
      "metadata": {
        "id": "sn9QJ-FrjZUe"
      },
      "execution_count": 111,
      "outputs": []
    },
    {
      "cell_type": "code",
      "source": [
        "print(len(X_TRAIN))\n",
        "print(len(Y_TRAIN))\n",
        "#print(X_TRAIN)"
      ],
      "metadata": {
        "colab": {
          "base_uri": "https://localhost:8080/"
        },
        "id": "xLtqDTOuwZkT",
        "outputId": "13ceb0ec-ceca-425f-c4b2-c0f2a4e67b6b"
      },
      "execution_count": 112,
      "outputs": [
        {
          "output_type": "stream",
          "name": "stdout",
          "text": [
            "1084\n",
            "1084\n"
          ]
        }
      ]
    },
    {
      "cell_type": "code",
      "source": [
        "model = models.Sequential()\n",
        "# model.add(layers.Conv2D(32, (5, 5), activation='relu',padding='same' ,input_shape=(64, 64,3)))\n",
        "model.add(layers.Conv2D(32, (5, 5), activation='relu',padding='same' ,input_shape=(64, 64,1)))\n",
        "model.add(layers.MaxPooling2D(pool_size=(2,2)))\n",
        "model.add(layers.Activation(\"relu\"))\n",
        "\n",
        "model.add(layers.Conv2D(32, (5, 5), activation='relu',padding='same' ,input_shape=(32, 32,1)))\n",
        "model.add(layers.MaxPooling2D(pool_size=(2,2)))\n",
        "model.add(layers.Activation(\"relu\"))\n",
        "\n",
        "model.add(layers.Conv2D(64, (5, 5), activation='relu',padding='same' ,input_shape=(16, 16,1)))\n",
        "model.add(layers.MaxPooling2D(pool_size=(2,2)))\n",
        "model.add(layers.Activation(\"relu\"))\n",
        "model.add(layers.MaxPooling2D(pool_size=(2,2)))\n",
        "model.add(layers.Flatten())\n",
        "model.add(layers.Dense(64))\n",
        "model.add(layers.Dense(2))\n",
        "model.add(layers.Activation(\"softmax\"))\n",
        "\n",
        "model.summary()\n",
        "\n",
        "model.compile(optimizer='adam', loss='sparse_categorical_crossentropy', metrics=['accuracy'])"
      ],
      "metadata": {
        "colab": {
          "base_uri": "https://localhost:8080/"
        },
        "id": "iUMkoJGmUZOf",
        "outputId": "be9c8021-5715-4b99-a2cc-ccec37d2e40d"
      },
      "execution_count": 113,
      "outputs": [
        {
          "output_type": "stream",
          "name": "stdout",
          "text": [
            "Model: \"sequential_44\"\n",
            "_________________________________________________________________\n",
            " Layer (type)                Output Shape              Param #   \n",
            "=================================================================\n",
            " conv2d_93 (Conv2D)          (None, 64, 64, 32)        832       \n",
            "                                                                 \n",
            " max_pooling2d_105 (MaxPool  (None, 32, 32, 32)        0         \n",
            " ing2D)                                                          \n",
            "                                                                 \n",
            " activation_95 (Activation)  (None, 32, 32, 32)        0         \n",
            "                                                                 \n",
            " conv2d_94 (Conv2D)          (None, 32, 32, 32)        25632     \n",
            "                                                                 \n",
            " max_pooling2d_106 (MaxPool  (None, 16, 16, 32)        0         \n",
            " ing2D)                                                          \n",
            "                                                                 \n",
            " activation_96 (Activation)  (None, 16, 16, 32)        0         \n",
            "                                                                 \n",
            " conv2d_95 (Conv2D)          (None, 16, 16, 64)        51264     \n",
            "                                                                 \n",
            " max_pooling2d_107 (MaxPool  (None, 8, 8, 64)          0         \n",
            " ing2D)                                                          \n",
            "                                                                 \n",
            " activation_97 (Activation)  (None, 8, 8, 64)          0         \n",
            "                                                                 \n",
            " max_pooling2d_108 (MaxPool  (None, 4, 4, 64)          0         \n",
            " ing2D)                                                          \n",
            "                                                                 \n",
            " flatten_13 (Flatten)        (None, 1024)              0         \n",
            "                                                                 \n",
            " dense_37 (Dense)            (None, 64)                65600     \n",
            "                                                                 \n",
            " dense_38 (Dense)            (None, 2)                 130       \n",
            "                                                                 \n",
            " activation_98 (Activation)  (None, 2)                 0         \n",
            "                                                                 \n",
            "=================================================================\n",
            "Total params: 143458 (560.38 KB)\n",
            "Trainable params: 143458 (560.38 KB)\n",
            "Non-trainable params: 0 (0.00 Byte)\n",
            "_________________________________________________________________\n"
          ]
        }
      ]
    },
    {
      "cell_type": "code",
      "source": [
        "history = model.fit(X_TRAIN,Y_TRAIN, epochs=3, validation_split=0.1)\n",
        "print('\\nhistory dict:', history.history)"
      ],
      "metadata": {
        "colab": {
          "base_uri": "https://localhost:8080/"
        },
        "id": "SJuXjuW4jDsR",
        "outputId": "592c7c6b-a403-402c-88a8-45bc6d428ef9"
      },
      "execution_count": 114,
      "outputs": [
        {
          "output_type": "stream",
          "name": "stdout",
          "text": [
            "Epoch 1/3\n",
            "31/31 [==============================] - 11s 292ms/step - loss: 10.5811 - accuracy: 0.8164 - val_loss: 0.0095 - val_accuracy: 1.0000\n",
            "Epoch 2/3\n",
            "31/31 [==============================] - 12s 406ms/step - loss: 0.0768 - accuracy: 0.9703 - val_loss: 0.0241 - val_accuracy: 1.0000\n",
            "Epoch 3/3\n",
            "31/31 [==============================] - 10s 329ms/step - loss: 0.0041 - accuracy: 1.0000 - val_loss: 0.0041 - val_accuracy: 1.0000\n",
            "\n",
            "history dict: {'loss': [10.581127166748047, 0.0768175944685936, 0.004119265824556351], 'accuracy': [0.8164102435112, 0.9702563881874084, 1.0], 'val_loss': [0.009506250731647015, 0.024072881788015366, 0.004143419675529003], 'val_accuracy': [1.0, 1.0, 1.0]}\n"
          ]
        }
      ]
    },
    {
      "cell_type": "code",
      "source": [
        "import matplotlib.pyplot as plt\n",
        "TESTDIR = \"/content/drive/MyDrive/diplom/test/door151.jpg\"\n",
        "# for img in os.listdir(TESTDIR):\n",
        "#     try:\n",
        "#         img_array = cv2.imread(os.path.join(TESTDIR, img))\n",
        "#         new_img = cv2.resize(img_array, (IMG_SIZE, IMG_SIZE))\n",
        "#         new_shape = new_img.reshape(-1, IMG_SIZE, IMG_SIZE, 1)\n",
        "#         predictions = model.predict(new_shape)\n",
        "#         # plt.imshow(new_img)\n",
        "#         # print(predictions)\n",
        "#         print(LABELS[np.argmax(predictions)])\n",
        "#     except Exception as e:\n",
        "#         pass\n",
        "img_array = cv2.imread(TESTDIR)\n",
        "new_img = cv2.resize(img_array, (IMG_SIZE, IMG_SIZE))\n",
        "new_shape = new_img.reshape(-1, IMG_SIZE, IMG_SIZE, 1)\n",
        "predictions = model.predict(new_shape)\n",
        "plt.imshow(new_img)\n",
        "print(predictions)\n",
        "print(LABELS[np.argmax(predictions)])"
      ],
      "metadata": {
        "colab": {
          "base_uri": "https://localhost:8080/",
          "height": 691
        },
        "id": "y7DK3k3m2nCS",
        "outputId": "5cb4b9e5-05bb-4f2d-cc9c-76e3691065ac"
      },
      "execution_count": 115,
      "outputs": [
        {
          "output_type": "stream",
          "name": "stdout",
          "text": [
            "1/1 [==============================] - 0s 150ms/step\n",
            "[[1.2953833e-01 8.7046170e-01]\n",
            " [3.0666905e-09 1.0000000e+00]\n",
            " [9.8056316e-01 1.9436821e-02]]\n"
          ]
        },
        {
          "output_type": "error",
          "ename": "IndexError",
          "evalue": "ignored",
          "traceback": [
            "\u001b[0;31m---------------------------------------------------------------------------\u001b[0m",
            "\u001b[0;31mIndexError\u001b[0m                                Traceback (most recent call last)",
            "\u001b[0;32m<ipython-input-115-5811f5d433da>\u001b[0m in \u001b[0;36m<cell line: 20>\u001b[0;34m()\u001b[0m\n\u001b[1;32m     18\u001b[0m \u001b[0mplt\u001b[0m\u001b[0;34m.\u001b[0m\u001b[0mimshow\u001b[0m\u001b[0;34m(\u001b[0m\u001b[0mnew_img\u001b[0m\u001b[0;34m)\u001b[0m\u001b[0;34m\u001b[0m\u001b[0;34m\u001b[0m\u001b[0m\n\u001b[1;32m     19\u001b[0m \u001b[0mprint\u001b[0m\u001b[0;34m(\u001b[0m\u001b[0mpredictions\u001b[0m\u001b[0;34m)\u001b[0m\u001b[0;34m\u001b[0m\u001b[0;34m\u001b[0m\u001b[0m\n\u001b[0;32m---> 20\u001b[0;31m \u001b[0mprint\u001b[0m\u001b[0;34m(\u001b[0m\u001b[0mLABELS\u001b[0m\u001b[0;34m[\u001b[0m\u001b[0mnp\u001b[0m\u001b[0;34m.\u001b[0m\u001b[0margmax\u001b[0m\u001b[0;34m(\u001b[0m\u001b[0mpredictions\u001b[0m\u001b[0;34m)\u001b[0m\u001b[0;34m]\u001b[0m\u001b[0;34m)\u001b[0m\u001b[0;34m\u001b[0m\u001b[0;34m\u001b[0m\u001b[0m\n\u001b[0m",
            "\u001b[0;31mIndexError\u001b[0m: list index out of range"
          ]
        },
        {
          "output_type": "display_data",
          "data": {
            "text/plain": [
              "<Figure size 640x480 with 1 Axes>"
            ],
            "image/png": "[encoded data removed]"
          },
          "metadata": {}
        }
      ]
    }
  ]
}