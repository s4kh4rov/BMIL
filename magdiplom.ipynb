{
  "nbformat": 4,
  "nbformat_minor": 0,
  "metadata": {
    "colab": {
      "provenance": [],
      "mount_file_id": "11Ys3b9vDs4Ov20xwmnVKX_rKufGY-5Ct",
      "authorship_tag": "ABX9TyPzeBtazw/YJwKmcqLbSDa2",
      "include_colab_link": true
    },
    "kernelspec": {
      "name": "python3",
      "display_name": "Python 3"
    },
    "language_info": {
      "name": "python"
    }
  },
  "cells": [
    {
      "cell_type": "markdown",
      "metadata": {
        "id": "view-in-github",
        "colab_type": "text"
      },
      "source": [
        "<a href=\"https://colab.research.google.com/github/s4kh4rov/BMIL/blob/master/magdiplom.ipynb\" target=\"_parent\"><img src=\"https://colab.research.google.com/assets/colab-badge.svg\" alt=\"Open In Colab\"/></a>"
      ]
    },
    {
      "cell_type": "code",
      "execution_count": 3,
      "metadata": {
        "id": "3UcFs-beCX39"
      },
      "outputs": [],
      "source": [
        "import cv2\n",
        "import numpy as np\n",
        "from google.colab.patches import cv2_imshow"
      ]
    },
    {
      "cell_type": "code",
      "source": [
        "image = cv2.imread('/content/drive/MyDrive/diplom/photos/IMG_1771_000.jpg')\n",
        "#cv2_imshow(image)\n",
        "h,w,c = image.shape\n",
        "print(\"Original Height and Width:\", h,\"x\", w)\n",
        "down_width = 300\n",
        "down_height = 300\n",
        "down_points = (down_width, down_height)\n",
        "resized_down = cv2.resize(image, down_points, interpolation= cv2.INTER_LINEAR)\n",
        "#cv2_imshow(image)\n",
        "h1,w1,c1 = resized_down.shape\n",
        "print(\"Resized Height and Width:\", h1,\"x\", w1)\n",
        "\n",
        "dst = cv2.edgePreservingFilter(resized_down, flags=1, sigma_s=60, sigma_r=0.4)\n",
        "#cv2_imshow(dst)\n",
        "\n",
        "gray = cv2.cvtColor(dst, cv2.COLOR_BGR2GRAY)\n",
        "#cv2_imshow(gray)\n",
        "\n",
        "\n",
        "lap_img = cv2.Laplacian(gray, cv2.CV_64F, ksize=5)\n",
        "#cv2_imshow(lap_img)\n",
        "\n",
        "width64 = 64\n",
        "height64 = 64\n",
        "down_points_64 = (width64, height64)\n",
        "resized_img64 = cv2.resize(lap_img, down_points_64, interpolation= cv2.INTER_LINEAR)\n",
        "cv2_imshow(resized_img64)"
      ],
      "metadata": {
        "colab": {
          "base_uri": "https://localhost:8080/",
          "height": 115
        },
        "id": "iaqz1zLGDiyC",
        "outputId": "8c4f9019-befd-4c76-fa58-c9fc3813e232"
      },
      "execution_count": 23,
      "outputs": [
        {
          "output_type": "stream",
          "name": "stdout",
          "text": [
            "Original Height and Width: 1920 x 1080\n",
            "Resized Height and Width: 300 x 300\n"
          ]
        },
        {
          "output_type": "display_data",
          "data": {
            "text/plain": [
              "<PIL.Image.Image image mode=L size=64x64>"
            ],
            "image/png": "[encoded data removed]"
          },
          "metadata": {}
        }
      ]
    }
  ]
}