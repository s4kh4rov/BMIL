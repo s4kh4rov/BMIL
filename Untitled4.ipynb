{
  "nbformat": 4,
  "nbformat_minor": 0,
  "metadata": {
    "colab": {
      "name": "Untitled4.ipynb",
      "provenance": [],
      "mount_file_id": "1LboYI3_4iMXAQvoesQF9JeTSsmS9goHF",
      "authorship_tag": "ABX9TyNfO8rUthXqnnhP3tIBhYdJ",
      "include_colab_link": true
    },
    "kernelspec": {
      "name": "python3",
      "display_name": "Python 3"
    },
    "language_info": {
      "name": "python"
    },
    "accelerator": "GPU"
  },
  "cells": [
    {
      "cell_type": "markdown",
      "metadata": {
        "id": "view-in-github",
        "colab_type": "text"
      },
      "source": [
        "<a href=\"https://colab.research.google.com/github/s4kh4rov/BMIL/blob/master/Untitled4.ipynb\" target=\"_parent\"><img src=\"https://colab.research.google.com/assets/colab-badge.svg\" alt=\"Open In Colab\"/></a>"
      ]
    },
    {
      "cell_type": "code",
      "execution_count": 2,
      "metadata": {
        "id": "d5d-IUNu-b7Y"
      },
      "outputs": [],
      "source": [
        "import torch\n",
        "import torchvision\n",
        "from torchvision.models.detection.faster_rcnn import FastRCNNPredictor\n",
        "from tqdm import tqdm\n",
        "import pandas as pd\n",
        "import numpy as np\n",
        "from PIL import Image\n",
        "import matplotlib.pyplot as plt\n",
        "import xml.etree.ElementTree as ElementTree\n",
        "import os\n",
        "from os import listdir\n",
        "from os.path import isfile, join\n",
        "from matplotlib import patches\n",
        "from torch.utils.data import Dataset\n",
        "import warnings\n",
        "warnings.filterwarnings('ignore')"
      ]
    },
    {
      "cell_type": "code",
      "source": [
        "\n",
        "def xml_to_dict(path_to_annot):\n",
        "    tree = ElementTree.parse(path_to_annot)\n",
        "    annotation = tree.getroot()\n",
        "\n",
        "    filename = annotation.find(\"filename\")\n",
        "    width = annotation.find(\"size\").find(\"width\")\n",
        "    height = annotation.find(\"size\").find(\"height\")\n",
        "\n",
        "    bndbox = annotation.find(\"object\").find(\"bndbox\")\n",
        "    xmin = bndbox.find(\"xmin\")\n",
        "    xmax = bndbox.find(\"xmax\")\n",
        "    ymin = bndbox.find(\"ymin\")\n",
        "    ymax = bndbox.find(\"ymax\")\n",
        "\n",
        "    # 1 - вывеска\n",
        "    label = 1\n",
        "\n",
        "    row = {\n",
        "        \"image_id\": filename.text.split('.')[0],\n",
        "        \"filename\": filename.text,\n",
        "        \"width\": width.text,\n",
        "        \"height\": height.text,\n",
        "        \"label\": label,\n",
        "        \"xmin\": xmin.text,\n",
        "        \"xmax\": xmax.text,\n",
        "        \"ymin\": ymin.text,\n",
        "        \"ymax\": ymax.text\n",
        "    }\n",
        "    return row"
      ],
      "metadata": {
        "id": "Vpcg3Dqn-6-g"
      },
      "execution_count": 3,
      "outputs": []
    },
    {
      "cell_type": "code",
      "source": [
        "def make_csv_annot_file(path_to_annot_dir):\n",
        "    rows = []\n",
        "    annot_filenames = [join(path_to_annot_dir, f) for f in listdir(path_to_annot_dir) if\n",
        "                       isfile(join(path_to_annot_dir, f))]\n",
        "    for f in annot_filenames:\n",
        "        rows.append(xml_to_dict(f))\n",
        "    df = pd.DataFrame(rows)\n",
        "    df.to_csv('/content/drive/MyDrive/train.csv')"
      ],
      "metadata": {
        "id": "jgA_kEXy_A3w"
      },
      "execution_count": 4,
      "outputs": []
    },
    {
      "cell_type": "code",
      "source": [
        "def view(images, labels, k, std=1, mean=0):\n",
        "    figure = plt.figure(figsize=(30, 30))\n",
        "    images = list(images)\n",
        "    labels = list(labels)\n",
        "    for i in range(k):\n",
        "        out = torchvision.utils.make_grid(images[i])\n",
        "        inp = out.cpu().numpy().transpose((1, 2, 0))\n",
        "        inp = np.array(std) * inp + np.array(mean)\n",
        "        inp = np.clip(inp, 0, 1)\n",
        "        ax = figure.add_subplot(2, 2, i + 1)\n",
        "        ax.imshow(images[i].cpu().numpy().transpose((1, 2, 0)))\n",
        "        l = labels[i]['boxes'].cpu().numpy()\n",
        "        l[:, 2] = l[:, 2] - l[:, 0]\n",
        "        l[:, 3] = l[:, 3] - l[:, 1]\n",
        "        for j in range(len(l)):\n",
        "            ax.add_patch(\n",
        "                patches.Rectangle((l[j][0], l[j][1]), l[j][2], l[j][3], linewidth=2, edgecolor='w', facecolor='none'))\n",
        "    plt.show()"
      ],
      "metadata": {
        "id": "EPT2QZvL_G6F"
      },
      "execution_count": 5,
      "outputs": []
    },
    {
      "cell_type": "code",
      "source": [
        "class SignboardDataset(Dataset):\n",
        "    def __init__(self, root, folder='train', transforms=None):\n",
        "        self.transforms = []\n",
        "        if transforms != None:\n",
        "            self.transforms.append(transforms)\n",
        "        self.root = root\n",
        "        self.folder = folder\n",
        "        self.box_data = pd.read_csv(os.path.join(root, \"train.csv\"))\n",
        "        # print(\"Данные из train.csv в методе init\", self.box_data)\n",
        "        # self.box_data = pd.concat(\n",
        "        #     [box_data, box_data.bbox.str.split('[').str.get(1).str.split(']').str.get(0).str.split(',', expand=True)],\n",
        "        #     axis=1)\n",
        "        self.imgs = list(os.listdir(os.path.join(root, self.folder)))\n",
        "\n",
        "    def __len__(self):\n",
        "        return len(self.imgs)\n",
        "\n",
        "    def __getitem__(self, idx):\n",
        "        img_path = os.path.join(os.path.join(self.root, self.folder), self.imgs[idx])\n",
        "        img = Image.open(img_path).convert(\"RGB\")\n",
        "        df = self.box_data[self.box_data['image_id'] == self.imgs[idx].split('.')[0]]\n",
        "        # print(\"df в методе getItem \\n\", df)\n",
        "        print(\"idx\",idx)\n",
        "        if df.shape[0] != 0:\n",
        "            # df[2] = df[0].astype(float) + df[2].astype(float)\n",
        "            # df[3] = df[1].astype(float) + df[3].astype(float)\n",
        "            boxes = df[['xmin', 'ymin', 'xmax', 'ymax']].astype(float).values\n",
        "            # print(\"xmin0 \\n\",df[['xmin'][0]])\n",
        "            # boxes = np.asarray([[df[['xmin'][idx]],\n",
        "            #                      df[['ymin'][idx]],\n",
        "            #                      df[['xmax'][idx]],\n",
        "            #                      df[['ymax'][idx]]]])\n",
        "            labels = np.ones(len(boxes))\n",
        "        else:\n",
        "            boxes = np.asarray([[0, 0, 0, 0]])\n",
        "            labels = np.ones(len(boxes))\n",
        "        for i in self.transforms:\n",
        "            img = i(img)\n",
        "            # print(img.double())\n",
        "\n",
        "        targets = {}\n",
        "        targets['boxes'] = torch.from_numpy(boxes).double()\n",
        "        targets['labels'] = torch.from_numpy(labels).type(torch.int64)\n",
        "        #targets['id'] = self.imgs[idx].split('.')[0]\n",
        "        return img.double(), targets"
      ],
      "metadata": {
        "id": "ihV0TaYl_IvJ"
      },
      "execution_count": 33,
      "outputs": []
    },
    {
      "cell_type": "code",
      "source": [
        "    print(\"-----------------------------Начало работы---------------------------------------\")\n",
        "    print(\"-----------------------------Создание файла с аннотациями---------------------------------------\")\n",
        "    # make_csv_annot_file(\"/content/drive/MyDrive/annot\")\n",
        "    print(\"-----------------------------Создание датасета---------------------------------------\")\n",
        "    root = \"/content/drive/MyDrive/\"\n",
        "    dataset = SignboardDataset(root, 'train', transforms=torchvision.transforms.ToTensor())\n",
        "    # print(dataset[4])\n",
        "    print(\"-----------------------------Разделение на выборки и создание модели---------------------------------------\")\n",
        "    # разделение на тренировочную и тестовую выборку и создание Dataloaders для загрузки данных батчами:\n",
        "    # изменить параметры для разделения dataset_train и dataset_test batch_size\n",
        "    torch.manual_seed(1)\n",
        "    indices = torch.randperm(len(dataset)).tolist()\n",
        "    dataset_train = torch.utils.data.Subset(dataset, indices[:-1000])\n",
        "    dataset_test = torch.utils.data.Subset(dataset, indices[-1000:])\n",
        "    data_loader_train = torch.utils.data.DataLoader(dataset_train,\n",
        "                                                    batch_size=4,\n",
        "                                                    shuffle=True,\n",
        "                                                    collate_fn=lambda x: list(zip(*x)))\n",
        "    data_loader_test = torch.utils.data.DataLoader(dataset_test,\n",
        "                                                   batch_size=4,\n",
        "                                                   shuffle=False,\n",
        "                                                   collate_fn=lambda x: list(zip(*x)))\n",
        "    #изображение с bbox\n",
        "    # images, labels = next(iter(data_loader_train))\n",
        "    # view(images, labels, 2)\n",
        "\n",
        "    # модель\n",
        "    model = torchvision.models.detection.fasterrcnn_resnet50_fpn(pretrained=False)\n",
        "    device = torch.device('cuda') if torch.cuda.is_available() else torch.device('cpu')\n",
        "    num_classes = 2  # 1 class + background\n",
        "    in_features = model.roi_heads.box_predictor.cls_score.in_features\n",
        "\n",
        "    model.roi_heads.box_predictor = FastRCNNPredictor(in_features, num_classes)\n",
        "    model = model.to(device)\n",
        "\n",
        "    params = [p for p in model.parameters() if p.requires_grad]\n",
        "    optimizer = torch.optim.SGD(params, lr=0.01)\n",
        "\n",
        "    #тренировка\n",
        "    print(\"-----------------------------Начало тренировки---------------------------------------\")\n",
        "    model.train()\n",
        "\n",
        "    for epoch in tqdm(range(1)):\n",
        "        for images, targets in tqdm(data_loader_train):\n",
        "            images = list(image.to(device) for image in images)\n",
        "            targets = [{k: v.to(device) for k, v in t.items()} for t in targets]\n",
        "            model = model.double()\n",
        "            loss_dict = model(images, targets)\n",
        "            losses = sum(loss for loss in loss_dict.values())\n",
        "            losses.backward()\n",
        "\n",
        "            optimizer.zero_grad()\n",
        "            optimizer.step()\n",
        "\n",
        "        print(\"Loss = {:.4f} \".format(losses.item()))\n",
        "\n",
        "    print(\"-----------------------------Сохранение модели---------------------------------------\")\n",
        "    torch.save(model.state_dict(), '/content/drive/MyDrive/model.pth')\n",
        "\n",
        "    # model.load_state_dict(torch.load('./model.pth'))\n",
        "    #\n",
        "    # images, targets = next(iter(data_loader_test))\n",
        "    # images = list(image.to(device) for image in images)\n",
        "    # targets = [{k: v.to(device) for k, v in t.items()} for t in targets]\n",
        "    #\n",
        "    # model.eval()\n",
        "    # output = model.double()(images)\n",
        "    #\n",
        "    # with torch.no_grad():\n",
        "    #     view(images, output, 1)\n"
      ],
      "metadata": {
        "colab": {
          "base_uri": "https://localhost:8080/"
        },
        "id": "l1f26TWI_bTK",
        "outputId": "34e7819a-a7d3-4ef4-e5ec-ff44fba0b781"
      },
      "execution_count": 34,
      "outputs": [
        {
          "output_type": "stream",
          "name": "stdout",
          "text": [
            "-----------------------------Начало работы---------------------------------------\n",
            "-----------------------------Создание файла с аннотациями---------------------------------------\n",
            "-----------------------------Создание датасета---------------------------------------\n",
            "-----------------------------Разделение на выборки и создание модели---------------------------------------\n",
            "-----------------------------Начало тренировки---------------------------------------\n"
          ]
        },
        {
          "output_type": "stream",
          "name": "stderr",
          "text": [
            "  0%|          | 0/1 [00:00<?, ?it/s]\n",
            "  0%|          | 0/178 [00:00<?, ?it/s]\u001b[A"
          ]
        },
        {
          "output_type": "stream",
          "name": "stdout",
          "text": [
            "idx 671\n",
            "idx 868\n",
            "idx 1200\n",
            "idx 1584\n"
          ]
        },
        {
          "output_type": "stream",
          "name": "stderr",
          "text": [
            "\n",
            "  1%|          | 1/178 [00:10<31:20, 10.62s/it]\u001b[A"
          ]
        },
        {
          "output_type": "stream",
          "name": "stdout",
          "text": [
            "idx 1426\n",
            "idx 144\n",
            "idx 1065\n",
            "idx 517\n"
          ]
        },
        {
          "output_type": "stream",
          "name": "stderr",
          "text": [
            "\n",
            "  1%|          | 2/178 [00:29<45:30, 15.52s/it]\u001b[A"
          ]
        },
        {
          "output_type": "stream",
          "name": "stdout",
          "text": [
            "idx 1613\n",
            "idx 880\n",
            "idx 942\n",
            "idx 636\n"
          ]
        },
        {
          "output_type": "stream",
          "name": "stderr",
          "text": [
            "\n",
            "  2%|▏         | 3/178 [00:48<49:51, 17.09s/it]\u001b[A"
          ]
        },
        {
          "output_type": "stream",
          "name": "stdout",
          "text": [
            "idx 710\n",
            "idx 1526\n",
            "idx 344\n",
            "idx 549\n"
          ]
        },
        {
          "output_type": "stream",
          "name": "stderr",
          "text": [
            "\n",
            "  2%|▏         | 4/178 [01:07<51:45, 17.85s/it]\u001b[A"
          ]
        },
        {
          "output_type": "stream",
          "name": "stdout",
          "text": [
            "idx 658\n",
            "idx 1324\n",
            "idx 1261\n",
            "idx 1157\n"
          ]
        },
        {
          "output_type": "stream",
          "name": "stderr",
          "text": [
            "\n",
            "  3%|▎         | 5/178 [01:27<53:13, 18.46s/it]\u001b[A"
          ]
        },
        {
          "output_type": "stream",
          "name": "stdout",
          "text": [
            "idx 849\n",
            "idx 1542\n",
            "idx 1297\n",
            "idx 1384\n"
          ]
        },
        {
          "output_type": "stream",
          "name": "stderr",
          "text": [
            "\n",
            "  3%|▎         | 6/178 [01:46<53:58, 18.83s/it]\u001b[A"
          ]
        },
        {
          "output_type": "stream",
          "name": "stdout",
          "text": [
            "idx 116\n",
            "idx 215\n",
            "idx 1378\n",
            "idx 1049\n"
          ]
        },
        {
          "output_type": "stream",
          "name": "stderr",
          "text": [
            "\n",
            "  4%|▍         | 7/178 [02:05<53:47, 18.87s/it]\u001b[A"
          ]
        },
        {
          "output_type": "stream",
          "name": "stdout",
          "text": [
            "idx 19\n",
            "idx 1681\n",
            "idx 687\n",
            "idx 651\n"
          ]
        },
        {
          "output_type": "stream",
          "name": "stderr",
          "text": [
            "\n",
            "  4%|▍         | 8/178 [02:24<53:03, 18.73s/it]\u001b[A"
          ]
        },
        {
          "output_type": "stream",
          "name": "stdout",
          "text": [
            "idx 1625\n",
            "idx 516\n",
            "idx 299\n",
            "idx 1467\n"
          ]
        },
        {
          "output_type": "stream",
          "name": "stderr",
          "text": [
            "\n",
            "  5%|▌         | 9/178 [02:43<53:00, 18.82s/it]\u001b[A"
          ]
        },
        {
          "output_type": "stream",
          "name": "stdout",
          "text": [
            "idx 1128\n",
            "idx 251\n",
            "idx 27\n",
            "idx 1071\n"
          ]
        },
        {
          "output_type": "stream",
          "name": "stderr",
          "text": [
            "\n",
            "  6%|▌         | 10/178 [03:01<52:49, 18.86s/it]\u001b[A"
          ]
        },
        {
          "output_type": "stream",
          "name": "stdout",
          "text": [
            "idx 1598\n",
            "idx 661\n",
            "idx 794\n",
            "idx 1159\n"
          ]
        },
        {
          "output_type": "stream",
          "name": "stderr",
          "text": [
            "\n",
            "  6%|▌         | 11/178 [03:21<52:37, 18.91s/it]\u001b[A"
          ]
        },
        {
          "output_type": "stream",
          "name": "stdout",
          "text": [
            "idx 791\n",
            "idx 1086\n",
            "idx 845\n",
            "idx 1645\n"
          ]
        },
        {
          "output_type": "stream",
          "name": "stderr",
          "text": [
            "\n",
            "  7%|▋         | 12/178 [03:40<52:50, 19.10s/it]\u001b[A"
          ]
        },
        {
          "output_type": "stream",
          "name": "stdout",
          "text": [
            "idx 1323\n",
            "idx 1111\n",
            "idx 723\n",
            "idx 1031\n"
          ]
        },
        {
          "output_type": "stream",
          "name": "stderr",
          "text": [
            "\n",
            "  7%|▋         | 13/178 [03:59<52:23, 19.05s/it]\u001b[A"
          ]
        },
        {
          "output_type": "stream",
          "name": "stdout",
          "text": [
            "idx 979\n",
            "idx 600\n",
            "idx 370\n",
            "idx 385\n"
          ]
        },
        {
          "output_type": "stream",
          "name": "stderr",
          "text": [
            "\n",
            "  8%|▊         | 14/178 [04:18<52:01, 19.04s/it]\u001b[A"
          ]
        },
        {
          "output_type": "stream",
          "name": "stdout",
          "text": [
            "idx 1179\n",
            "idx 867\n",
            "idx 1370\n",
            "idx 855\n"
          ]
        },
        {
          "output_type": "stream",
          "name": "stderr",
          "text": [
            "\n",
            "  8%|▊         | 15/178 [04:38<52:08, 19.19s/it]\u001b[A"
          ]
        },
        {
          "output_type": "stream",
          "name": "stdout",
          "text": [
            "idx 741\n",
            "idx 156\n",
            "idx 522\n",
            "idx 117\n"
          ]
        },
        {
          "output_type": "stream",
          "name": "stderr",
          "text": [
            "\n",
            "  9%|▉         | 16/178 [04:57<52:06, 19.30s/it]\u001b[A"
          ]
        },
        {
          "output_type": "stream",
          "name": "stdout",
          "text": [
            "idx 1633\n",
            "idx 1427\n",
            "idx 1341\n",
            "idx 1475\n"
          ]
        },
        {
          "output_type": "stream",
          "name": "stderr",
          "text": [
            "\n",
            " 10%|▉         | 17/178 [05:17<51:58, 19.37s/it]\u001b[A"
          ]
        },
        {
          "output_type": "stream",
          "name": "stdout",
          "text": [
            "idx 50\n",
            "idx 279\n",
            "idx 136\n",
            "idx 472\n"
          ]
        },
        {
          "output_type": "stream",
          "name": "stderr",
          "text": [
            "\n",
            " 10%|█         | 18/178 [05:36<51:47, 19.42s/it]\u001b[A"
          ]
        },
        {
          "output_type": "stream",
          "name": "stdout",
          "text": [
            "idx 1207\n",
            "idx 1176\n",
            "idx 1503\n",
            "idx 1212\n"
          ]
        },
        {
          "output_type": "stream",
          "name": "stderr",
          "text": [
            "\n",
            " 11%|█         | 19/178 [05:56<51:33, 19.46s/it]\u001b[A"
          ]
        },
        {
          "output_type": "stream",
          "name": "stdout",
          "text": [
            "idx 1495\n",
            "idx 465\n",
            "idx 1667\n",
            "idx 439\n"
          ]
        },
        {
          "output_type": "stream",
          "name": "stderr",
          "text": [
            "\n",
            " 11%|█         | 20/178 [06:15<50:52, 19.32s/it]\u001b[A"
          ]
        },
        {
          "output_type": "stream",
          "name": "stdout",
          "text": [
            "idx 1077\n",
            "idx 1635\n",
            "idx 179\n",
            "idx 656\n"
          ]
        },
        {
          "output_type": "stream",
          "name": "stderr",
          "text": [
            "\n",
            " 12%|█▏        | 21/178 [06:34<50:17, 19.22s/it]\u001b[A"
          ]
        },
        {
          "output_type": "stream",
          "name": "stdout",
          "text": [
            "idx 945\n",
            "idx 171\n",
            "idx 178\n",
            "idx 1268\n"
          ]
        },
        {
          "output_type": "stream",
          "name": "stderr",
          "text": [
            "\n",
            " 12%|█▏        | 22/178 [06:53<50:14, 19.32s/it]\u001b[A"
          ]
        },
        {
          "output_type": "stream",
          "name": "stdout",
          "text": [
            "idx 167\n",
            "idx 1562\n",
            "idx 462\n",
            "idx 602\n"
          ]
        },
        {
          "output_type": "stream",
          "name": "stderr",
          "text": [
            "\n",
            " 13%|█▎        | 23/178 [07:13<50:05, 19.39s/it]\u001b[A"
          ]
        },
        {
          "output_type": "stream",
          "name": "stdout",
          "text": [
            "idx 1408\n",
            "idx 103\n",
            "idx 908\n",
            "idx 539\n"
          ]
        },
        {
          "output_type": "stream",
          "name": "stderr",
          "text": [
            "\n",
            " 13%|█▎        | 24/178 [07:32<49:25, 19.26s/it]\u001b[A"
          ]
        },
        {
          "output_type": "stream",
          "name": "stdout",
          "text": [
            "idx 1018\n",
            "idx 1493\n",
            "idx 922\n",
            "idx 368\n"
          ]
        },
        {
          "output_type": "stream",
          "name": "stderr",
          "text": [
            "\n",
            " 14%|█▍        | 25/178 [07:51<48:54, 19.18s/it]\u001b[A"
          ]
        },
        {
          "output_type": "stream",
          "name": "stdout",
          "text": [
            "idx 767\n",
            "idx 1682\n",
            "idx 1328\n",
            "idx 200\n"
          ]
        },
        {
          "output_type": "stream",
          "name": "stderr",
          "text": [
            "\n",
            " 15%|█▍        | 26/178 [08:10<48:51, 19.29s/it]\u001b[A"
          ]
        },
        {
          "output_type": "stream",
          "name": "stdout",
          "text": [
            "idx 1091\n",
            "idx 118\n",
            "idx 1213\n",
            "idx 996\n"
          ]
        },
        {
          "output_type": "stream",
          "name": "stderr",
          "text": [
            "\n",
            " 15%|█▌        | 27/178 [08:29<48:17, 19.19s/it]\u001b[A"
          ]
        },
        {
          "output_type": "stream",
          "name": "stdout",
          "text": [
            "idx 853\n",
            "idx 183\n",
            "idx 1317\n",
            "idx 1603\n"
          ]
        },
        {
          "output_type": "stream",
          "name": "stderr",
          "text": [
            "\n",
            " 16%|█▌        | 28/178 [08:48<47:50, 19.13s/it]\u001b[A"
          ]
        },
        {
          "output_type": "stream",
          "name": "stdout",
          "text": [
            "idx 256\n",
            "idx 1371\n",
            "idx 542\n",
            "idx 524\n"
          ]
        },
        {
          "output_type": "stream",
          "name": "stderr",
          "text": [
            "\n",
            " 16%|█▋        | 29/178 [09:08<47:49, 19.26s/it]\u001b[A"
          ]
        },
        {
          "output_type": "stream",
          "name": "stdout",
          "text": [
            "idx 1221\n",
            "idx 877\n",
            "idx 1365\n",
            "idx 449\n"
          ]
        },
        {
          "output_type": "stream",
          "name": "stderr",
          "text": [
            "\n",
            " 17%|█▋        | 30/178 [09:27<47:44, 19.35s/it]\u001b[A"
          ]
        },
        {
          "output_type": "stream",
          "name": "stdout",
          "text": [
            "idx 1080\n",
            "idx 424\n",
            "idx 884\n",
            "idx 1197\n"
          ]
        },
        {
          "output_type": "stream",
          "name": "stderr",
          "text": [
            "\n",
            " 17%|█▋        | 31/178 [09:46<47:08, 19.24s/it]\u001b[A"
          ]
        },
        {
          "output_type": "stream",
          "name": "stdout",
          "text": [
            "idx 1211\n",
            "idx 1162\n",
            "idx 831\n",
            "idx 202\n"
          ]
        },
        {
          "output_type": "stream",
          "name": "stderr",
          "text": [
            "\n",
            " 18%|█▊        | 32/178 [10:05<46:37, 19.16s/it]\u001b[A"
          ]
        },
        {
          "output_type": "stream",
          "name": "stdout",
          "text": [
            "idx 124\n",
            "idx 1225\n",
            "idx 923\n",
            "idx 1518\n"
          ]
        },
        {
          "output_type": "stream",
          "name": "stderr",
          "text": [
            "\n",
            " 19%|█▊        | 33/178 [10:25<46:35, 19.28s/it]\u001b[A"
          ]
        },
        {
          "output_type": "stream",
          "name": "stdout",
          "text": [
            "idx 552\n",
            "idx 828\n",
            "idx 250\n",
            "idx 1585\n"
          ]
        },
        {
          "output_type": "stream",
          "name": "stderr",
          "text": [
            "\n",
            " 19%|█▉        | 34/178 [10:44<46:27, 19.36s/it]\u001b[A"
          ]
        },
        {
          "output_type": "stream",
          "name": "stdout",
          "text": [
            "idx 866\n",
            "idx 1087\n",
            "idx 413\n",
            "idx 1508\n"
          ]
        },
        {
          "output_type": "stream",
          "name": "stderr",
          "text": [
            "\n",
            " 20%|█▉        | 35/178 [11:04<46:16, 19.41s/it]\u001b[A"
          ]
        },
        {
          "output_type": "stream",
          "name": "stdout",
          "text": [
            "idx 149\n",
            "idx 523\n",
            "idx 515\n",
            "idx 1168\n"
          ]
        },
        {
          "output_type": "stream",
          "name": "stderr",
          "text": [
            "\n",
            " 20%|██        | 36/178 [11:24<46:03, 19.46s/it]\u001b[A"
          ]
        },
        {
          "output_type": "stream",
          "name": "stdout",
          "text": [
            "idx 41\n",
            "idx 899\n",
            "idx 336\n",
            "idx 1187\n"
          ]
        },
        {
          "output_type": "stream",
          "name": "stderr",
          "text": [
            "\n",
            " 21%|██        | 37/178 [11:43<45:47, 19.48s/it]\u001b[A"
          ]
        },
        {
          "output_type": "stream",
          "name": "stdout",
          "text": [
            "idx 634\n",
            "idx 1309\n",
            "idx 1253\n",
            "idx 506\n"
          ]
        },
        {
          "output_type": "stream",
          "name": "stderr",
          "text": [
            "\n",
            " 21%|██▏       | 38/178 [12:03<45:30, 19.50s/it]\u001b[A"
          ]
        },
        {
          "output_type": "stream",
          "name": "stdout",
          "text": [
            "idx 1284\n",
            "idx 476\n",
            "idx 377\n",
            "idx 189\n"
          ]
        },
        {
          "output_type": "stream",
          "name": "stderr",
          "text": [
            "\n",
            " 22%|██▏       | 39/178 [12:22<44:49, 19.35s/it]\u001b[A"
          ]
        },
        {
          "output_type": "stream",
          "name": "stdout",
          "text": [
            "idx 238\n",
            "idx 547\n",
            "idx 89\n",
            "idx 842\n"
          ]
        },
        {
          "output_type": "stream",
          "name": "stderr",
          "text": [
            "\n",
            " 22%|██▏       | 40/178 [12:41<44:15, 19.24s/it]\u001b[A"
          ]
        },
        {
          "output_type": "stream",
          "name": "stdout",
          "text": [
            "idx 1353\n",
            "idx 930\n",
            "idx 109\n",
            "idx 1507\n"
          ]
        },
        {
          "output_type": "stream",
          "name": "stderr",
          "text": [
            "\n",
            " 23%|██▎       | 41/178 [13:00<44:09, 19.34s/it]\u001b[A"
          ]
        },
        {
          "output_type": "stream",
          "name": "stdout",
          "text": [
            "idx 900\n",
            "idx 1545\n",
            "idx 662\n",
            "idx 1445\n"
          ]
        },
        {
          "output_type": "stream",
          "name": "stderr",
          "text": [
            "\n",
            " 24%|██▎       | 42/178 [13:19<43:34, 19.22s/it]\u001b[A"
          ]
        },
        {
          "output_type": "stream",
          "name": "stdout",
          "text": [
            "idx 316\n",
            "idx 245\n",
            "idx 1149\n",
            "idx 1419\n"
          ]
        },
        {
          "output_type": "stream",
          "name": "stderr",
          "text": [
            "\n",
            " 24%|██▍       | 43/178 [13:38<42:42, 18.98s/it]\u001b[A"
          ]
        },
        {
          "output_type": "stream",
          "name": "stdout",
          "text": [
            "idx 191\n",
            "idx 435\n",
            "idx 74\n",
            "idx 1642\n"
          ]
        },
        {
          "output_type": "stream",
          "name": "stderr",
          "text": [
            "\n",
            " 25%|██▍       | 44/178 [13:56<42:01, 18.81s/it]\u001b[A"
          ]
        },
        {
          "output_type": "stream",
          "name": "stdout",
          "text": [
            "idx 957\n",
            "idx 1298\n",
            "idx 447\n",
            "idx 801\n"
          ]
        },
        {
          "output_type": "stream",
          "name": "stderr",
          "text": [
            "\n",
            " 25%|██▌       | 45/178 [14:15<41:49, 18.87s/it]\u001b[A"
          ]
        },
        {
          "output_type": "stream",
          "name": "stdout",
          "text": [
            "idx 1133\n",
            "idx 355\n",
            "idx 1357\n",
            "idx 830\n"
          ]
        },
        {
          "output_type": "stream",
          "name": "stderr",
          "text": [
            "\n",
            " 26%|██▌       | 46/178 [14:35<41:58, 19.08s/it]\u001b[A"
          ]
        },
        {
          "output_type": "stream",
          "name": "stdout",
          "text": [
            "idx 1333\n",
            "idx 115\n",
            "idx 391\n",
            "idx 705\n"
          ]
        },
        {
          "output_type": "stream",
          "name": "stderr",
          "text": [
            "\n",
            " 26%|██▋       | 47/178 [14:54<41:57, 19.22s/it]\u001b[A"
          ]
        },
        {
          "output_type": "stream",
          "name": "stdout",
          "text": [
            "idx 557\n",
            "idx 642\n",
            "idx 1628\n",
            "idx 26\n"
          ]
        },
        {
          "output_type": "stream",
          "name": "stderr",
          "text": [
            "\n",
            " 27%|██▋       | 48/178 [15:14<41:51, 19.32s/it]\u001b[A"
          ]
        },
        {
          "output_type": "stream",
          "name": "stdout",
          "text": [
            "idx 1441\n",
            "idx 1657\n",
            "idx 1393\n",
            "idx 105\n"
          ]
        },
        {
          "output_type": "stream",
          "name": "stderr",
          "text": [
            "\n",
            " 28%|██▊       | 49/178 [15:33<41:40, 19.39s/it]\u001b[A"
          ]
        },
        {
          "output_type": "stream",
          "name": "stdout",
          "text": [
            "idx 148\n",
            "idx 954\n",
            "idx 459\n",
            "idx 1313\n"
          ]
        },
        {
          "output_type": "stream",
          "name": "stderr",
          "text": [
            "\n",
            " 28%|██▊       | 50/178 [15:53<41:27, 19.43s/it]\u001b[A"
          ]
        },
        {
          "output_type": "stream",
          "name": "stdout",
          "text": [
            "idx 389\n",
            "idx 678\n",
            "idx 318\n",
            "idx 333\n"
          ]
        },
        {
          "output_type": "stream",
          "name": "stderr",
          "text": [
            "\n",
            " 29%|██▊       | 51/178 [16:12<41:12, 19.47s/it]\u001b[A"
          ]
        },
        {
          "output_type": "stream",
          "name": "stdout",
          "text": [
            "idx 423\n",
            "idx 1537\n",
            "idx 1269\n",
            "idx 694\n"
          ]
        },
        {
          "output_type": "stream",
          "name": "stderr",
          "text": [
            "\n",
            " 29%|██▉       | 52/178 [16:32<40:56, 19.50s/it]\u001b[A"
          ]
        },
        {
          "output_type": "stream",
          "name": "stdout",
          "text": [
            "idx 792\n",
            "idx 264\n",
            "idx 648\n",
            "idx 1254\n"
          ]
        },
        {
          "output_type": "stream",
          "name": "stderr",
          "text": [
            "\n",
            " 30%|██▉       | 53/178 [16:51<40:39, 19.51s/it]\u001b[A"
          ]
        },
        {
          "output_type": "stream",
          "name": "stdout",
          "text": [
            "idx 1032\n",
            "idx 892\n",
            "idx 653\n",
            "idx 1015\n"
          ]
        },
        {
          "output_type": "stream",
          "name": "stderr",
          "text": [
            "\n",
            " 30%|███       | 54/178 [17:10<39:59, 19.35s/it]\u001b[A"
          ]
        },
        {
          "output_type": "stream",
          "name": "stdout",
          "text": [
            "idx 254\n",
            "idx 1678\n",
            "idx 937\n",
            "idx 698\n"
          ]
        },
        {
          "output_type": "stream",
          "name": "stderr",
          "text": [
            "\n",
            " 31%|███       | 55/178 [17:29<39:27, 19.25s/it]\u001b[A"
          ]
        },
        {
          "output_type": "stream",
          "name": "stdout",
          "text": [
            "idx 487\n",
            "idx 895\n",
            "idx 1568\n",
            "idx 1202\n"
          ]
        },
        {
          "output_type": "stream",
          "name": "stderr",
          "text": [
            "\n",
            " 31%|███▏      | 56/178 [17:49<39:18, 19.34s/it]\u001b[A"
          ]
        },
        {
          "output_type": "stream",
          "name": "stdout",
          "text": [
            "idx 1452\n",
            "idx 1611\n",
            "idx 789\n",
            "idx 448\n"
          ]
        },
        {
          "output_type": "stream",
          "name": "stderr",
          "text": [
            "\n",
            " 32%|███▏      | 57/178 [18:08<39:07, 19.40s/it]\u001b[A"
          ]
        },
        {
          "output_type": "stream",
          "name": "stdout",
          "text": [
            "idx 1114\n",
            "idx 504\n",
            "idx 331\n",
            "idx 1662\n"
          ]
        },
        {
          "output_type": "stream",
          "name": "stderr",
          "text": [
            "\n",
            " 33%|███▎      | 58/178 [18:28<38:53, 19.44s/it]\u001b[A"
          ]
        },
        {
          "output_type": "stream",
          "name": "stdout",
          "text": [
            "idx 513\n",
            "idx 1326\n",
            "idx 390\n",
            "idx 62\n"
          ]
        },
        {
          "output_type": "stream",
          "name": "stderr",
          "text": [
            "\n",
            " 33%|███▎      | 59/178 [18:48<38:37, 19.48s/it]\u001b[A"
          ]
        },
        {
          "output_type": "stream",
          "name": "stdout",
          "text": [
            "idx 1055\n",
            "idx 1130\n",
            "idx 726\n",
            "idx 748\n"
          ]
        },
        {
          "output_type": "stream",
          "name": "stderr",
          "text": [
            "\n",
            " 34%|███▎      | 60/178 [19:07<38:00, 19.33s/it]\u001b[A"
          ]
        },
        {
          "output_type": "stream",
          "name": "stdout",
          "text": [
            "idx 619\n",
            "idx 732\n",
            "idx 1245\n",
            "idx 1634\n"
          ]
        },
        {
          "output_type": "stream",
          "name": "stderr",
          "text": [
            "\n",
            " 34%|███▍      | 61/178 [19:26<37:30, 19.23s/it]\u001b[A"
          ]
        },
        {
          "output_type": "stream",
          "name": "stdout",
          "text": [
            "idx 773\n",
            "idx 1702\n",
            "idx 1136\n",
            "idx 1509\n"
          ]
        },
        {
          "output_type": "stream",
          "name": "stderr",
          "text": [
            "\n",
            " 35%|███▍      | 62/178 [19:45<37:21, 19.33s/it]\u001b[A"
          ]
        },
        {
          "output_type": "stream",
          "name": "stdout",
          "text": [
            "idx 1553\n",
            "idx 665\n",
            "idx 785\n",
            "idx 1491\n"
          ]
        },
        {
          "output_type": "stream",
          "name": "stderr",
          "text": [
            "\n",
            " 35%|███▌      | 63/178 [20:04<36:49, 19.22s/it]\u001b[A"
          ]
        },
        {
          "output_type": "stream",
          "name": "stdout",
          "text": [
            "idx 971\n",
            "idx 1151\n",
            "idx 1416\n",
            "idx 809\n"
          ]
        },
        {
          "output_type": "stream",
          "name": "stderr",
          "text": [
            "\n",
            " 36%|███▌      | 64/178 [20:23<36:23, 19.15s/it]\u001b[A"
          ]
        },
        {
          "output_type": "stream",
          "name": "stdout",
          "text": [
            "idx 1272\n",
            "idx 1016\n",
            "idx 647\n",
            "idx 1531\n"
          ]
        },
        {
          "output_type": "stream",
          "name": "stderr",
          "text": [
            "\n",
            " 37%|███▋      | 65/178 [20:43<36:18, 19.27s/it]\u001b[A"
          ]
        },
        {
          "output_type": "stream",
          "name": "stdout",
          "text": [
            "idx 718\n",
            "idx 1201\n",
            "idx 1029\n",
            "idx 631\n"
          ]
        },
        {
          "output_type": "stream",
          "name": "stderr",
          "text": [
            "\n",
            " 37%|███▋      | 66/178 [21:02<35:47, 19.17s/it]\u001b[A"
          ]
        },
        {
          "output_type": "stream",
          "name": "stdout",
          "text": [
            "idx 1403\n",
            "idx 1106\n",
            "idx 244\n",
            "idx 68\n"
          ]
        },
        {
          "output_type": "stream",
          "name": "stderr",
          "text": [
            "\n",
            " 38%|███▊      | 67/178 [21:21<35:23, 19.13s/it]\u001b[A"
          ]
        },
        {
          "output_type": "stream",
          "name": "stdout",
          "text": [
            "idx 1171\n",
            "idx 1482\n",
            "idx 599\n",
            "idx 1695\n"
          ]
        },
        {
          "output_type": "stream",
          "name": "stderr",
          "text": [
            "\n",
            " 38%|███▊      | 68/178 [21:40<35:17, 19.25s/it]\u001b[A"
          ]
        },
        {
          "output_type": "stream",
          "name": "stdout",
          "text": [
            "idx 365\n",
            "idx 243\n",
            "idx 1525\n",
            "idx 358\n"
          ]
        },
        {
          "output_type": "stream",
          "name": "stderr",
          "text": [
            "\n",
            " 39%|███▉      | 69/178 [21:59<34:48, 19.16s/it]\u001b[A"
          ]
        },
        {
          "output_type": "stream",
          "name": "stdout",
          "text": [
            "idx 1251\n",
            "idx 1698\n",
            "idx 1252\n",
            "idx 1186\n"
          ]
        },
        {
          "output_type": "stream",
          "name": "stderr",
          "text": [
            "\n",
            " 39%|███▉      | 70/178 [22:18<34:23, 19.11s/it]\u001b[A"
          ]
        },
        {
          "output_type": "stream",
          "name": "stdout",
          "text": [
            "idx 1707\n",
            "idx 1612\n",
            "idx 128\n",
            "idx 621\n"
          ]
        },
        {
          "output_type": "stream",
          "name": "stderr",
          "text": [
            "\n",
            " 40%|███▉      | 71/178 [22:37<33:59, 19.06s/it]\u001b[A"
          ]
        },
        {
          "output_type": "stream",
          "name": "stdout",
          "text": [
            "idx 952\n",
            "idx 1610\n",
            "idx 1709\n",
            "idx 734\n"
          ]
        },
        {
          "output_type": "stream",
          "name": "stderr",
          "text": [
            "\n",
            " 40%|████      | 72/178 [22:55<33:20, 18.87s/it]\u001b[A"
          ]
        },
        {
          "output_type": "stream",
          "name": "stdout",
          "text": [
            "idx 255\n",
            "idx 1599\n",
            "idx 911\n",
            "idx 464\n"
          ]
        },
        {
          "output_type": "stream",
          "name": "stderr",
          "text": [
            "\n",
            " 41%|████      | 73/178 [23:14<33:05, 18.91s/it]\u001b[A"
          ]
        },
        {
          "output_type": "stream",
          "name": "stdout",
          "text": [
            "idx 862\n",
            "idx 417\n",
            "idx 97\n",
            "idx 180\n"
          ]
        },
        {
          "output_type": "stream",
          "name": "stderr",
          "text": [
            "\n",
            " 42%|████▏     | 74/178 [23:33<32:47, 18.92s/it]\u001b[A"
          ]
        },
        {
          "output_type": "stream",
          "name": "stdout",
          "text": [
            "idx 457\n",
            "idx 461\n",
            "idx 770\n",
            "idx 65\n"
          ]
        },
        {
          "output_type": "stream",
          "name": "stderr",
          "text": [
            "\n",
            " 42%|████▏     | 75/178 [23:52<32:31, 18.95s/it]\u001b[A"
          ]
        },
        {
          "output_type": "stream",
          "name": "stdout",
          "text": [
            "idx 1153\n",
            "idx 1457\n",
            "idx 221\n",
            "idx 1558\n"
          ]
        },
        {
          "output_type": "stream",
          "name": "stderr",
          "text": [
            "\n",
            " 43%|████▎     | 76/178 [24:12<32:31, 19.13s/it]\u001b[A"
          ]
        },
        {
          "output_type": "stream",
          "name": "stdout",
          "text": [
            "idx 1687\n",
            "idx 1705\n",
            "idx 1158\n",
            "idx 479\n"
          ]
        },
        {
          "output_type": "stream",
          "name": "stderr",
          "text": [
            "\n",
            " 43%|████▎     | 77/178 [24:31<32:24, 19.26s/it]\u001b[A"
          ]
        },
        {
          "output_type": "stream",
          "name": "stdout",
          "text": [
            "idx 312\n",
            "idx 1188\n",
            "idx 1040\n",
            "idx 1485\n"
          ]
        },
        {
          "output_type": "stream",
          "name": "stderr",
          "text": [
            "\n",
            " 44%|████▍     | 78/178 [24:51<32:14, 19.35s/it]\u001b[A"
          ]
        },
        {
          "output_type": "stream",
          "name": "stdout",
          "text": [
            "idx 247\n",
            "idx 1062\n",
            "idx 1132\n",
            "idx 349\n"
          ]
        },
        {
          "output_type": "stream",
          "name": "stderr",
          "text": [
            "\n",
            " 44%|████▍     | 79/178 [25:11<32:01, 19.41s/it]\u001b[A"
          ]
        },
        {
          "output_type": "stream",
          "name": "stdout",
          "text": [
            "idx 1548\n",
            "idx 888\n",
            "idx 1606\n",
            "idx 1638\n"
          ]
        },
        {
          "output_type": "stream",
          "name": "stderr",
          "text": [
            "\n",
            " 45%|████▍     | 80/178 [25:30<31:45, 19.45s/it]\u001b[A"
          ]
        },
        {
          "output_type": "stream",
          "name": "stdout",
          "text": [
            "idx 1259\n",
            "idx 761\n",
            "idx 838\n",
            "idx 685\n"
          ]
        },
        {
          "output_type": "stream",
          "name": "stderr",
          "text": [
            "\n",
            " 46%|████▌     | 81/178 [25:50<31:29, 19.48s/it]\u001b[A"
          ]
        },
        {
          "output_type": "stream",
          "name": "stdout",
          "text": [
            "idx 974\n",
            "idx 1012\n",
            "idx 380\n",
            "idx 1551\n"
          ]
        },
        {
          "output_type": "stream",
          "name": "stderr",
          "text": [
            "\n",
            " 46%|████▌     | 82/178 [26:09<31:11, 19.50s/it]\u001b[A"
          ]
        },
        {
          "output_type": "stream",
          "name": "stdout",
          "text": [
            "idx 114\n",
            "idx 1665\n",
            "idx 225\n",
            "idx 1068\n"
          ]
        },
        {
          "output_type": "stream",
          "name": "stderr",
          "text": [
            "\n",
            " 47%|████▋     | 83/178 [26:28<30:36, 19.34s/it]\u001b[A"
          ]
        },
        {
          "output_type": "stream",
          "name": "stdout",
          "text": [
            "idx 110\n",
            "idx 404\n",
            "idx 310\n",
            "idx 84\n"
          ]
        },
        {
          "output_type": "stream",
          "name": "stderr",
          "text": [
            "\n",
            " 47%|████▋     | 84/178 [26:47<30:08, 19.24s/it]\u001b[A"
          ]
        },
        {
          "output_type": "stream",
          "name": "stdout",
          "text": [
            "idx 381\n",
            "idx 597\n",
            "idx 485\n",
            "idx 781\n"
          ]
        },
        {
          "output_type": "stream",
          "name": "stderr",
          "text": [
            "\n",
            " 48%|████▊     | 85/178 [27:07<29:57, 19.33s/it]\u001b[A"
          ]
        },
        {
          "output_type": "stream",
          "name": "stdout",
          "text": [
            "idx 83\n",
            "idx 1397\n",
            "idx 1512\n",
            "idx 337\n"
          ]
        },
        {
          "output_type": "stream",
          "name": "stderr",
          "text": [
            "\n",
            " 48%|████▊     | 86/178 [27:26<29:27, 19.22s/it]\u001b[A"
          ]
        },
        {
          "output_type": "stream",
          "name": "stdout",
          "text": [
            "idx 1579\n",
            "idx 605\n",
            "idx 873\n",
            "idx 697\n"
          ]
        },
        {
          "output_type": "stream",
          "name": "stderr",
          "text": [
            "\n",
            " 49%|████▉     | 87/178 [27:45<29:03, 19.16s/it]\u001b[A"
          ]
        },
        {
          "output_type": "stream",
          "name": "stdout",
          "text": [
            "idx 510\n",
            "idx 1109\n",
            "idx 992\n",
            "idx 1243\n"
          ]
        },
        {
          "output_type": "stream",
          "name": "stderr",
          "text": [
            "\n",
            " 49%|████▉     | 88/178 [28:04<28:54, 19.27s/it]\u001b[A"
          ]
        },
        {
          "output_type": "stream",
          "name": "stdout",
          "text": [
            "idx 1463\n",
            "idx 684\n",
            "idx 1004\n",
            "idx 1050\n"
          ]
        },
        {
          "output_type": "stream",
          "name": "stderr",
          "text": [
            "\n",
            " 50%|█████     | 89/178 [28:24<28:43, 19.36s/it]\u001b[A"
          ]
        },
        {
          "output_type": "stream",
          "name": "stdout",
          "text": [
            "idx 688\n",
            "idx 630\n",
            "idx 98\n",
            "idx 12\n"
          ]
        },
        {
          "output_type": "stream",
          "name": "stderr",
          "text": [
            "\n",
            " 51%|█████     | 90/178 [28:43<28:29, 19.42s/it]\u001b[A"
          ]
        },
        {
          "output_type": "stream",
          "name": "stdout",
          "text": [
            "idx 611\n",
            "idx 434\n",
            "idx 640\n",
            "idx 531\n"
          ]
        },
        {
          "output_type": "stream",
          "name": "stderr",
          "text": [
            "\n",
            " 51%|█████     | 91/178 [29:03<28:13, 19.47s/it]\u001b[A"
          ]
        },
        {
          "output_type": "stream",
          "name": "stdout",
          "text": [
            "idx 296\n",
            "idx 1534\n",
            "idx 1382\n",
            "idx 1643\n"
          ]
        },
        {
          "output_type": "stream",
          "name": "stderr",
          "text": [
            "\n",
            " 52%|█████▏    | 92/178 [29:22<27:41, 19.32s/it]\u001b[A"
          ]
        },
        {
          "output_type": "stream",
          "name": "stdout",
          "text": [
            "idx 466\n",
            "idx 181\n",
            "idx 608\n",
            "idx 326\n"
          ]
        },
        {
          "output_type": "stream",
          "name": "stderr",
          "text": [
            "\n",
            " 52%|█████▏    | 93/178 [29:41<27:14, 19.23s/it]\u001b[A"
          ]
        },
        {
          "output_type": "stream",
          "name": "stdout",
          "text": [
            "idx 1120\n",
            "idx 561\n",
            "idx 246\n",
            "idx 917\n"
          ]
        },
        {
          "output_type": "stream",
          "name": "stderr",
          "text": [
            "\n",
            " 53%|█████▎    | 94/178 [30:01<27:03, 19.33s/it]\u001b[A"
          ]
        },
        {
          "output_type": "stream",
          "name": "stdout",
          "text": [
            "idx 196\n",
            "idx 28\n",
            "idx 783\n",
            "idx 152\n"
          ]
        },
        {
          "output_type": "stream",
          "name": "stderr",
          "text": [
            "\n",
            " 53%|█████▎    | 95/178 [30:20<26:50, 19.41s/it]\u001b[A"
          ]
        },
        {
          "output_type": "stream",
          "name": "stdout",
          "text": [
            "idx 1110\n",
            "idx 463\n",
            "idx 816\n",
            "idx 712\n"
          ]
        },
        {
          "output_type": "stream",
          "name": "stderr",
          "text": [
            "\n",
            " 54%|█████▍    | 96/178 [30:40<26:34, 19.45s/it]\u001b[A"
          ]
        },
        {
          "output_type": "stream",
          "name": "stdout",
          "text": [
            "idx 1521\n",
            "idx 1122\n",
            "idx 1630\n",
            "idx 501\n"
          ]
        },
        {
          "output_type": "stream",
          "name": "stderr",
          "text": [
            "\n",
            " 54%|█████▍    | 97/178 [30:59<26:17, 19.48s/it]\u001b[A"
          ]
        },
        {
          "output_type": "stream",
          "name": "stdout",
          "text": [
            "idx 590\n",
            "idx 546\n",
            "idx 341\n",
            "idx 120\n"
          ]
        },
        {
          "output_type": "stream",
          "name": "stderr",
          "text": [
            "\n",
            " 55%|█████▌    | 98/178 [31:18<25:45, 19.32s/it]\u001b[A"
          ]
        },
        {
          "output_type": "stream",
          "name": "stdout",
          "text": [
            "idx 418\n",
            "idx 323\n",
            "idx 186\n",
            "idx 1240\n"
          ]
        },
        {
          "output_type": "stream",
          "name": "stderr",
          "text": [
            "\n",
            " 56%|█████▌    | 99/178 [31:37<25:05, 19.05s/it]\u001b[A"
          ]
        },
        {
          "output_type": "stream",
          "name": "stdout",
          "text": [
            "idx 386\n",
            "idx 1424\n",
            "idx 1014\n",
            "idx 257\n"
          ]
        },
        {
          "output_type": "stream",
          "name": "stderr",
          "text": [
            "\n",
            " 56%|█████▌    | 100/178 [31:56<24:44, 19.04s/it]\u001b[A"
          ]
        },
        {
          "output_type": "stream",
          "name": "stdout",
          "text": [
            "idx 432\n",
            "idx 52\n",
            "idx 720\n",
            "idx 657\n"
          ]
        },
        {
          "output_type": "stream",
          "name": "stderr",
          "text": [
            "\n",
            " 57%|█████▋    | 101/178 [32:15<24:38, 19.20s/it]\u001b[A"
          ]
        },
        {
          "output_type": "stream",
          "name": "stdout",
          "text": [
            "idx 1430\n",
            "idx 1582\n",
            "idx 950\n",
            "idx 491\n"
          ]
        },
        {
          "output_type": "stream",
          "name": "stderr",
          "text": [
            "\n",
            " 57%|█████▋    | 102/178 [32:35<24:26, 19.30s/it]\u001b[A"
          ]
        },
        {
          "output_type": "stream",
          "name": "stdout",
          "text": [
            "idx 520\n",
            "idx 275\n",
            "idx 51\n",
            "idx 588\n"
          ]
        },
        {
          "output_type": "stream",
          "name": "stderr",
          "text": [
            "\n",
            " 58%|█████▊    | 103/178 [32:54<24:13, 19.38s/it]\u001b[A"
          ]
        },
        {
          "output_type": "stream",
          "name": "stdout",
          "text": [
            "idx 1305\n",
            "idx 716\n",
            "idx 101\n",
            "idx 1088\n"
          ]
        },
        {
          "output_type": "stream",
          "name": "stderr",
          "text": [
            "\n",
            " 58%|█████▊    | 104/178 [33:13<23:44, 19.25s/it]\u001b[A"
          ]
        },
        {
          "output_type": "stream",
          "name": "stdout",
          "text": [
            "idx 1163\n",
            "idx 1471\n",
            "idx 832\n",
            "idx 240\n"
          ]
        },
        {
          "output_type": "stream",
          "name": "stderr",
          "text": [
            "\n",
            " 59%|█████▉    | 105/178 [33:32<23:19, 19.17s/it]\u001b[A"
          ]
        },
        {
          "output_type": "stream",
          "name": "stdout",
          "text": [
            "idx 500\n",
            "idx 1632\n",
            "idx 382\n",
            "idx 819\n"
          ]
        },
        {
          "output_type": "stream",
          "name": "stderr",
          "text": [
            "\n",
            " 60%|█████▉    | 106/178 [33:52<23:08, 19.28s/it]\u001b[A"
          ]
        },
        {
          "output_type": "stream",
          "name": "stdout",
          "text": [
            "idx 33\n",
            "idx 898\n",
            "idx 1601\n",
            "idx 1656\n"
          ]
        },
        {
          "output_type": "stream",
          "name": "stderr",
          "text": [
            "\n",
            " 60%|██████    | 107/178 [34:11<22:55, 19.37s/it]\u001b[A"
          ]
        },
        {
          "output_type": "stream",
          "name": "stdout",
          "text": [
            "idx 982\n",
            "idx 1383\n",
            "idx 1439\n",
            "idx 1538\n"
          ]
        },
        {
          "output_type": "stream",
          "name": "stderr",
          "text": [
            "\n",
            " 61%|██████    | 108/178 [34:31<22:40, 19.43s/it]\u001b[A"
          ]
        },
        {
          "output_type": "stream",
          "name": "stdout",
          "text": [
            "idx 1127\n",
            "idx 398\n",
            "idx 1577\n",
            "idx 212\n"
          ]
        },
        {
          "output_type": "stream",
          "name": "stderr",
          "text": [
            "\n",
            " 61%|██████    | 109/178 [34:50<22:23, 19.47s/it]\u001b[A"
          ]
        },
        {
          "output_type": "stream",
          "name": "stdout",
          "text": [
            "idx 993\n",
            "idx 18\n",
            "idx 756\n",
            "idx 1510\n"
          ]
        },
        {
          "output_type": "stream",
          "name": "stderr",
          "text": [
            "\n",
            " 62%|██████▏   | 110/178 [35:10<22:05, 19.50s/it]\u001b[A"
          ]
        },
        {
          "output_type": "stream",
          "name": "stdout",
          "text": [
            "idx 872\n",
            "idx 453\n",
            "idx 301\n",
            "idx 1591\n"
          ]
        },
        {
          "output_type": "stream",
          "name": "stderr",
          "text": [
            "\n",
            " 62%|██████▏   | 111/178 [35:30<21:47, 19.51s/it]\u001b[A"
          ]
        },
        {
          "output_type": "stream",
          "name": "stdout",
          "text": [
            "idx 47\n",
            "idx 1668\n",
            "idx 538\n",
            "idx 1502\n"
          ]
        },
        {
          "output_type": "stream",
          "name": "stderr",
          "text": [
            "\n",
            " 63%|██████▎   | 112/178 [35:49<21:17, 19.35s/it]\u001b[A"
          ]
        },
        {
          "output_type": "stream",
          "name": "stdout",
          "text": [
            "idx 1156\n",
            "idx 876\n",
            "idx 654\n",
            "idx 821\n"
          ]
        },
        {
          "output_type": "stream",
          "name": "stderr",
          "text": [
            "\n",
            " 63%|██████▎   | 113/178 [36:08<20:50, 19.24s/it]\u001b[A"
          ]
        },
        {
          "output_type": "stream",
          "name": "stdout",
          "text": [
            "idx 730\n",
            "idx 375\n",
            "idx 949\n",
            "idx 145\n"
          ]
        },
        {
          "output_type": "stream",
          "name": "stderr",
          "text": [
            "\n",
            " 64%|██████▍   | 114/178 [36:26<20:26, 19.16s/it]\u001b[A"
          ]
        },
        {
          "output_type": "stream",
          "name": "stdout",
          "text": [
            "idx 373\n",
            "idx 1481\n",
            "idx 303\n",
            "idx 486\n"
          ]
        },
        {
          "output_type": "stream",
          "name": "stderr",
          "text": [
            "\n",
            " 65%|██████▍   | 115/178 [36:45<20:04, 19.12s/it]\u001b[A"
          ]
        },
        {
          "output_type": "stream",
          "name": "stdout",
          "text": [
            "idx 1372\n",
            "idx 574\n",
            "idx 1566\n",
            "idx 160\n"
          ]
        },
        {
          "output_type": "stream",
          "name": "stderr",
          "text": [
            "\n",
            " 65%|██████▌   | 116/178 [37:04<19:42, 19.07s/it]\u001b[A"
          ]
        },
        {
          "output_type": "stream",
          "name": "stdout",
          "text": [
            "idx 394\n",
            "idx 400\n",
            "idx 352\n",
            "idx 346\n"
          ]
        },
        {
          "output_type": "stream",
          "name": "stderr",
          "text": [
            "\n",
            " 66%|██████▌   | 117/178 [37:23<19:22, 19.05s/it]\u001b[A"
          ]
        },
        {
          "output_type": "stream",
          "name": "stdout",
          "text": [
            "idx 20\n",
            "idx 1697\n",
            "idx 786\n",
            "idx 1288\n"
          ]
        },
        {
          "output_type": "stream",
          "name": "stderr",
          "text": [
            "\n",
            " 66%|██████▋   | 118/178 [37:43<19:12, 19.20s/it]\u001b[A"
          ]
        },
        {
          "output_type": "stream",
          "name": "stdout",
          "text": [
            "idx 686\n",
            "idx 1034\n",
            "idx 1442\n",
            "idx 1315\n"
          ]
        },
        {
          "output_type": "stream",
          "name": "stderr",
          "text": [
            "\n",
            " 67%|██████▋   | 119/178 [38:03<18:59, 19.31s/it]\u001b[A"
          ]
        },
        {
          "output_type": "stream",
          "name": "stdout",
          "text": [
            "idx 140\n",
            "idx 881\n",
            "idx 628\n",
            "idx 537\n"
          ]
        },
        {
          "output_type": "stream",
          "name": "stderr",
          "text": [
            "\n",
            " 67%|██████▋   | 120/178 [38:22<18:44, 19.38s/it]\u001b[A"
          ]
        },
        {
          "output_type": "stream",
          "name": "stdout",
          "text": [
            "idx 330\n",
            "idx 578\n",
            "idx 1255\n",
            "idx 135\n"
          ]
        },
        {
          "output_type": "stream",
          "name": "stderr",
          "text": [
            "\n",
            " 68%|██████▊   | 121/178 [38:41<18:17, 19.25s/it]\u001b[A"
          ]
        },
        {
          "output_type": "stream",
          "name": "stdout",
          "text": [
            "idx 568\n",
            "idx 1147\n",
            "idx 1589\n",
            "idx 1154\n"
          ]
        },
        {
          "output_type": "stream",
          "name": "stderr",
          "text": [
            "\n",
            " 69%|██████▊   | 122/178 [39:00<17:53, 19.17s/it]\u001b[A"
          ]
        },
        {
          "output_type": "stream",
          "name": "stdout",
          "text": [
            "idx 1330\n",
            "idx 533\n",
            "idx 223\n",
            "idx 1057\n"
          ]
        },
        {
          "output_type": "stream",
          "name": "stderr",
          "text": [
            "\n",
            " 69%|██████▉   | 123/178 [39:19<17:30, 19.11s/it]\u001b[A"
          ]
        },
        {
          "output_type": "stream",
          "name": "stdout",
          "text": [
            "idx 1623\n",
            "idx 1217\n",
            "idx 896\n",
            "idx 1660\n"
          ]
        },
        {
          "output_type": "stream",
          "name": "stderr",
          "text": [
            "\n",
            " 70%|██████▉   | 124/178 [39:37<17:00, 18.90s/it]\u001b[A"
          ]
        },
        {
          "output_type": "stream",
          "name": "stdout",
          "text": [
            "idx 625\n",
            "idx 354\n",
            "idx 127\n",
            "idx 1607\n"
          ]
        },
        {
          "output_type": "stream",
          "name": "stderr",
          "text": [
            "\n",
            " 70%|███████   | 125/178 [39:56<16:43, 18.93s/it]\u001b[A"
          ]
        },
        {
          "output_type": "stream",
          "name": "stdout",
          "text": [
            "idx 446\n",
            "idx 1129\n",
            "idx 1609\n",
            "idx 1520\n"
          ]
        },
        {
          "output_type": "stream",
          "name": "stderr",
          "text": [
            "\n",
            " 71%|███████   | 126/178 [40:16<16:33, 19.11s/it]\u001b[A"
          ]
        },
        {
          "output_type": "stream",
          "name": "stdout",
          "text": [
            "idx 1038\n",
            "idx 1100\n",
            "idx 1131\n",
            "idx 395\n"
          ]
        },
        {
          "output_type": "stream",
          "name": "stderr",
          "text": [
            "\n",
            " 71%|███████▏  | 127/178 [40:36<16:21, 19.25s/it]\u001b[A"
          ]
        },
        {
          "output_type": "stream",
          "name": "stdout",
          "text": [
            "idx 54\n",
            "idx 1056\n",
            "idx 304\n",
            "idx 650\n"
          ]
        },
        {
          "output_type": "stream",
          "name": "stderr",
          "text": [
            "\n",
            " 72%|███████▏  | 128/178 [40:55<16:07, 19.34s/it]\u001b[A"
          ]
        },
        {
          "output_type": "stream",
          "name": "stdout",
          "text": [
            "idx 0\n",
            "idx 854\n",
            "idx 1377\n",
            "idx 638\n"
          ]
        },
        {
          "output_type": "stream",
          "name": "stderr",
          "text": [
            "\n",
            " 72%|███████▏  | 129/178 [41:14<15:42, 19.23s/it]\u001b[A"
          ]
        },
        {
          "output_type": "stream",
          "name": "stdout",
          "text": [
            "idx 49\n",
            "idx 1444\n",
            "idx 64\n",
            "idx 351\n"
          ]
        },
        {
          "output_type": "stream",
          "name": "stderr",
          "text": [
            "\n",
            " 73%|███████▎  | 130/178 [41:33<15:19, 19.16s/it]\u001b[A"
          ]
        },
        {
          "output_type": "stream",
          "name": "stdout",
          "text": [
            "idx 1294\n",
            "idx 39\n",
            "idx 1198\n",
            "idx 965\n"
          ]
        },
        {
          "output_type": "stream",
          "name": "stderr",
          "text": [
            "\n",
            " 74%|███████▎  | 131/178 [41:53<15:06, 19.28s/it]\u001b[A"
          ]
        },
        {
          "output_type": "stream",
          "name": "stdout",
          "text": [
            "idx 1360\n",
            "idx 1199\n",
            "idx 1320\n",
            "idx 1331\n"
          ]
        },
        {
          "output_type": "stream",
          "name": "stderr",
          "text": [
            "\n",
            " 74%|███████▍  | 132/178 [42:12<14:50, 19.36s/it]\u001b[A"
          ]
        },
        {
          "output_type": "stream",
          "name": "stdout",
          "text": [
            "idx 1314\n",
            "idx 1233\n",
            "idx 727\n",
            "idx 1348\n"
          ]
        },
        {
          "output_type": "stream",
          "name": "stderr",
          "text": [
            "\n",
            " 75%|███████▍  | 133/178 [42:31<14:25, 19.24s/it]\u001b[A"
          ]
        },
        {
          "output_type": "stream",
          "name": "stdout",
          "text": [
            "idx 933\n",
            "idx 1228\n",
            "idx 939\n",
            "idx 374\n"
          ]
        },
        {
          "output_type": "stream",
          "name": "stderr",
          "text": [
            "\n",
            " 75%|███████▌  | 134/178 [42:50<14:03, 19.16s/it]\u001b[A"
          ]
        },
        {
          "output_type": "stream",
          "name": "stdout",
          "text": [
            "idx 131\n",
            "idx 266\n",
            "idx 9\n",
            "idx 484\n"
          ]
        },
        {
          "output_type": "stream",
          "name": "stderr",
          "text": [
            "\n",
            " 76%|███████▌  | 135/178 [43:10<13:49, 19.28s/it]\u001b[A"
          ]
        },
        {
          "output_type": "stream",
          "name": "stdout",
          "text": [
            "idx 503\n",
            "idx 1460\n",
            "idx 170\n",
            "idx 2\n"
          ]
        },
        {
          "output_type": "stream",
          "name": "stderr",
          "text": [
            "\n",
            " 76%|███████▋  | 136/178 [43:29<13:33, 19.36s/it]\u001b[A"
          ]
        },
        {
          "output_type": "stream",
          "name": "stdout",
          "text": [
            "idx 4\n",
            "idx 1674\n",
            "idx 589\n",
            "idx 1438\n"
          ]
        },
        {
          "output_type": "stream",
          "name": "stderr",
          "text": [
            "\n",
            " 77%|███████▋  | 137/178 [43:49<13:16, 19.41s/it]\u001b[A"
          ]
        },
        {
          "output_type": "stream",
          "name": "stdout",
          "text": [
            "idx 1279\n",
            "idx 1588\n",
            "idx 1304\n",
            "idx 393\n"
          ]
        },
        {
          "output_type": "stream",
          "name": "stderr",
          "text": [
            "\n",
            " 78%|███████▊  | 138/178 [44:08<12:50, 19.27s/it]\u001b[A"
          ]
        },
        {
          "output_type": "stream",
          "name": "stdout",
          "text": [
            "idx 928\n",
            "idx 739\n",
            "idx 274\n",
            "idx 1306\n"
          ]
        },
        {
          "output_type": "stream",
          "name": "stderr",
          "text": [
            "\n",
            " 78%|███████▊  | 139/178 [44:27<12:28, 19.19s/it]\u001b[A"
          ]
        },
        {
          "output_type": "stream",
          "name": "stdout",
          "text": [
            "idx 614\n",
            "idx 675\n",
            "idx 216\n",
            "idx 772\n"
          ]
        },
        {
          "output_type": "stream",
          "name": "stderr",
          "text": [
            "\n",
            " 79%|███████▊  | 140/178 [44:46<12:13, 19.30s/it]\u001b[A"
          ]
        },
        {
          "output_type": "stream",
          "name": "stdout",
          "text": [
            "idx 1115\n",
            "idx 184\n",
            "idx 1486\n",
            "idx 340\n"
          ]
        },
        {
          "output_type": "stream",
          "name": "stderr",
          "text": [
            "\n",
            " 79%|███████▉  | 141/178 [45:05<11:50, 19.20s/it]\u001b[A"
          ]
        },
        {
          "output_type": "stream",
          "name": "stdout",
          "text": [
            "idx 1636\n",
            "idx 91\n",
            "idx 173\n",
            "idx 563\n"
          ]
        },
        {
          "output_type": "stream",
          "name": "stderr",
          "text": [
            "\n",
            " 80%|███████▉  | 142/178 [45:24<11:28, 19.14s/it]\u001b[A"
          ]
        },
        {
          "output_type": "stream",
          "name": "stdout",
          "text": [
            "idx 702\n",
            "idx 1517\n",
            "idx 363\n",
            "idx 425\n"
          ]
        },
        {
          "output_type": "stream",
          "name": "stderr",
          "text": [
            "\n",
            " 80%|████████  | 143/178 [45:43<11:08, 19.09s/it]\u001b[A"
          ]
        },
        {
          "output_type": "stream",
          "name": "stdout",
          "text": [
            "idx 1058\n",
            "idx 1696\n",
            "idx 79\n",
            "idx 632\n"
          ]
        },
        {
          "output_type": "stream",
          "name": "stderr",
          "text": [
            "\n",
            " 81%|████████  | 144/178 [46:02<10:48, 19.06s/it]\u001b[A"
          ]
        },
        {
          "output_type": "stream",
          "name": "stdout",
          "text": [
            "idx 902\n",
            "idx 1581\n",
            "idx 1325\n",
            "idx 48\n"
          ]
        },
        {
          "output_type": "stream",
          "name": "stderr",
          "text": [
            "\n",
            " 81%|████████▏ | 145/178 [46:21<10:28, 19.03s/it]\u001b[A"
          ]
        },
        {
          "output_type": "stream",
          "name": "stdout",
          "text": [
            "idx 265\n",
            "idx 313\n",
            "idx 21\n",
            "idx 1479\n"
          ]
        },
        {
          "output_type": "stream",
          "name": "stderr",
          "text": [
            "\n",
            " 82%|████████▏ | 146/178 [46:40<10:08, 19.02s/it]\u001b[A"
          ]
        },
        {
          "output_type": "stream",
          "name": "stdout",
          "text": [
            "idx 776\n",
            "idx 1362\n",
            "idx 1244\n",
            "idx 711\n"
          ]
        },
        {
          "output_type": "stream",
          "name": "stderr",
          "text": [
            "\n",
            " 83%|████████▎ | 147/178 [46:59<09:48, 19.00s/it]\u001b[A"
          ]
        },
        {
          "output_type": "stream",
          "name": "stdout",
          "text": [
            "idx 1400\n",
            "idx 322\n",
            "idx 217\n",
            "idx 492\n"
          ]
        },
        {
          "output_type": "stream",
          "name": "stderr",
          "text": [
            "\n",
            " 83%|████████▎ | 148/178 [47:18<09:29, 18.99s/it]\u001b[A"
          ]
        },
        {
          "output_type": "stream",
          "name": "stdout",
          "text": [
            "idx 601\n",
            "idx 779\n",
            "idx 627\n",
            "idx 935\n"
          ]
        },
        {
          "output_type": "stream",
          "name": "stderr",
          "text": [
            "\n",
            " 84%|████████▎ | 149/178 [47:38<09:15, 19.16s/it]\u001b[A"
          ]
        },
        {
          "output_type": "stream",
          "name": "stdout",
          "text": [
            "idx 660\n",
            "idx 1546\n",
            "idx 283\n",
            "idx 273\n"
          ]
        },
        {
          "output_type": "stream",
          "name": "stderr",
          "text": [
            "\n",
            " 84%|████████▍ | 150/178 [47:57<08:59, 19.28s/it]\u001b[A"
          ]
        },
        {
          "output_type": "stream",
          "name": "stdout",
          "text": [
            "idx 1083\n",
            "idx 1448\n",
            "idx 7\n",
            "idx 825\n"
          ]
        },
        {
          "output_type": "stream",
          "name": "stderr",
          "text": [
            "\n",
            " 85%|████████▍ | 151/178 [48:17<08:42, 19.36s/it]\u001b[A"
          ]
        },
        {
          "output_type": "stream",
          "name": "stdout",
          "text": [
            "idx 1343\n",
            "idx 1501\n",
            "idx 1602\n",
            "idx 757\n"
          ]
        },
        {
          "output_type": "stream",
          "name": "stderr",
          "text": [
            "\n",
            " 85%|████████▌ | 152/178 [48:36<08:20, 19.24s/it]\u001b[A"
          ]
        },
        {
          "output_type": "stream",
          "name": "stdout",
          "text": [
            "idx 258\n",
            "idx 754\n",
            "idx 1388\n",
            "idx 871\n"
          ]
        },
        {
          "output_type": "stream",
          "name": "stderr",
          "text": [
            "\n",
            " 86%|████████▌ | 153/178 [48:55<07:59, 19.16s/it]\u001b[A"
          ]
        },
        {
          "output_type": "stream",
          "name": "stdout",
          "text": [
            "idx 112\n",
            "idx 1505\n",
            "idx 93\n",
            "idx 1167\n"
          ]
        },
        {
          "output_type": "stream",
          "name": "stderr",
          "text": [
            "\n",
            " 87%|████████▋ | 154/178 [49:14<07:38, 19.10s/it]\u001b[A"
          ]
        },
        {
          "output_type": "stream",
          "name": "stdout",
          "text": [
            "idx 1339\n",
            "idx 512\n",
            "idx 1334\n",
            "idx 1028\n"
          ]
        },
        {
          "output_type": "stream",
          "name": "stderr",
          "text": [
            "\n",
            " 87%|████████▋ | 155/178 [49:33<07:18, 19.07s/it]\u001b[A"
          ]
        },
        {
          "output_type": "stream",
          "name": "stdout",
          "text": [
            "idx 159\n",
            "idx 1185\n",
            "idx 1639\n",
            "idx 1223\n"
          ]
        },
        {
          "output_type": "stream",
          "name": "stderr",
          "text": [
            "\n",
            " 88%|████████▊ | 156/178 [49:52<06:58, 19.03s/it]\u001b[A"
          ]
        },
        {
          "output_type": "stream",
          "name": "stdout",
          "text": [
            "idx 616\n",
            "idx 1177\n",
            "idx 1468\n",
            "idx 731\n"
          ]
        },
        {
          "output_type": "stream",
          "name": "stderr",
          "text": [
            "\n",
            " 88%|████████▊ | 157/178 [50:10<06:35, 18.84s/it]\u001b[A"
          ]
        },
        {
          "output_type": "stream",
          "name": "stdout",
          "text": [
            "idx 450\n",
            "idx 1321\n",
            "idx 582\n",
            "idx 1267\n"
          ]
        },
        {
          "output_type": "stream",
          "name": "stderr",
          "text": [
            "\n",
            " 89%|████████▉ | 158/178 [50:29<06:17, 18.88s/it]\u001b[A"
          ]
        },
        {
          "output_type": "stream",
          "name": "stdout",
          "text": [
            "idx 1220\n",
            "idx 1641\n",
            "idx 1583\n",
            "idx 452\n"
          ]
        },
        {
          "output_type": "stream",
          "name": "stderr",
          "text": [
            "\n",
            " 89%|████████▉ | 159/178 [50:48<06:02, 19.08s/it]\u001b[A"
          ]
        },
        {
          "output_type": "stream",
          "name": "stdout",
          "text": [
            "idx 13\n",
            "idx 927\n",
            "idx 679\n",
            "idx 399\n"
          ]
        },
        {
          "output_type": "stream",
          "name": "stderr",
          "text": [
            "\n",
            " 90%|████████▉ | 160/178 [51:08<05:45, 19.22s/it]\u001b[A"
          ]
        },
        {
          "output_type": "stream",
          "name": "stdout",
          "text": [
            "idx 861\n",
            "idx 133\n",
            "idx 1051\n",
            "idx 1134\n"
          ]
        },
        {
          "output_type": "stream",
          "name": "stderr",
          "text": [
            "\n",
            " 90%|█████████ | 161/178 [51:27<05:23, 19.05s/it]\u001b[A"
          ]
        },
        {
          "output_type": "stream",
          "name": "stdout",
          "text": [
            "idx 744\n",
            "idx 1010\n",
            "idx 1351\n",
            "idx 1494\n"
          ]
        },
        {
          "output_type": "stream",
          "name": "stderr",
          "text": [
            "\n",
            " 91%|█████████ | 162/178 [51:45<05:00, 18.81s/it]\u001b[A"
          ]
        },
        {
          "output_type": "stream",
          "name": "stdout",
          "text": [
            "idx 784\n",
            "idx 396\n",
            "idx 1492\n",
            "idx 430\n"
          ]
        },
        {
          "output_type": "stream",
          "name": "stderr",
          "text": [
            "\n",
            " 92%|█████████▏| 163/178 [52:04<04:43, 18.87s/it]\u001b[A"
          ]
        },
        {
          "output_type": "stream",
          "name": "stdout",
          "text": [
            "idx 249\n",
            "idx 571\n",
            "idx 663\n",
            "idx 1296\n"
          ]
        },
        {
          "output_type": "stream",
          "name": "stderr",
          "text": [
            "\n",
            " 92%|█████████▏| 164/178 [52:23<04:27, 19.08s/it]\u001b[A"
          ]
        },
        {
          "output_type": "stream",
          "name": "stdout",
          "text": [
            "idx 321\n",
            "idx 194\n",
            "idx 30\n",
            "idx 164\n"
          ]
        },
        {
          "output_type": "stream",
          "name": "stderr",
          "text": [
            "\n",
            " 93%|█████████▎| 165/178 [52:43<04:09, 19.22s/it]\u001b[A"
          ]
        },
        {
          "output_type": "stream",
          "name": "stdout",
          "text": [
            "idx 122\n",
            "idx 231\n",
            "idx 1369\n",
            "idx 1250\n"
          ]
        },
        {
          "output_type": "stream",
          "name": "stderr",
          "text": [
            "\n",
            " 93%|█████████▎| 166/178 [53:03<03:51, 19.32s/it]\u001b[A"
          ]
        },
        {
          "output_type": "stream",
          "name": "stdout",
          "text": [
            "idx 850\n",
            "idx 610\n",
            "idx 1604\n",
            "idx 1003\n"
          ]
        },
        {
          "output_type": "stream",
          "name": "stderr",
          "text": [
            "\n",
            " 94%|█████████▍| 167/178 [53:22<03:33, 19.39s/it]\u001b[A"
          ]
        },
        {
          "output_type": "stream",
          "name": "stdout",
          "text": [
            "idx 319\n",
            "idx 1411\n",
            "idx 1363\n",
            "idx 778\n"
          ]
        },
        {
          "output_type": "stream",
          "name": "stderr",
          "text": [
            "\n",
            " 94%|█████████▍| 168/178 [53:42<03:14, 19.44s/it]\u001b[A"
          ]
        },
        {
          "output_type": "stream",
          "name": "stdout",
          "text": [
            "idx 740\n",
            "idx 188\n",
            "idx 248\n",
            "idx 80\n"
          ]
        },
        {
          "output_type": "stream",
          "name": "stderr",
          "text": [
            "\n",
            " 95%|█████████▍| 169/178 [54:01<02:55, 19.47s/it]\u001b[A"
          ]
        },
        {
          "output_type": "stream",
          "name": "stdout",
          "text": [
            "idx 920\n",
            "idx 496\n",
            "idx 379\n",
            "idx 392\n"
          ]
        },
        {
          "output_type": "stream",
          "name": "stderr",
          "text": [
            "\n",
            " 96%|█████████▌| 170/178 [54:21<02:35, 19.50s/it]\u001b[A"
          ]
        },
        {
          "output_type": "stream",
          "name": "stdout",
          "text": [
            "idx 1301\n",
            "idx 229\n",
            "idx 422\n",
            "idx 1440\n"
          ]
        },
        {
          "output_type": "stream",
          "name": "stderr",
          "text": [
            "\n",
            " 96%|█████████▌| 171/178 [54:40<02:15, 19.33s/it]\u001b[A"
          ]
        },
        {
          "output_type": "stream",
          "name": "stdout",
          "text": [
            "idx 562\n",
            "idx 364\n",
            "idx 1061\n",
            "idx 1574\n"
          ]
        },
        {
          "output_type": "stream",
          "name": "stderr",
          "text": [
            "\n",
            " 97%|█████████▋| 172/178 [54:59<01:55, 19.23s/it]\u001b[A"
          ]
        },
        {
          "output_type": "stream",
          "name": "stdout",
          "text": [
            "idx 839\n",
            "idx 1450\n",
            "idx 709\n",
            "idx 1270\n"
          ]
        },
        {
          "output_type": "stream",
          "name": "stderr",
          "text": [
            "\n",
            " 97%|█████████▋| 173/178 [55:18<01:36, 19.33s/it]\u001b[A"
          ]
        },
        {
          "output_type": "stream",
          "name": "stdout",
          "text": [
            "idx 509\n",
            "idx 185\n",
            "idx 972\n",
            "idx 456\n"
          ]
        },
        {
          "output_type": "stream",
          "name": "stderr",
          "text": [
            "\n",
            " 98%|█████████▊| 174/178 [55:37<01:16, 19.22s/it]\u001b[A"
          ]
        },
        {
          "output_type": "stream",
          "name": "stdout",
          "text": [
            "idx 1026\n",
            "idx 724\n",
            "idx 796\n",
            "idx 357\n"
          ]
        },
        {
          "output_type": "stream",
          "name": "stderr",
          "text": [
            "\n",
            " 98%|█████████▊| 175/178 [55:56<00:57, 19.15s/it]\u001b[A"
          ]
        },
        {
          "output_type": "stream",
          "name": "stdout",
          "text": [
            "idx 864\n",
            "idx 596\n",
            "idx 1391\n",
            "idx 222\n"
          ]
        },
        {
          "output_type": "stream",
          "name": "stderr",
          "text": [
            "\n",
            " 99%|█████████▉| 176/178 [56:16<00:38, 19.27s/it]\u001b[A"
          ]
        },
        {
          "output_type": "stream",
          "name": "stdout",
          "text": [
            "idx 1025\n",
            "idx 774\n",
            "idx 987\n",
            "idx 991\n"
          ]
        },
        {
          "output_type": "stream",
          "name": "stderr",
          "text": [
            "\n",
            " 99%|█████████▉| 177/178 [56:35<00:19, 19.35s/it]\u001b[A"
          ]
        },
        {
          "output_type": "stream",
          "name": "stdout",
          "text": [
            "idx 3\n",
            "idx 1488\n",
            "idx 1694\n",
            "idx 1415\n"
          ]
        },
        {
          "output_type": "stream",
          "name": "stderr",
          "text": [
            "\n",
            "100%|██████████| 178/178 [56:54<00:00, 19.18s/it]\n",
            "100%|██████████| 1/1 [57:03<00:00, 3423.98s/it]"
          ]
        },
        {
          "output_type": "stream",
          "name": "stdout",
          "text": [
            "Loss = 1.4019 \n",
            "-----------------------------Сохранение модели---------------------------------------\n"
          ]
        },
        {
          "output_type": "stream",
          "name": "stderr",
          "text": [
            "\n"
          ]
        }
      ]
    }
  ]
}